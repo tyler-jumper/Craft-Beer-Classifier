{
 "cells": [
  {
   "cell_type": "code",
   "execution_count": 1,
   "metadata": {},
   "outputs": [],
   "source": [
    "from selenium import webdriver\n",
    "from selenium.webdriver.support.wait import WebDriverWait\n",
    "from selenium.webdriver import ActionChains\n",
    "from selenium.common.exceptions import NoSuchElementException\n",
    "from selenium.webdriver.common.by import By\n",
    "from selenium.webdriver.support import expected_conditions as EC\n",
    "import pandas as pd"
   ]
  },
  {
   "cell_type": "code",
   "execution_count": 22,
   "metadata": {},
   "outputs": [
    {
     "name": "stderr",
     "output_type": "stream",
     "text": [
      "C:\\Users\\612456\\AppData\\Local\\Temp\\8\\ipykernel_27944\\1163545599.py:2: DeprecationWarning: executable_path has been deprecated, please pass in a Service object\n",
      "  driver = webdriver.Chrome(r'C:\\Users\\612456\\Downloads\\chromedriver_win32\\chromedriver.exe')     #sets up chrome driver\n"
     ]
    }
   ],
   "source": [
    "url = 'https://untappd.com/brewery/top_rated?country=united-states&brewery_type=regional_brewery'\n",
    "driver = webdriver.Chrome(r'C:\\Users\\612456\\Downloads\\chromedriver_win32\\chromedriver.exe')     #sets up chrome driver\n",
    "driver.get(url)   #activates url (brings website up)"
   ]
  },
  {
   "cell_type": "code",
   "execution_count": null,
   "metadata": {},
   "outputs": [],
   "source": []
  },
  {
   "cell_type": "code",
   "execution_count": 25,
   "metadata": {},
   "outputs": [],
   "source": [
    "# all these urls are breweries' beer lists\n",
    "urls = ['https://untappd.com/VanishBeer/beer','https://untappd.com/TrilliumBrewing/beer', 'https://untappd.com/treehousebrewco/beer',\n",
    "        'https://untappd.com/SaltyTurtleBeerCompany/beer', 'https://untappd.com/BearChaseBrewingCompany/beer','https://untappd.com/TexasLeaguer/beer',\n",
    "        'https://untappd.com/WillowParkBrewing/beer','https://untappd.com/PipsMeadery/beer','https://untappd.com/EskerHartBrewingCompany/beer',\n",
    "        'https://untappd.com/prolyfk/beer','https://untappd.com/Marlobobo/beer', 'https://untappd.com/EmperorsBrewery/beer',\n",
    "        'https://untappd.com/SideProject/beer', 'https://untappd.com/troobado/beer', 'https://untappd.com/w/private-press-brewing/472291/beer', \n",
    "        'https://untappd.com/w/fidens-brewing-co/426930/beer', 'https://untappd.com/MindfulAles/beer', 'https://untappd.com/rootandbranchbrewing/beer'\n",
    "        'https://untappd.com/WeaverHollowBrewery/beer', 'https://untappd.com/FreakFolkBier/beer', 'https://untappd.com/HorusAles/beer', \n",
    "        'https://untappd.com/CaseyBrewingBlending/beer', 'https://untappd.com/HouseofFermentology/beer', 'https://untappd.com/treehousebrewco/beer', \n",
    "        'https://untappd.com/barclaybrewingco/beer', 'https://untappd.com/Alchemist_Beer/beer', 'https://untappd.com/HillFarmsteadBrewery/beer',\n",
    "        'https://untappd.com/monkishbrewing/beer','https://untappd.com/topplinggoliathbrewing/beer', 'https://untappd.com/OldNationBrewingCompany/beer',\n",
    "        'https://untappd.com/PrairieArtisanAles/beer', 'https://untappd.com/fiddlehead/beer', 'https://untappd.com/NewEnglandBrewingCo/beer', \n",
    "        'https://untappd.com/fremontbrewing/beer', 'https://untappd.com/RevisionBrewingCompany/beer', 'https://untappd.com/JackieOsBrewery/beer',\n",
    "        'https://untappd.com/westbrookbrewing/beer', 'https://untappd.com/creaturecomforts/beer', 'https://untappd.com/LaCumbreBrewingCompany/beer',\n",
    "        'https://untappd.com/SurlyBrewingCompany/beer','https://untappd.com/pfriembeer/beer','https://untappd.com/RevolutionBrewingChicago/beer',\n",
    "        'https://untappd.com/NewGlarusBrewingCompany/beer','https://untappd.com/halfacrebeer/beer','https://untappd.com/TheStarkeller/beer',\n",
    "        'https://untappd.com/HenHouseBrewing/beer','https://untappd.com/MelvinBrewing/beer','https://untappd.com/AlpineBeerCo/beer',\n",
    "        'https://untappd.com/Rhinegeist/beer','https://untappd.com/hardywood/beer', 'https://untappd.com/portcitybrewing/beer'] "
   ]
  },
  {
   "cell_type": "code",
   "execution_count": 26,
   "metadata": {},
   "outputs": [
    {
     "name": "stdout",
     "output_type": "stream",
     "text": [
      "Number of different Breweries:  50\n"
     ]
    }
   ],
   "source": [
    "print('Number of different Breweries: ',len(urls))\n",
    "#I accidenty added a meadery, that can either be good or bad tbh but just noting tgis so I don't forget it"
   ]
  },
  {
   "cell_type": "code",
   "execution_count": 27,
   "metadata": {},
   "outputs": [],
   "source": [
    "name_ls = []\n",
    "style_ls = []\n",
    "desc_ls = []\n",
    "abv_ls = []\n",
    "ibu_ls = []"
   ]
  },
  {
   "cell_type": "code",
   "execution_count": null,
   "metadata": {},
   "outputs": [],
   "source": []
  },
  {
   "cell_type": "code",
   "execution_count": 28,
   "metadata": {},
   "outputs": [
    {
     "name": "stderr",
     "output_type": "stream",
     "text": [
      "C:\\Users\\612456\\AppData\\Local\\Temp\\8\\ipykernel_27944\\789644729.py:3: DeprecationWarning: executable_path has been deprecated, please pass in a Service object\n",
      "  driver = webdriver.Chrome(r'C:\\Users\\612456\\Downloads\\chromedriver_win32\\chromedriver.exe')     #sets up chrome driver\n",
      "C:\\Users\\612456\\AppData\\Local\\Temp\\8\\ipykernel_27944\\789644729.py:5: DeprecationWarning: find_elements_by_css_selector is deprecated. Please use find_elements(by=By.CSS_SELECTOR, value=css_selector) instead\n",
      "  beers = driver.find_elements_by_css_selector('div.beer-item')     #finds each individual beer and sets it to a \"list\" of beers\n",
      "C:\\Users\\612456\\AppData\\Local\\Programs\\Python\\Python310\\lib\\site-packages\\selenium\\webdriver\\remote\\webelement.py:484: UserWarning: find_element_by_css_selector is deprecated. Please use find_element(by=By.CSS_SELECTOR, value=css_selector) instead\n",
      "  warnings.warn(\"find_element_by_css_selector is deprecated. Please use find_element(by=By.CSS_SELECTOR, value=css_selector) instead\")\n",
      "C:\\Users\\612456\\AppData\\Local\\Programs\\Python\\Python310\\lib\\site-packages\\selenium\\webdriver\\remote\\webelement.py:393: UserWarning: find_element_by_xpath is deprecated. Please use find_element(by=By.XPATH, value=xpath) instead\n",
      "  warnings.warn(\"find_element_by_xpath is deprecated. Please use find_element(by=By.XPATH, value=xpath) instead\")\n"
     ]
    },
    {
     "name": "stdout",
     "output_type": "stream",
     "text": [
      "Name:  Ghost Fleet \n",
      "Style: IPA - American \n",
      "ABV:  7.1% ABV \n",
      "IBU:  N/A IBU \n",
      "Description:  This is our house IPA. It is hugely hoppy with fruity aromatics from Amarillo and Simcoe hops. A hazy and unfiltered beer with a smooth finish. \n",
      "\n",
      "------------\n",
      "\n",
      "Name:  Fat Boys \n",
      "Style: IPA - Imperial / Double \n",
      "ABV:  8.5% ABV \n",
      "IBU:  N/A IBU \n",
      "Description:  This is our Double IPA. It features bold fruity aromatics commonly associate with American IPAs. It contains a ton of hops including Citra and Equinox. As far as DIPAs go this one is light-bodied with an easy finish \n",
      "\n",
      "------------\n",
      "\n",
      "Name:  Wraith \n",
      "Style: Wheat Beer - Witbier / Blanche \n",
      "ABV:  5.3% ABV \n",
      "IBU:  N/A IBU \n",
      "Description:  Wraith is a Belgian Style Witbier that provides you with notes of citrus, chamomile and coriander. \n",
      "\n",
      "------------\n",
      "\n",
      "Name:  Lucketts Calling \n",
      "Style: IPA - American \n",
      "ABV:  6.3% ABV \n",
      "IBU:  N/A IBU \n",
      "Description:  A hazy IPA with big fruity hop flavors and almost no bitterness. \n",
      "\n",
      "------------\n",
      "\n",
      "Name:  Beyond The Farm \n",
      "Style: IPA - American \n",
      "ABV:  6.8% ABV \n",
      "IBU:  N/A IBU \n",
      "Description:  Relying on the citrusy Summit, Citra, and Centennial hops, this beer starts as a straight American IPA. We take it a step further with some real Ruby Red grapefruit juice. This gives our GIPA a unique color with the unmistakable flavor and aroma of grapefruit \n",
      "\n",
      "------------\n",
      "\n",
      "Name:  Juicy Tangerine \n",
      "Style: Sour - Other \n",
      "ABV:  5.5% ABV \n",
      "IBU:  N/A IBU \n",
      "Description:  A tart witbier that is kettle-soured and made with real Tangerine juice. \n",
      "\n",
      "------------\n",
      "\n",
      "Name:  Milk Stout \n",
      "Style: Stout - Milk / Sweet \n",
      "ABV:  5.8% ABV \n",
      "IBU:  N/A IBU \n",
      "Description:  Up front sweetness and silky texture rounded out by dry bittersweet chocolate tones. This one is going to come through like delicious chocolate milk \n",
      "\n",
      "------------\n",
      "\n",
      "Name:  Waves \n",
      "Style: Red Ale - American Amber / Red \n",
      "ABV:  5.2% ABV \n",
      "IBU:  N/A IBU \n",
      "Description:  A traditional American Amber Ale. Easy drinking beer with delicious maltiness. \n",
      "\n",
      "------------\n",
      "\n",
      "Name:  River Run \n",
      "Style: Stout - Imperial / Double \n",
      "ABV:  12.8% ABV \n",
      "IBU:  N/A IBU \n",
      "Description:  Imperial Stout aged in whiskey barrels and released once a year. The rich chocolate notes are balanced by the oak flavors of the barrel. \n",
      "\n",
      "------------\n",
      "\n",
      "Name:  Farmhouse Table Ale \n",
      "Style: Farmhouse Ale - Saison \n",
      "ABV:  4% ABV \n",
      "IBU:  N/A IBU \n",
      "Description:  A very light farmhouse beer traditionally served at mealtimes. Our table beer is decidedly crisp with fruit aromas and a little funk. \n",
      "\n",
      "------------\n",
      "\n",
      "Name:  Lucketts Store Light \n",
      "Style: Pilsner - German \n",
      "ABV:  4.5% ABV \n",
      "IBU:  N/A IBU \n",
      "Description:  An easy drinking pilsner style lager. \n",
      "\n",
      "------------\n",
      "\n",
      "Name:  Mango Tango Smoothie \n",
      "Style: Fruit Beer \n",
      "ABV:  7.1% ABV \n",
      "IBU:  N/A IBU \n",
      "Description:  A creamy full-bodied beer bursting with fruit flavor. This entry in our Smoothie Series features Mango and Tangerine. \n",
      "\n",
      "------------\n",
      "\n",
      "Name:  Very Berry Smoothie \n",
      "Style: Sour - Smoothie / Pastry \n",
      "ABV:  6.2% ABV \n",
      "IBU:  N/A IBU \n",
      "Description:  A mixed variety of our tangy fruit Smoothie Series! \n",
      "\n",
      "------------\n",
      "\n",
      "Name:  Fire Emoji IPA \n",
      "Style: IPA - New England / Hazy \n",
      "ABV:  6.6% ABV \n",
      "IBU:  N/A IBU \n",
      "Description:   \n",
      "\n",
      "------------\n",
      "\n",
      "Name:  Cabernet Stout \n",
      "Style: Stout - Foreign / Export \n",
      "ABV:  8% ABV \n",
      "IBU:  N/A IBU \n",
      "Description:  A dry Belgian style stout with complex grape and berry notes, chocolate flavors, and wine tannins. Fermented with syrah and black current juices and aged 5 months in Virginia Cabernet Franc barrels \n",
      "\n",
      "------------\n",
      "\n",
      "Name:  La Hacienda \n",
      "Style: Lager - Pale \n",
      "ABV:  5% ABV \n",
      "IBU:  N/A IBU \n",
      "Description:  A traditional Mexican style lager. Clean, Smooth, and can be served with a lime. \n",
      "\n",
      "------------\n",
      "\n",
      "Name:  Far Far Away IPA \n",
      "Style: IPA - New England / Hazy \n",
      "ABV:  6.6% ABV \n",
      "IBU:  N/A IBU \n",
      "Description:  A juicy IPA with Galaxy Hops \n",
      "\n",
      "------------\n",
      "\n",
      "Name:  Mango Smoothie \n",
      "Style: Fruit Beer \n",
      "ABV:  7.1% ABV \n",
      "IBU:  N/A IBU \n",
      "Description:   \n",
      "\n",
      "------------\n",
      "\n",
      "Name:  Orange Blossom Saison \n",
      "Style: Farmhouse Ale - Saison \n",
      "ABV:  6% ABV \n",
      "IBU:  N/A IBU \n",
      "Description:  Our spring saison made with citrus zest and honey from Florida's orange groves. \n",
      "\n",
      "------------\n",
      "\n",
      "Name:  Star Man \n",
      "Style: IPA - American \n",
      "ABV:  6.8% ABV \n",
      "IBU:  N/A IBU \n",
      "Description:  A blend of lactose IPA and fruity sour IPA, generously dry hopped with galaxy hops and a touch of Vanilla. \n",
      "\n",
      "------------\n",
      "\n",
      "Name:  Strawberry Blonde \n",
      "Style: Belgian Blonde \n",
      "ABV:  5.4% ABV \n",
      "IBU:  N/A IBU \n",
      "Description:  A Belgian style blonde Ale infused with fresh strawberries. Light, crisp, and refreshing. \n",
      "\n",
      "------------\n",
      "\n",
      "Name:  Imperial Ghost Fleet IV \n",
      "Style: IPA - Imperial / Double \n",
      "ABV:  8.9% ABV \n",
      "IBU:  N/A IBU \n",
      "Description:   \n",
      "\n",
      "------------\n",
      "\n",
      "Name:  Cherry Blossom \n",
      "Style: Belgian Blonde \n",
      "ABV:  6.2% ABV \n",
      "IBU:  N/A IBU \n",
      "Description:  Our annual celebration of spring in the DC area. A Belgian Single accented with tart cherries. \n",
      "\n",
      "------------\n",
      "\n",
      "Name:  Piña Guava \n",
      "Style: Cider - Other Fruit \n",
      "ABV:  6.7% ABV \n",
      "IBU:  N/A IBU \n",
      "Description:  No rum needed for this tropical blend of pineapple and guava. This year-round easy drinker can be enjoyed in the warmth of your home on a snowy day or in the shade of a hammock during the middle of summer \n",
      "\n",
      "------------\n",
      "\n",
      "Name:  Spring Lager \n",
      "Style: Bock - Hell / Maibock / Lentebock \n",
      "ABV:  6.8% ABV \n",
      "IBU:  N/A IBU \n",
      "Description:  A classic German style Maibock with Lemondrop and Citra hops to add a nice citrus balance. \n",
      "\n",
      "------------\n",
      "\n"
     ]
    },
    {
     "ename": "KeyboardInterrupt",
     "evalue": "",
     "output_type": "error",
     "traceback": [
      "\u001b[1;31m---------------------------------------------------------------------------\u001b[0m",
      "\u001b[1;31mKeyboardInterrupt\u001b[0m                         Traceback (most recent call last)",
      "Input \u001b[1;32mIn [28]\u001b[0m, in \u001b[0;36m<cell line: 1>\u001b[1;34m()\u001b[0m\n\u001b[0;32m     10\u001b[0m beer_det\u001b[38;5;241m.\u001b[39mlocation_once_scrolled_into_view\n\u001b[0;32m     11\u001b[0m \u001b[38;5;28;01mtry\u001b[39;00m:\n\u001b[1;32m---> 12\u001b[0m     \u001b[43mbeer_det\u001b[49m\u001b[38;5;241;43m.\u001b[39;49m\u001b[43mfind_element_by_css_selector\u001b[49m\u001b[43m(\u001b[49m\u001b[38;5;124;43m'\u001b[39;49m\u001b[38;5;124;43ma.read-more-beerlist.track-click\u001b[39;49m\u001b[38;5;124;43m'\u001b[39;49m\u001b[43m)\u001b[49m\u001b[38;5;241;43m.\u001b[39;49m\u001b[43mclick\u001b[49m\u001b[43m(\u001b[49m\u001b[43m)\u001b[49m\n\u001b[0;32m     13\u001b[0m \u001b[38;5;28;01mexcept\u001b[39;00m NoSuchElementException:\n\u001b[0;32m     14\u001b[0m     \u001b[38;5;28;01mcontinue\u001b[39;00m\n",
      "File \u001b[1;32m~\\AppData\\Local\\Programs\\Python\\Python310\\lib\\site-packages\\selenium\\webdriver\\remote\\webelement.py:81\u001b[0m, in \u001b[0;36mWebElement.click\u001b[1;34m(self)\u001b[0m\n\u001b[0;32m     79\u001b[0m \u001b[38;5;28;01mdef\u001b[39;00m \u001b[38;5;21mclick\u001b[39m(\u001b[38;5;28mself\u001b[39m) \u001b[38;5;241m-\u001b[39m\u001b[38;5;241m>\u001b[39m \u001b[38;5;28;01mNone\u001b[39;00m:\n\u001b[0;32m     80\u001b[0m     \u001b[38;5;124;03m\"\"\"Clicks the element.\"\"\"\u001b[39;00m\n\u001b[1;32m---> 81\u001b[0m     \u001b[38;5;28;43mself\u001b[39;49m\u001b[38;5;241;43m.\u001b[39;49m\u001b[43m_execute\u001b[49m\u001b[43m(\u001b[49m\u001b[43mCommand\u001b[49m\u001b[38;5;241;43m.\u001b[39;49m\u001b[43mCLICK_ELEMENT\u001b[49m\u001b[43m)\u001b[49m\n",
      "File \u001b[1;32m~\\AppData\\Local\\Programs\\Python\\Python310\\lib\\site-packages\\selenium\\webdriver\\remote\\webelement.py:710\u001b[0m, in \u001b[0;36mWebElement._execute\u001b[1;34m(self, command, params)\u001b[0m\n\u001b[0;32m    708\u001b[0m     params \u001b[38;5;241m=\u001b[39m {}\n\u001b[0;32m    709\u001b[0m params[\u001b[38;5;124m'\u001b[39m\u001b[38;5;124mid\u001b[39m\u001b[38;5;124m'\u001b[39m] \u001b[38;5;241m=\u001b[39m \u001b[38;5;28mself\u001b[39m\u001b[38;5;241m.\u001b[39m_id\n\u001b[1;32m--> 710\u001b[0m \u001b[38;5;28;01mreturn\u001b[39;00m \u001b[38;5;28;43mself\u001b[39;49m\u001b[38;5;241;43m.\u001b[39;49m\u001b[43m_parent\u001b[49m\u001b[38;5;241;43m.\u001b[39;49m\u001b[43mexecute\u001b[49m\u001b[43m(\u001b[49m\u001b[43mcommand\u001b[49m\u001b[43m,\u001b[49m\u001b[43m \u001b[49m\u001b[43mparams\u001b[49m\u001b[43m)\u001b[49m\n",
      "File \u001b[1;32m~\\AppData\\Local\\Programs\\Python\\Python310\\lib\\site-packages\\selenium\\webdriver\\remote\\webdriver.py:423\u001b[0m, in \u001b[0;36mWebDriver.execute\u001b[1;34m(self, driver_command, params)\u001b[0m\n\u001b[0;32m    420\u001b[0m         params[\u001b[38;5;124m'\u001b[39m\u001b[38;5;124msessionId\u001b[39m\u001b[38;5;124m'\u001b[39m] \u001b[38;5;241m=\u001b[39m \u001b[38;5;28mself\u001b[39m\u001b[38;5;241m.\u001b[39msession_id\n\u001b[0;32m    422\u001b[0m params \u001b[38;5;241m=\u001b[39m \u001b[38;5;28mself\u001b[39m\u001b[38;5;241m.\u001b[39m_wrap_value(params)\n\u001b[1;32m--> 423\u001b[0m response \u001b[38;5;241m=\u001b[39m \u001b[38;5;28;43mself\u001b[39;49m\u001b[38;5;241;43m.\u001b[39;49m\u001b[43mcommand_executor\u001b[49m\u001b[38;5;241;43m.\u001b[39;49m\u001b[43mexecute\u001b[49m\u001b[43m(\u001b[49m\u001b[43mdriver_command\u001b[49m\u001b[43m,\u001b[49m\u001b[43m \u001b[49m\u001b[43mparams\u001b[49m\u001b[43m)\u001b[49m\n\u001b[0;32m    424\u001b[0m \u001b[38;5;28;01mif\u001b[39;00m response:\n\u001b[0;32m    425\u001b[0m     \u001b[38;5;28mself\u001b[39m\u001b[38;5;241m.\u001b[39merror_handler\u001b[38;5;241m.\u001b[39mcheck_response(response)\n",
      "File \u001b[1;32m~\\AppData\\Local\\Programs\\Python\\Python310\\lib\\site-packages\\selenium\\webdriver\\remote\\remote_connection.py:333\u001b[0m, in \u001b[0;36mRemoteConnection.execute\u001b[1;34m(self, command, params)\u001b[0m\n\u001b[0;32m    331\u001b[0m data \u001b[38;5;241m=\u001b[39m utils\u001b[38;5;241m.\u001b[39mdump_json(params)\n\u001b[0;32m    332\u001b[0m url \u001b[38;5;241m=\u001b[39m \u001b[38;5;124mf\u001b[39m\u001b[38;5;124m\"\u001b[39m\u001b[38;5;132;01m{\u001b[39;00m\u001b[38;5;28mself\u001b[39m\u001b[38;5;241m.\u001b[39m_url\u001b[38;5;132;01m}\u001b[39;00m\u001b[38;5;132;01m{\u001b[39;00mpath\u001b[38;5;132;01m}\u001b[39;00m\u001b[38;5;124m\"\u001b[39m\n\u001b[1;32m--> 333\u001b[0m \u001b[38;5;28;01mreturn\u001b[39;00m \u001b[38;5;28;43mself\u001b[39;49m\u001b[38;5;241;43m.\u001b[39;49m\u001b[43m_request\u001b[49m\u001b[43m(\u001b[49m\u001b[43mcommand_info\u001b[49m\u001b[43m[\u001b[49m\u001b[38;5;241;43m0\u001b[39;49m\u001b[43m]\u001b[49m\u001b[43m,\u001b[49m\u001b[43m \u001b[49m\u001b[43murl\u001b[49m\u001b[43m,\u001b[49m\u001b[43m \u001b[49m\u001b[43mbody\u001b[49m\u001b[38;5;241;43m=\u001b[39;49m\u001b[43mdata\u001b[49m\u001b[43m)\u001b[49m\n",
      "File \u001b[1;32m~\\AppData\\Local\\Programs\\Python\\Python310\\lib\\site-packages\\selenium\\webdriver\\remote\\remote_connection.py:355\u001b[0m, in \u001b[0;36mRemoteConnection._request\u001b[1;34m(self, method, url, body)\u001b[0m\n\u001b[0;32m    352\u001b[0m     body \u001b[38;5;241m=\u001b[39m \u001b[38;5;28;01mNone\u001b[39;00m\n\u001b[0;32m    354\u001b[0m \u001b[38;5;28;01mif\u001b[39;00m \u001b[38;5;28mself\u001b[39m\u001b[38;5;241m.\u001b[39mkeep_alive:\n\u001b[1;32m--> 355\u001b[0m     resp \u001b[38;5;241m=\u001b[39m \u001b[38;5;28;43mself\u001b[39;49m\u001b[38;5;241;43m.\u001b[39;49m\u001b[43m_conn\u001b[49m\u001b[38;5;241;43m.\u001b[39;49m\u001b[43mrequest\u001b[49m\u001b[43m(\u001b[49m\u001b[43mmethod\u001b[49m\u001b[43m,\u001b[49m\u001b[43m \u001b[49m\u001b[43murl\u001b[49m\u001b[43m,\u001b[49m\u001b[43m \u001b[49m\u001b[43mbody\u001b[49m\u001b[38;5;241;43m=\u001b[39;49m\u001b[43mbody\u001b[49m\u001b[43m,\u001b[49m\u001b[43m \u001b[49m\u001b[43mheaders\u001b[49m\u001b[38;5;241;43m=\u001b[39;49m\u001b[43mheaders\u001b[49m\u001b[43m)\u001b[49m\n\u001b[0;32m    356\u001b[0m     statuscode \u001b[38;5;241m=\u001b[39m resp\u001b[38;5;241m.\u001b[39mstatus\n\u001b[0;32m    357\u001b[0m \u001b[38;5;28;01melse\u001b[39;00m:\n",
      "File \u001b[1;32m~\\AppData\\Local\\Programs\\Python\\Python310\\lib\\site-packages\\urllib3\\request.py:78\u001b[0m, in \u001b[0;36mRequestMethods.request\u001b[1;34m(self, method, url, fields, headers, **urlopen_kw)\u001b[0m\n\u001b[0;32m     74\u001b[0m     \u001b[38;5;28;01mreturn\u001b[39;00m \u001b[38;5;28mself\u001b[39m\u001b[38;5;241m.\u001b[39mrequest_encode_url(\n\u001b[0;32m     75\u001b[0m         method, url, fields\u001b[38;5;241m=\u001b[39mfields, headers\u001b[38;5;241m=\u001b[39mheaders, \u001b[38;5;241m*\u001b[39m\u001b[38;5;241m*\u001b[39murlopen_kw\n\u001b[0;32m     76\u001b[0m     )\n\u001b[0;32m     77\u001b[0m \u001b[38;5;28;01melse\u001b[39;00m:\n\u001b[1;32m---> 78\u001b[0m     \u001b[38;5;28;01mreturn\u001b[39;00m \u001b[38;5;28mself\u001b[39m\u001b[38;5;241m.\u001b[39mrequest_encode_body(\n\u001b[0;32m     79\u001b[0m         method, url, fields\u001b[38;5;241m=\u001b[39mfields, headers\u001b[38;5;241m=\u001b[39mheaders, \u001b[38;5;241m*\u001b[39m\u001b[38;5;241m*\u001b[39murlopen_kw\n\u001b[0;32m     80\u001b[0m     )\n",
      "File \u001b[1;32m~\\AppData\\Local\\Programs\\Python\\Python310\\lib\\site-packages\\urllib3\\request.py:170\u001b[0m, in \u001b[0;36mRequestMethods.request_encode_body\u001b[1;34m(self, method, url, fields, headers, encode_multipart, multipart_boundary, **urlopen_kw)\u001b[0m\n\u001b[0;32m    167\u001b[0m extra_kw[\u001b[38;5;124m\"\u001b[39m\u001b[38;5;124mheaders\u001b[39m\u001b[38;5;124m\"\u001b[39m]\u001b[38;5;241m.\u001b[39mupdate(headers)\n\u001b[0;32m    168\u001b[0m extra_kw\u001b[38;5;241m.\u001b[39mupdate(urlopen_kw)\n\u001b[1;32m--> 170\u001b[0m \u001b[38;5;28;01mreturn\u001b[39;00m \u001b[38;5;28mself\u001b[39m\u001b[38;5;241m.\u001b[39murlopen(method, url, \u001b[38;5;241m*\u001b[39m\u001b[38;5;241m*\u001b[39mextra_kw)\n",
      "File \u001b[1;32m~\\AppData\\Local\\Programs\\Python\\Python310\\lib\\site-packages\\urllib3\\poolmanager.py:376\u001b[0m, in \u001b[0;36mPoolManager.urlopen\u001b[1;34m(self, method, url, redirect, **kw)\u001b[0m\n\u001b[0;32m    374\u001b[0m     response \u001b[38;5;241m=\u001b[39m conn\u001b[38;5;241m.\u001b[39murlopen(method, url, \u001b[38;5;241m*\u001b[39m\u001b[38;5;241m*\u001b[39mkw)\n\u001b[0;32m    375\u001b[0m \u001b[38;5;28;01melse\u001b[39;00m:\n\u001b[1;32m--> 376\u001b[0m     response \u001b[38;5;241m=\u001b[39m conn\u001b[38;5;241m.\u001b[39murlopen(method, u\u001b[38;5;241m.\u001b[39mrequest_uri, \u001b[38;5;241m*\u001b[39m\u001b[38;5;241m*\u001b[39mkw)\n\u001b[0;32m    378\u001b[0m redirect_location \u001b[38;5;241m=\u001b[39m redirect \u001b[38;5;129;01mand\u001b[39;00m response\u001b[38;5;241m.\u001b[39mget_redirect_location()\n\u001b[0;32m    379\u001b[0m \u001b[38;5;28;01mif\u001b[39;00m \u001b[38;5;129;01mnot\u001b[39;00m redirect_location:\n",
      "File \u001b[1;32m~\\AppData\\Local\\Programs\\Python\\Python310\\lib\\site-packages\\urllib3\\connectionpool.py:703\u001b[0m, in \u001b[0;36mHTTPConnectionPool.urlopen\u001b[1;34m(self, method, url, body, headers, retries, redirect, assert_same_host, timeout, pool_timeout, release_conn, chunked, body_pos, **response_kw)\u001b[0m\n\u001b[0;32m    700\u001b[0m     \u001b[38;5;28mself\u001b[39m\u001b[38;5;241m.\u001b[39m_prepare_proxy(conn)\n\u001b[0;32m    702\u001b[0m \u001b[38;5;66;03m# Make the request on the httplib connection object.\u001b[39;00m\n\u001b[1;32m--> 703\u001b[0m httplib_response \u001b[38;5;241m=\u001b[39m \u001b[38;5;28;43mself\u001b[39;49m\u001b[38;5;241;43m.\u001b[39;49m\u001b[43m_make_request\u001b[49m\u001b[43m(\u001b[49m\n\u001b[0;32m    704\u001b[0m \u001b[43m    \u001b[49m\u001b[43mconn\u001b[49m\u001b[43m,\u001b[49m\n\u001b[0;32m    705\u001b[0m \u001b[43m    \u001b[49m\u001b[43mmethod\u001b[49m\u001b[43m,\u001b[49m\n\u001b[0;32m    706\u001b[0m \u001b[43m    \u001b[49m\u001b[43murl\u001b[49m\u001b[43m,\u001b[49m\n\u001b[0;32m    707\u001b[0m \u001b[43m    \u001b[49m\u001b[43mtimeout\u001b[49m\u001b[38;5;241;43m=\u001b[39;49m\u001b[43mtimeout_obj\u001b[49m\u001b[43m,\u001b[49m\n\u001b[0;32m    708\u001b[0m \u001b[43m    \u001b[49m\u001b[43mbody\u001b[49m\u001b[38;5;241;43m=\u001b[39;49m\u001b[43mbody\u001b[49m\u001b[43m,\u001b[49m\n\u001b[0;32m    709\u001b[0m \u001b[43m    \u001b[49m\u001b[43mheaders\u001b[49m\u001b[38;5;241;43m=\u001b[39;49m\u001b[43mheaders\u001b[49m\u001b[43m,\u001b[49m\n\u001b[0;32m    710\u001b[0m \u001b[43m    \u001b[49m\u001b[43mchunked\u001b[49m\u001b[38;5;241;43m=\u001b[39;49m\u001b[43mchunked\u001b[49m\u001b[43m,\u001b[49m\n\u001b[0;32m    711\u001b[0m \u001b[43m\u001b[49m\u001b[43m)\u001b[49m\n\u001b[0;32m    713\u001b[0m \u001b[38;5;66;03m# If we're going to release the connection in ``finally:``, then\u001b[39;00m\n\u001b[0;32m    714\u001b[0m \u001b[38;5;66;03m# the response doesn't need to know about the connection. Otherwise\u001b[39;00m\n\u001b[0;32m    715\u001b[0m \u001b[38;5;66;03m# it will also try to release it and we'll have a double-release\u001b[39;00m\n\u001b[0;32m    716\u001b[0m \u001b[38;5;66;03m# mess.\u001b[39;00m\n\u001b[0;32m    717\u001b[0m response_conn \u001b[38;5;241m=\u001b[39m conn \u001b[38;5;28;01mif\u001b[39;00m \u001b[38;5;129;01mnot\u001b[39;00m release_conn \u001b[38;5;28;01melse\u001b[39;00m \u001b[38;5;28;01mNone\u001b[39;00m\n",
      "File \u001b[1;32m~\\AppData\\Local\\Programs\\Python\\Python310\\lib\\site-packages\\urllib3\\connectionpool.py:449\u001b[0m, in \u001b[0;36mHTTPConnectionPool._make_request\u001b[1;34m(self, conn, method, url, timeout, chunked, **httplib_request_kw)\u001b[0m\n\u001b[0;32m    444\u001b[0m             httplib_response \u001b[38;5;241m=\u001b[39m conn\u001b[38;5;241m.\u001b[39mgetresponse()\n\u001b[0;32m    445\u001b[0m         \u001b[38;5;28;01mexcept\u001b[39;00m \u001b[38;5;167;01mBaseException\u001b[39;00m \u001b[38;5;28;01mas\u001b[39;00m e:\n\u001b[0;32m    446\u001b[0m             \u001b[38;5;66;03m# Remove the TypeError from the exception chain in\u001b[39;00m\n\u001b[0;32m    447\u001b[0m             \u001b[38;5;66;03m# Python 3 (including for exceptions like SystemExit).\u001b[39;00m\n\u001b[0;32m    448\u001b[0m             \u001b[38;5;66;03m# Otherwise it looks like a bug in the code.\u001b[39;00m\n\u001b[1;32m--> 449\u001b[0m             \u001b[43msix\u001b[49m\u001b[38;5;241;43m.\u001b[39;49m\u001b[43mraise_from\u001b[49m\u001b[43m(\u001b[49m\u001b[43me\u001b[49m\u001b[43m,\u001b[49m\u001b[43m \u001b[49m\u001b[38;5;28;43;01mNone\u001b[39;49;00m\u001b[43m)\u001b[49m\n\u001b[0;32m    450\u001b[0m \u001b[38;5;28;01mexcept\u001b[39;00m (SocketTimeout, BaseSSLError, SocketError) \u001b[38;5;28;01mas\u001b[39;00m e:\n\u001b[0;32m    451\u001b[0m     \u001b[38;5;28mself\u001b[39m\u001b[38;5;241m.\u001b[39m_raise_timeout(err\u001b[38;5;241m=\u001b[39me, url\u001b[38;5;241m=\u001b[39murl, timeout_value\u001b[38;5;241m=\u001b[39mread_timeout)\n",
      "File \u001b[1;32m<string>:3\u001b[0m, in \u001b[0;36mraise_from\u001b[1;34m(value, from_value)\u001b[0m\n",
      "File \u001b[1;32m~\\AppData\\Local\\Programs\\Python\\Python310\\lib\\site-packages\\urllib3\\connectionpool.py:444\u001b[0m, in \u001b[0;36mHTTPConnectionPool._make_request\u001b[1;34m(self, conn, method, url, timeout, chunked, **httplib_request_kw)\u001b[0m\n\u001b[0;32m    441\u001b[0m \u001b[38;5;28;01mexcept\u001b[39;00m \u001b[38;5;167;01mTypeError\u001b[39;00m:\n\u001b[0;32m    442\u001b[0m     \u001b[38;5;66;03m# Python 3\u001b[39;00m\n\u001b[0;32m    443\u001b[0m     \u001b[38;5;28;01mtry\u001b[39;00m:\n\u001b[1;32m--> 444\u001b[0m         httplib_response \u001b[38;5;241m=\u001b[39m \u001b[43mconn\u001b[49m\u001b[38;5;241;43m.\u001b[39;49m\u001b[43mgetresponse\u001b[49m\u001b[43m(\u001b[49m\u001b[43m)\u001b[49m\n\u001b[0;32m    445\u001b[0m     \u001b[38;5;28;01mexcept\u001b[39;00m \u001b[38;5;167;01mBaseException\u001b[39;00m \u001b[38;5;28;01mas\u001b[39;00m e:\n\u001b[0;32m    446\u001b[0m         \u001b[38;5;66;03m# Remove the TypeError from the exception chain in\u001b[39;00m\n\u001b[0;32m    447\u001b[0m         \u001b[38;5;66;03m# Python 3 (including for exceptions like SystemExit).\u001b[39;00m\n\u001b[0;32m    448\u001b[0m         \u001b[38;5;66;03m# Otherwise it looks like a bug in the code.\u001b[39;00m\n\u001b[0;32m    449\u001b[0m         six\u001b[38;5;241m.\u001b[39mraise_from(e, \u001b[38;5;28;01mNone\u001b[39;00m)\n",
      "File \u001b[1;32m~\\AppData\\Local\\Programs\\Python\\Python310\\lib\\http\\client.py:1374\u001b[0m, in \u001b[0;36mHTTPConnection.getresponse\u001b[1;34m(self)\u001b[0m\n\u001b[0;32m   1372\u001b[0m \u001b[38;5;28;01mtry\u001b[39;00m:\n\u001b[0;32m   1373\u001b[0m     \u001b[38;5;28;01mtry\u001b[39;00m:\n\u001b[1;32m-> 1374\u001b[0m         \u001b[43mresponse\u001b[49m\u001b[38;5;241;43m.\u001b[39;49m\u001b[43mbegin\u001b[49m\u001b[43m(\u001b[49m\u001b[43m)\u001b[49m\n\u001b[0;32m   1375\u001b[0m     \u001b[38;5;28;01mexcept\u001b[39;00m \u001b[38;5;167;01mConnectionError\u001b[39;00m:\n\u001b[0;32m   1376\u001b[0m         \u001b[38;5;28mself\u001b[39m\u001b[38;5;241m.\u001b[39mclose()\n",
      "File \u001b[1;32m~\\AppData\\Local\\Programs\\Python\\Python310\\lib\\http\\client.py:318\u001b[0m, in \u001b[0;36mHTTPResponse.begin\u001b[1;34m(self)\u001b[0m\n\u001b[0;32m    316\u001b[0m \u001b[38;5;66;03m# read until we get a non-100 response\u001b[39;00m\n\u001b[0;32m    317\u001b[0m \u001b[38;5;28;01mwhile\u001b[39;00m \u001b[38;5;28;01mTrue\u001b[39;00m:\n\u001b[1;32m--> 318\u001b[0m     version, status, reason \u001b[38;5;241m=\u001b[39m \u001b[38;5;28;43mself\u001b[39;49m\u001b[38;5;241;43m.\u001b[39;49m\u001b[43m_read_status\u001b[49m\u001b[43m(\u001b[49m\u001b[43m)\u001b[49m\n\u001b[0;32m    319\u001b[0m     \u001b[38;5;28;01mif\u001b[39;00m status \u001b[38;5;241m!=\u001b[39m CONTINUE:\n\u001b[0;32m    320\u001b[0m         \u001b[38;5;28;01mbreak\u001b[39;00m\n",
      "File \u001b[1;32m~\\AppData\\Local\\Programs\\Python\\Python310\\lib\\http\\client.py:279\u001b[0m, in \u001b[0;36mHTTPResponse._read_status\u001b[1;34m(self)\u001b[0m\n\u001b[0;32m    278\u001b[0m \u001b[38;5;28;01mdef\u001b[39;00m \u001b[38;5;21m_read_status\u001b[39m(\u001b[38;5;28mself\u001b[39m):\n\u001b[1;32m--> 279\u001b[0m     line \u001b[38;5;241m=\u001b[39m \u001b[38;5;28mstr\u001b[39m(\u001b[38;5;28;43mself\u001b[39;49m\u001b[38;5;241;43m.\u001b[39;49m\u001b[43mfp\u001b[49m\u001b[38;5;241;43m.\u001b[39;49m\u001b[43mreadline\u001b[49m\u001b[43m(\u001b[49m\u001b[43m_MAXLINE\u001b[49m\u001b[43m \u001b[49m\u001b[38;5;241;43m+\u001b[39;49m\u001b[43m \u001b[49m\u001b[38;5;241;43m1\u001b[39;49m\u001b[43m)\u001b[49m, \u001b[38;5;124m\"\u001b[39m\u001b[38;5;124miso-8859-1\u001b[39m\u001b[38;5;124m\"\u001b[39m)\n\u001b[0;32m    280\u001b[0m     \u001b[38;5;28;01mif\u001b[39;00m \u001b[38;5;28mlen\u001b[39m(line) \u001b[38;5;241m>\u001b[39m _MAXLINE:\n\u001b[0;32m    281\u001b[0m         \u001b[38;5;28;01mraise\u001b[39;00m LineTooLong(\u001b[38;5;124m\"\u001b[39m\u001b[38;5;124mstatus line\u001b[39m\u001b[38;5;124m\"\u001b[39m)\n",
      "File \u001b[1;32m~\\AppData\\Local\\Programs\\Python\\Python310\\lib\\socket.py:705\u001b[0m, in \u001b[0;36mSocketIO.readinto\u001b[1;34m(self, b)\u001b[0m\n\u001b[0;32m    703\u001b[0m \u001b[38;5;28;01mwhile\u001b[39;00m \u001b[38;5;28;01mTrue\u001b[39;00m:\n\u001b[0;32m    704\u001b[0m     \u001b[38;5;28;01mtry\u001b[39;00m:\n\u001b[1;32m--> 705\u001b[0m         \u001b[38;5;28;01mreturn\u001b[39;00m \u001b[38;5;28;43mself\u001b[39;49m\u001b[38;5;241;43m.\u001b[39;49m\u001b[43m_sock\u001b[49m\u001b[38;5;241;43m.\u001b[39;49m\u001b[43mrecv_into\u001b[49m\u001b[43m(\u001b[49m\u001b[43mb\u001b[49m\u001b[43m)\u001b[49m\n\u001b[0;32m    706\u001b[0m     \u001b[38;5;28;01mexcept\u001b[39;00m timeout:\n\u001b[0;32m    707\u001b[0m         \u001b[38;5;28mself\u001b[39m\u001b[38;5;241m.\u001b[39m_timeout_occurred \u001b[38;5;241m=\u001b[39m \u001b[38;5;28;01mTrue\u001b[39;00m\n",
      "\u001b[1;31mKeyboardInterrupt\u001b[0m: "
     ]
    }
   ],
   "source": [
    "for i in range(len(urls)):   #goes through all the urls/breweries\n",
    "    url=urls[i]    #sets url to new brewery\n",
    "    driver = webdriver.Chrome(r'C:\\Users\\612456\\Downloads\\chromedriver_win32\\chromedriver.exe')     #sets up chrome driver\n",
    "    driver.get(url)   #activates url (brings website up)\n",
    "    beers = driver.find_elements_by_css_selector('div.beer-item')     #finds each individual beer and sets it to a \"list\" of beers\n",
    "    \n",
    "    #this loop goes through all the beers in the list and clicks \"show more\" to get the full description\n",
    "    for i in range(len(beers)):\n",
    "        beer_det = beers[i].find_element_by_css_selector('div.beer-details')\n",
    "        beer_det.location_once_scrolled_into_view\n",
    "        try:\n",
    "            beer_det.find_element_by_css_selector('a.read-more-beerlist.track-click').click()\n",
    "        except NoSuchElementException:\n",
    "            continue\n",
    "        beer_det.location_once_scrolled_into_view\n",
    "    for beer in beers:   #goes through each beer in the \"list\" and gets the name, style, IBU, abv, and description (half)\n",
    "        \n",
    "        try:\n",
    "            name = beer.find_element_by_css_selector('p.name').text    #extracts name of beer\n",
    "            style = beer.find_element_by_css_selector('p.style').text   #extracts style of beer\n",
    "            abv = beer.find_element_by_css_selector('div.details-item.abv').text   #extracts abv of beer\n",
    "            ibu = beer.find_element_by_css_selector('div.details-item.ibu').text   #extracts ibu of beer\n",
    "            desc = beer.find_element_by_xpath('.//*[@class=\"beer-details\"]/p[4]').text[:-11]   #gets the full description and also cuts off the 'show more'\n",
    "            if desc=='': #if desc isn't long enough to have a \"read More\" then get the other desc which is stored where the half one is\n",
    "                desc = beer.find_element_by_xpath('.//*[@class=\"beer-details\"]/p[3]').text\n",
    "                \n",
    "        except NoSuchElementException:\n",
    "            abv = beer.find_element_by_css_selector('p.abv').text   # part of the way through the process the namespace \n",
    "            ibu = beer.find_element_by_css_selector('p.ibu').text   # changes for ibu and abv so this handles that\n",
    "    \n",
    "        name_ls.append(name)     #these add all the attributes to a list that will eventually be set to a df\n",
    "        style_ls.append(style)\n",
    "        desc_ls.append(desc)    \n",
    "        abv_ls.append(abv)             #(I have not seen a description too short to not hae one but that could be a potential danger)\n",
    "        ibu_ls.append(ibu)\n",
    "        \n",
    "        print(\"Name: \", name,'\\nStyle:',style,'\\nABV: ',abv,'\\nIBU: ',ibu,'\\nDescription: ',desc,'\\n\\n------------\\n')"
   ]
  },
  {
   "cell_type": "code",
   "execution_count": 310,
   "metadata": {},
   "outputs": [
    {
     "data": {
      "text/plain": [
       "1214"
      ]
     },
     "execution_count": 310,
     "metadata": {},
     "output_type": "execute_result"
    }
   ],
   "source": []
  },
  {
   "cell_type": "code",
   "execution_count": null,
   "metadata": {},
   "outputs": [],
   "source": []
  },
  {
   "cell_type": "markdown",
   "metadata": {},
   "source": [
    "#### the above cell takes ~40 mins to run"
   ]
  },
  {
   "cell_type": "markdown",
   "metadata": {},
   "source": [
    "### Data is recorded in the lists now add to df"
   ]
  },
  {
   "cell_type": "code",
   "execution_count": 311,
   "metadata": {
    "scrolled": true
   },
   "outputs": [
    {
     "data": {
      "text/html": [
       "<div>\n",
       "<style scoped>\n",
       "    .dataframe tbody tr th:only-of-type {\n",
       "        vertical-align: middle;\n",
       "    }\n",
       "\n",
       "    .dataframe tbody tr th {\n",
       "        vertical-align: top;\n",
       "    }\n",
       "\n",
       "    .dataframe thead th {\n",
       "        text-align: right;\n",
       "    }\n",
       "</style>\n",
       "<table border=\"1\" class=\"dataframe\">\n",
       "  <thead>\n",
       "    <tr style=\"text-align: right;\">\n",
       "      <th></th>\n",
       "      <th>Name</th>\n",
       "      <th>style</th>\n",
       "      <th>IBU</th>\n",
       "      <th>ABV</th>\n",
       "      <th>Description</th>\n",
       "    </tr>\n",
       "  </thead>\n",
       "  <tbody>\n",
       "    <tr>\n",
       "      <th>0</th>\n",
       "      <td>Ghost Fleet</td>\n",
       "      <td>IPA - American</td>\n",
       "      <td>N/A IBU</td>\n",
       "      <td>7.1% ABV</td>\n",
       "      <td>This is our house IPA. It is hugely hoppy with...</td>\n",
       "    </tr>\n",
       "    <tr>\n",
       "      <th>1</th>\n",
       "      <td>Fat Boys</td>\n",
       "      <td>IPA - Imperial / Double</td>\n",
       "      <td>N/A IBU</td>\n",
       "      <td>8.5% ABV</td>\n",
       "      <td>This is our Double IPA. It features bold fruit...</td>\n",
       "    </tr>\n",
       "    <tr>\n",
       "      <th>2</th>\n",
       "      <td>Wraith</td>\n",
       "      <td>Wheat Beer - Witbier / Blanche</td>\n",
       "      <td>N/A IBU</td>\n",
       "      <td>5.3% ABV</td>\n",
       "      <td>Wraith is a Belgian Style Witbier that provide...</td>\n",
       "    </tr>\n",
       "    <tr>\n",
       "      <th>3</th>\n",
       "      <td>Lucketts Calling</td>\n",
       "      <td>IPA - American</td>\n",
       "      <td>N/A IBU</td>\n",
       "      <td>6.3% ABV</td>\n",
       "      <td>A hazy IPA with big fruity hop flavors and alm...</td>\n",
       "    </tr>\n",
       "    <tr>\n",
       "      <th>4</th>\n",
       "      <td>Beyond The Farm</td>\n",
       "      <td>IPA - American</td>\n",
       "      <td>N/A IBU</td>\n",
       "      <td>6.8% ABV</td>\n",
       "      <td>Relying on the citrusy Summit, Citra, and Cent...</td>\n",
       "    </tr>\n",
       "    <tr>\n",
       "      <th>...</th>\n",
       "      <td>...</td>\n",
       "      <td>...</td>\n",
       "      <td>...</td>\n",
       "      <td>...</td>\n",
       "      <td>...</td>\n",
       "    </tr>\n",
       "    <tr>\n",
       "      <th>1209</th>\n",
       "      <td>Ideaal Tripel</td>\n",
       "      <td>Belgian Tripel</td>\n",
       "      <td>35 IBU</td>\n",
       "      <td>8.5% ABV</td>\n",
       "      <td>Drawing inspiration from Belgium’s monastic br...</td>\n",
       "    </tr>\n",
       "    <tr>\n",
       "      <th>1210</th>\n",
       "      <td>Hazy ipa</td>\n",
       "      <td>IPA - New England / Hazy</td>\n",
       "      <td>35 IBU</td>\n",
       "      <td>6.8% ABV</td>\n",
       "      <td>Brewed to highlight hop aroma and flavor, Hazy...</td>\n",
       "    </tr>\n",
       "    <tr>\n",
       "      <th>1211</th>\n",
       "      <td>Star Sailor®</td>\n",
       "      <td>IPA - White</td>\n",
       "      <td>40 IBU</td>\n",
       "      <td>6.2% ABV</td>\n",
       "      <td>Exploring the limits of IPAs, Star Sailor® Whi...</td>\n",
       "    </tr>\n",
       "    <tr>\n",
       "      <th>1212</th>\n",
       "      <td>German Pilsner</td>\n",
       "      <td>Pilsner - German</td>\n",
       "      <td>35 IBU</td>\n",
       "      <td>4.6% ABV</td>\n",
       "      <td>Looking to Germany for inspiration, our German...</td>\n",
       "    </tr>\n",
       "    <tr>\n",
       "      <th>1213</th>\n",
       "      <td>Northwest IPA</td>\n",
       "      <td>Pale Ale - American</td>\n",
       "      <td>N/A IBU</td>\n",
       "      <td>5.3% ABV</td>\n",
       "      <td>Brewed for Chef Geoff</td>\n",
       "    </tr>\n",
       "  </tbody>\n",
       "</table>\n",
       "<p>1214 rows × 5 columns</p>\n",
       "</div>"
      ],
      "text/plain": [
       "                  Name                           style      IBU       ABV  \\\n",
       "0          Ghost Fleet                  IPA - American  N/A IBU  7.1% ABV   \n",
       "1             Fat Boys         IPA - Imperial / Double  N/A IBU  8.5% ABV   \n",
       "2               Wraith  Wheat Beer - Witbier / Blanche  N/A IBU  5.3% ABV   \n",
       "3     Lucketts Calling                  IPA - American  N/A IBU  6.3% ABV   \n",
       "4      Beyond The Farm                  IPA - American  N/A IBU  6.8% ABV   \n",
       "...                ...                             ...      ...       ...   \n",
       "1209     Ideaal Tripel                  Belgian Tripel   35 IBU  8.5% ABV   \n",
       "1210          Hazy ipa        IPA - New England / Hazy   35 IBU  6.8% ABV   \n",
       "1211      Star Sailor®                     IPA - White   40 IBU  6.2% ABV   \n",
       "1212    German Pilsner                Pilsner - German   35 IBU  4.6% ABV   \n",
       "1213     Northwest IPA             Pale Ale - American  N/A IBU  5.3% ABV   \n",
       "\n",
       "                                            Description  \n",
       "0     This is our house IPA. It is hugely hoppy with...  \n",
       "1     This is our Double IPA. It features bold fruit...  \n",
       "2     Wraith is a Belgian Style Witbier that provide...  \n",
       "3     A hazy IPA with big fruity hop flavors and alm...  \n",
       "4     Relying on the citrusy Summit, Citra, and Cent...  \n",
       "...                                                 ...  \n",
       "1209  Drawing inspiration from Belgium’s monastic br...  \n",
       "1210  Brewed to highlight hop aroma and flavor, Hazy...  \n",
       "1211  Exploring the limits of IPAs, Star Sailor® Whi...  \n",
       "1212  Looking to Germany for inspiration, our German...  \n",
       "1213                              Brewed for Chef Geoff  \n",
       "\n",
       "[1214 rows x 5 columns]"
      ]
     },
     "execution_count": 311,
     "metadata": {},
     "output_type": "execute_result"
    }
   ],
   "source": [
    "#create df\n",
    "df = pd.DataFrame()\n",
    "df['Name'] = name_ls\n",
    "df['style'] = style_ls\n",
    "df['IBU'] = ibu_ls\n",
    "df['ABV'] = abv_ls\n",
    "df['Description'] = desc_ls\n",
    "df"
   ]
  },
  {
   "cell_type": "code",
   "execution_count": 312,
   "metadata": {},
   "outputs": [],
   "source": [
    "#get rid of all beers that don't have all 3 major things I need\n",
    "df = df[(df['IBU']!='N/A IBU')&(df['ABV']!='N/A ABV')&(df['Description']!='')]"
   ]
  },
  {
   "cell_type": "code",
   "execution_count": 325,
   "metadata": {},
   "outputs": [
    {
     "data": {
      "text/html": [
       "<div>\n",
       "<style scoped>\n",
       "    .dataframe tbody tr th:only-of-type {\n",
       "        vertical-align: middle;\n",
       "    }\n",
       "\n",
       "    .dataframe tbody tr th {\n",
       "        vertical-align: top;\n",
       "    }\n",
       "\n",
       "    .dataframe thead th {\n",
       "        text-align: right;\n",
       "    }\n",
       "</style>\n",
       "<table border=\"1\" class=\"dataframe\">\n",
       "  <thead>\n",
       "    <tr style=\"text-align: right;\">\n",
       "      <th></th>\n",
       "      <th>Name</th>\n",
       "      <th>style</th>\n",
       "      <th>IBU</th>\n",
       "      <th>ABV</th>\n",
       "      <th>Description</th>\n",
       "    </tr>\n",
       "  </thead>\n",
       "  <tbody>\n",
       "    <tr>\n",
       "      <th>26</th>\n",
       "      <td>Vicinity</td>\n",
       "      <td>IPA - Imperial / Double</td>\n",
       "      <td>65</td>\n",
       "      <td>8</td>\n",
       "      <td>Originally brewed in celebration of the first ...</td>\n",
       "    </tr>\n",
       "    <tr>\n",
       "      <th>33</th>\n",
       "      <td>Galaxy Dry Hopped Fort Point</td>\n",
       "      <td>Pale Ale - American</td>\n",
       "      <td>45</td>\n",
       "      <td>6.6</td>\n",
       "      <td>This version of our signature American pale al...</td>\n",
       "    </tr>\n",
       "    <tr>\n",
       "      <th>47</th>\n",
       "      <td>Launch Beer</td>\n",
       "      <td>Pale Ale - American</td>\n",
       "      <td>68</td>\n",
       "      <td>5.7</td>\n",
       "      <td>First brewed to commemorate the grand opening ...</td>\n",
       "    </tr>\n",
       "    <tr>\n",
       "      <th>50</th>\n",
       "      <td>Julius</td>\n",
       "      <td>IPA - American</td>\n",
       "      <td>72</td>\n",
       "      <td>6.8</td>\n",
       "      <td>Bursting with pungent American hops, Julius - ...</td>\n",
       "    </tr>\n",
       "    <tr>\n",
       "      <th>51</th>\n",
       "      <td>Haze</td>\n",
       "      <td>IPA - Imperial / Double</td>\n",
       "      <td>90</td>\n",
       "      <td>8.2</td>\n",
       "      <td>Our Double IPA! We smell a ton of peach on the...</td>\n",
       "    </tr>\n",
       "    <tr>\n",
       "      <th>...</th>\n",
       "      <td>...</td>\n",
       "      <td>...</td>\n",
       "      <td>...</td>\n",
       "      <td>...</td>\n",
       "      <td>...</td>\n",
       "    </tr>\n",
       "    <tr>\n",
       "      <th>1208</th>\n",
       "      <td>Mexican Dark Lager</td>\n",
       "      <td>Lager - Vienna</td>\n",
       "      <td>24</td>\n",
       "      <td>5</td>\n",
       "      <td>Port City’s Mexican Dark Lager draws inspirati...</td>\n",
       "    </tr>\n",
       "    <tr>\n",
       "      <th>1209</th>\n",
       "      <td>Ideaal Tripel</td>\n",
       "      <td>Belgian Tripel</td>\n",
       "      <td>35</td>\n",
       "      <td>8.5</td>\n",
       "      <td>Drawing inspiration from Belgium’s monastic br...</td>\n",
       "    </tr>\n",
       "    <tr>\n",
       "      <th>1210</th>\n",
       "      <td>Hazy ipa</td>\n",
       "      <td>IPA - New England / Hazy</td>\n",
       "      <td>35</td>\n",
       "      <td>6.8</td>\n",
       "      <td>Brewed to highlight hop aroma and flavor, Hazy...</td>\n",
       "    </tr>\n",
       "    <tr>\n",
       "      <th>1211</th>\n",
       "      <td>Star Sailor®</td>\n",
       "      <td>IPA - White</td>\n",
       "      <td>40</td>\n",
       "      <td>6.2</td>\n",
       "      <td>Exploring the limits of IPAs, Star Sailor® Whi...</td>\n",
       "    </tr>\n",
       "    <tr>\n",
       "      <th>1212</th>\n",
       "      <td>German Pilsner</td>\n",
       "      <td>Pilsner - German</td>\n",
       "      <td>35</td>\n",
       "      <td>4.6</td>\n",
       "      <td>Looking to Germany for inspiration, our German...</td>\n",
       "    </tr>\n",
       "  </tbody>\n",
       "</table>\n",
       "<p>541 rows × 5 columns</p>\n",
       "</div>"
      ],
      "text/plain": [
       "                              Name                     style IBU  ABV  \\\n",
       "26                        Vicinity   IPA - Imperial / Double  65    8   \n",
       "33    Galaxy Dry Hopped Fort Point       Pale Ale - American  45  6.6   \n",
       "47                     Launch Beer       Pale Ale - American  68  5.7   \n",
       "50                          Julius            IPA - American  72  6.8   \n",
       "51                            Haze   IPA - Imperial / Double  90  8.2   \n",
       "...                            ...                       ...  ..  ...   \n",
       "1208            Mexican Dark Lager            Lager - Vienna  24    5   \n",
       "1209                 Ideaal Tripel            Belgian Tripel  35  8.5   \n",
       "1210                      Hazy ipa  IPA - New England / Hazy  35  6.8   \n",
       "1211                  Star Sailor®               IPA - White  40  6.2   \n",
       "1212                German Pilsner          Pilsner - German  35  4.6   \n",
       "\n",
       "                                            Description  \n",
       "26    Originally brewed in celebration of the first ...  \n",
       "33    This version of our signature American pale al...  \n",
       "47    First brewed to commemorate the grand opening ...  \n",
       "50    Bursting with pungent American hops, Julius - ...  \n",
       "51    Our Double IPA! We smell a ton of peach on the...  \n",
       "...                                                 ...  \n",
       "1208  Port City’s Mexican Dark Lager draws inspirati...  \n",
       "1209  Drawing inspiration from Belgium’s monastic br...  \n",
       "1210  Brewed to highlight hop aroma and flavor, Hazy...  \n",
       "1211  Exploring the limits of IPAs, Star Sailor® Whi...  \n",
       "1212  Looking to Germany for inspiration, our German...  \n",
       "\n",
       "[541 rows x 5 columns]"
      ]
     },
     "execution_count": 325,
     "metadata": {},
     "output_type": "execute_result"
    }
   ],
   "source": [
    "df"
   ]
  },
  {
   "cell_type": "code",
   "execution_count": 324,
   "metadata": {},
   "outputs": [
    {
     "name": "stderr",
     "output_type": "stream",
     "text": [
      "C:\\Users\\612456\\AppData\\Local\\Temp\\7\\ipykernel_18756\\849542697.py:1: SettingWithCopyWarning: \n",
      "A value is trying to be set on a copy of a slice from a DataFrame.\n",
      "Try using .loc[row_indexer,col_indexer] = value instead\n",
      "\n",
      "See the caveats in the documentation: https://pandas.pydata.org/pandas-docs/stable/user_guide/indexing.html#returning-a-view-versus-a-copy\n",
      "  df['IBU'] = df['IBU'].str[:-4]\n"
     ]
    }
   ],
   "source": [
    "df['IBU'] = df['IBU'].str[:-4]"
   ]
  },
  {
   "cell_type": "code",
   "execution_count": 321,
   "metadata": {},
   "outputs": [
    {
     "name": "stderr",
     "output_type": "stream",
     "text": [
      "C:\\Users\\612456\\AppData\\Local\\Temp\\7\\ipykernel_18756\\2652638095.py:1: SettingWithCopyWarning: \n",
      "A value is trying to be set on a copy of a slice from a DataFrame.\n",
      "Try using .loc[row_indexer,col_indexer] = value instead\n",
      "\n",
      "See the caveats in the documentation: https://pandas.pydata.org/pandas-docs/stable/user_guide/indexing.html#returning-a-view-versus-a-copy\n",
      "  df['ABV'] = df['ABV'].str[:-5]\n"
     ]
    }
   ],
   "source": [
    "df['ABV'] = df['ABV'].str[:-5]"
   ]
  },
  {
   "cell_type": "code",
   "execution_count": 326,
   "metadata": {
    "scrolled": true
   },
   "outputs": [
    {
     "name": "stderr",
     "output_type": "stream",
     "text": [
      "C:\\Users\\612456\\AppData\\Local\\Temp\\7\\ipykernel_18756\\2667934893.py:1: SettingWithCopyWarning: \n",
      "A value is trying to be set on a copy of a slice from a DataFrame.\n",
      "Try using .loc[row_indexer,col_indexer] = value instead\n",
      "\n",
      "See the caveats in the documentation: https://pandas.pydata.org/pandas-docs/stable/user_guide/indexing.html#returning-a-view-versus-a-copy\n",
      "  df['ABV'] = df['ABV'].astype(float)\n"
     ]
    }
   ],
   "source": [
    "df['ABV'] = df['ABV'].astype(float)"
   ]
  },
  {
   "cell_type": "code",
   "execution_count": 327,
   "metadata": {},
   "outputs": [
    {
     "name": "stderr",
     "output_type": "stream",
     "text": [
      "C:\\Users\\612456\\AppData\\Local\\Temp\\7\\ipykernel_18756\\3279095354.py:1: SettingWithCopyWarning: \n",
      "A value is trying to be set on a copy of a slice from a DataFrame.\n",
      "Try using .loc[row_indexer,col_indexer] = value instead\n",
      "\n",
      "See the caveats in the documentation: https://pandas.pydata.org/pandas-docs/stable/user_guide/indexing.html#returning-a-view-versus-a-copy\n",
      "  df['IBU'] = df['IBU'].astype(int)\n"
     ]
    }
   ],
   "source": [
    "df['IBU'] = df['IBU'].astype(int)"
   ]
  },
  {
   "cell_type": "code",
   "execution_count": 328,
   "metadata": {},
   "outputs": [
    {
     "data": {
      "text/html": [
       "<div>\n",
       "<style scoped>\n",
       "    .dataframe tbody tr th:only-of-type {\n",
       "        vertical-align: middle;\n",
       "    }\n",
       "\n",
       "    .dataframe tbody tr th {\n",
       "        vertical-align: top;\n",
       "    }\n",
       "\n",
       "    .dataframe thead th {\n",
       "        text-align: right;\n",
       "    }\n",
       "</style>\n",
       "<table border=\"1\" class=\"dataframe\">\n",
       "  <thead>\n",
       "    <tr style=\"text-align: right;\">\n",
       "      <th></th>\n",
       "      <th>Name</th>\n",
       "      <th>style</th>\n",
       "      <th>IBU</th>\n",
       "      <th>ABV</th>\n",
       "      <th>Description</th>\n",
       "    </tr>\n",
       "  </thead>\n",
       "  <tbody>\n",
       "    <tr>\n",
       "      <th>26</th>\n",
       "      <td>Vicinity</td>\n",
       "      <td>IPA - Imperial / Double</td>\n",
       "      <td>65</td>\n",
       "      <td>8.0</td>\n",
       "      <td>Originally brewed in celebration of the first ...</td>\n",
       "    </tr>\n",
       "    <tr>\n",
       "      <th>33</th>\n",
       "      <td>Galaxy Dry Hopped Fort Point</td>\n",
       "      <td>Pale Ale - American</td>\n",
       "      <td>45</td>\n",
       "      <td>6.6</td>\n",
       "      <td>This version of our signature American pale al...</td>\n",
       "    </tr>\n",
       "    <tr>\n",
       "      <th>47</th>\n",
       "      <td>Launch Beer</td>\n",
       "      <td>Pale Ale - American</td>\n",
       "      <td>68</td>\n",
       "      <td>5.7</td>\n",
       "      <td>First brewed to commemorate the grand opening ...</td>\n",
       "    </tr>\n",
       "    <tr>\n",
       "      <th>50</th>\n",
       "      <td>Julius</td>\n",
       "      <td>IPA - American</td>\n",
       "      <td>72</td>\n",
       "      <td>6.8</td>\n",
       "      <td>Bursting with pungent American hops, Julius - ...</td>\n",
       "    </tr>\n",
       "    <tr>\n",
       "      <th>51</th>\n",
       "      <td>Haze</td>\n",
       "      <td>IPA - Imperial / Double</td>\n",
       "      <td>90</td>\n",
       "      <td>8.2</td>\n",
       "      <td>Our Double IPA! We smell a ton of peach on the...</td>\n",
       "    </tr>\n",
       "    <tr>\n",
       "      <th>...</th>\n",
       "      <td>...</td>\n",
       "      <td>...</td>\n",
       "      <td>...</td>\n",
       "      <td>...</td>\n",
       "      <td>...</td>\n",
       "    </tr>\n",
       "    <tr>\n",
       "      <th>1208</th>\n",
       "      <td>Mexican Dark Lager</td>\n",
       "      <td>Lager - Vienna</td>\n",
       "      <td>24</td>\n",
       "      <td>5.0</td>\n",
       "      <td>Port City’s Mexican Dark Lager draws inspirati...</td>\n",
       "    </tr>\n",
       "    <tr>\n",
       "      <th>1209</th>\n",
       "      <td>Ideaal Tripel</td>\n",
       "      <td>Belgian Tripel</td>\n",
       "      <td>35</td>\n",
       "      <td>8.5</td>\n",
       "      <td>Drawing inspiration from Belgium’s monastic br...</td>\n",
       "    </tr>\n",
       "    <tr>\n",
       "      <th>1210</th>\n",
       "      <td>Hazy ipa</td>\n",
       "      <td>IPA - New England / Hazy</td>\n",
       "      <td>35</td>\n",
       "      <td>6.8</td>\n",
       "      <td>Brewed to highlight hop aroma and flavor, Hazy...</td>\n",
       "    </tr>\n",
       "    <tr>\n",
       "      <th>1211</th>\n",
       "      <td>Star Sailor®</td>\n",
       "      <td>IPA - White</td>\n",
       "      <td>40</td>\n",
       "      <td>6.2</td>\n",
       "      <td>Exploring the limits of IPAs, Star Sailor® Whi...</td>\n",
       "    </tr>\n",
       "    <tr>\n",
       "      <th>1212</th>\n",
       "      <td>German Pilsner</td>\n",
       "      <td>Pilsner - German</td>\n",
       "      <td>35</td>\n",
       "      <td>4.6</td>\n",
       "      <td>Looking to Germany for inspiration, our German...</td>\n",
       "    </tr>\n",
       "  </tbody>\n",
       "</table>\n",
       "<p>541 rows × 5 columns</p>\n",
       "</div>"
      ],
      "text/plain": [
       "                              Name                     style  IBU  ABV  \\\n",
       "26                        Vicinity   IPA - Imperial / Double   65  8.0   \n",
       "33    Galaxy Dry Hopped Fort Point       Pale Ale - American   45  6.6   \n",
       "47                     Launch Beer       Pale Ale - American   68  5.7   \n",
       "50                          Julius            IPA - American   72  6.8   \n",
       "51                            Haze   IPA - Imperial / Double   90  8.2   \n",
       "...                            ...                       ...  ...  ...   \n",
       "1208            Mexican Dark Lager            Lager - Vienna   24  5.0   \n",
       "1209                 Ideaal Tripel            Belgian Tripel   35  8.5   \n",
       "1210                      Hazy ipa  IPA - New England / Hazy   35  6.8   \n",
       "1211                  Star Sailor®               IPA - White   40  6.2   \n",
       "1212                German Pilsner          Pilsner - German   35  4.6   \n",
       "\n",
       "                                            Description  \n",
       "26    Originally brewed in celebration of the first ...  \n",
       "33    This version of our signature American pale al...  \n",
       "47    First brewed to commemorate the grand opening ...  \n",
       "50    Bursting with pungent American hops, Julius - ...  \n",
       "51    Our Double IPA! We smell a ton of peach on the...  \n",
       "...                                                 ...  \n",
       "1208  Port City’s Mexican Dark Lager draws inspirati...  \n",
       "1209  Drawing inspiration from Belgium’s monastic br...  \n",
       "1210  Brewed to highlight hop aroma and flavor, Hazy...  \n",
       "1211  Exploring the limits of IPAs, Star Sailor® Whi...  \n",
       "1212  Looking to Germany for inspiration, our German...  \n",
       "\n",
       "[541 rows x 5 columns]"
      ]
     },
     "execution_count": 328,
     "metadata": {},
     "output_type": "execute_result"
    }
   ],
   "source": [
    "df"
   ]
  },
  {
   "cell_type": "code",
   "execution_count": 16,
   "metadata": {},
   "outputs": [],
   "source": [
    "# save the df to a csv that I can use later and don't have to run this every time\n",
    "df.to_csv('untappd_beers.csv')"
   ]
  },
  {
   "cell_type": "markdown",
   "metadata": {},
   "source": [
    "#### Skip the cells before and run this cell if you already have the data you want"
   ]
  },
  {
   "cell_type": "code",
   "execution_count": 2,
   "metadata": {},
   "outputs": [],
   "source": [
    "df = pd.read_csv('untappd_beers.csv',encoding='latin-1')\n",
    "df.drop('Unnamed: 0', axis=1, inplace=True)"
   ]
  },
  {
   "cell_type": "code",
   "execution_count": 3,
   "metadata": {},
   "outputs": [
    {
     "data": {
      "text/html": [
       "<div>\n",
       "<style scoped>\n",
       "    .dataframe tbody tr th:only-of-type {\n",
       "        vertical-align: middle;\n",
       "    }\n",
       "\n",
       "    .dataframe tbody tr th {\n",
       "        vertical-align: top;\n",
       "    }\n",
       "\n",
       "    .dataframe thead th {\n",
       "        text-align: right;\n",
       "    }\n",
       "</style>\n",
       "<table border=\"1\" class=\"dataframe\">\n",
       "  <thead>\n",
       "    <tr style=\"text-align: right;\">\n",
       "      <th></th>\n",
       "      <th>Name</th>\n",
       "      <th>style</th>\n",
       "      <th>IBU</th>\n",
       "      <th>ABV</th>\n",
       "      <th>Description</th>\n",
       "    </tr>\n",
       "  </thead>\n",
       "  <tbody>\n",
       "    <tr>\n",
       "      <th>0</th>\n",
       "      <td>Vicinity</td>\n",
       "      <td>IPA - Imperial / Double</td>\n",
       "      <td>65</td>\n",
       "      <td>8.0</td>\n",
       "      <td>Originally brewed in celebration of the first ...</td>\n",
       "    </tr>\n",
       "    <tr>\n",
       "      <th>1</th>\n",
       "      <td>Galaxy Dry Hopped Fort Point</td>\n",
       "      <td>Pale Ale - American</td>\n",
       "      <td>45</td>\n",
       "      <td>6.6</td>\n",
       "      <td>This version of our signature American pale al...</td>\n",
       "    </tr>\n",
       "    <tr>\n",
       "      <th>2</th>\n",
       "      <td>Launch Beer</td>\n",
       "      <td>Pale Ale - American</td>\n",
       "      <td>68</td>\n",
       "      <td>5.7</td>\n",
       "      <td>First brewed to commemorate the grand opening ...</td>\n",
       "    </tr>\n",
       "    <tr>\n",
       "      <th>3</th>\n",
       "      <td>Julius</td>\n",
       "      <td>IPA - American</td>\n",
       "      <td>72</td>\n",
       "      <td>6.8</td>\n",
       "      <td>Bursting with pungent American hops, Julius - ...</td>\n",
       "    </tr>\n",
       "    <tr>\n",
       "      <th>4</th>\n",
       "      <td>Haze</td>\n",
       "      <td>IPA - Imperial / Double</td>\n",
       "      <td>90</td>\n",
       "      <td>8.2</td>\n",
       "      <td>Our Double IPA! We smell a ton of peach on the...</td>\n",
       "    </tr>\n",
       "    <tr>\n",
       "      <th>...</th>\n",
       "      <td>...</td>\n",
       "      <td>...</td>\n",
       "      <td>...</td>\n",
       "      <td>...</td>\n",
       "      <td>...</td>\n",
       "    </tr>\n",
       "    <tr>\n",
       "      <th>536</th>\n",
       "      <td>Mexican Dark Lager</td>\n",
       "      <td>Lager - Vienna</td>\n",
       "      <td>24</td>\n",
       "      <td>5.0</td>\n",
       "      <td>Port Cityâs Mexican Dark Lager draws inspira...</td>\n",
       "    </tr>\n",
       "    <tr>\n",
       "      <th>537</th>\n",
       "      <td>Ideaal Tripel</td>\n",
       "      <td>Belgian Tripel</td>\n",
       "      <td>35</td>\n",
       "      <td>8.5</td>\n",
       "      <td>Drawing inspiration from Belgiumâs monastic ...</td>\n",
       "    </tr>\n",
       "    <tr>\n",
       "      <th>538</th>\n",
       "      <td>Hazy ipa</td>\n",
       "      <td>IPA - New England / Hazy</td>\n",
       "      <td>35</td>\n",
       "      <td>6.8</td>\n",
       "      <td>Brewed to highlight hop aroma and flavor, Hazy...</td>\n",
       "    </tr>\n",
       "    <tr>\n",
       "      <th>539</th>\n",
       "      <td>Star SailorÂ®</td>\n",
       "      <td>IPA - White</td>\n",
       "      <td>40</td>\n",
       "      <td>6.2</td>\n",
       "      <td>Exploring the limits of IPAs, Star SailorÂ® Wh...</td>\n",
       "    </tr>\n",
       "    <tr>\n",
       "      <th>540</th>\n",
       "      <td>German Pilsner</td>\n",
       "      <td>Pilsner - German</td>\n",
       "      <td>35</td>\n",
       "      <td>4.6</td>\n",
       "      <td>Looking to Germany for inspiration, our German...</td>\n",
       "    </tr>\n",
       "  </tbody>\n",
       "</table>\n",
       "<p>541 rows × 5 columns</p>\n",
       "</div>"
      ],
      "text/plain": [
       "                             Name                     style  IBU  ABV  \\\n",
       "0                        Vicinity   IPA - Imperial / Double   65  8.0   \n",
       "1    Galaxy Dry Hopped Fort Point       Pale Ale - American   45  6.6   \n",
       "2                     Launch Beer       Pale Ale - American   68  5.7   \n",
       "3                          Julius            IPA - American   72  6.8   \n",
       "4                            Haze   IPA - Imperial / Double   90  8.2   \n",
       "..                            ...                       ...  ...  ...   \n",
       "536            Mexican Dark Lager            Lager - Vienna   24  5.0   \n",
       "537                 Ideaal Tripel            Belgian Tripel   35  8.5   \n",
       "538                      Hazy ipa  IPA - New England / Hazy   35  6.8   \n",
       "539                 Star SailorÂ®               IPA - White   40  6.2   \n",
       "540                German Pilsner          Pilsner - German   35  4.6   \n",
       "\n",
       "                                           Description  \n",
       "0    Originally brewed in celebration of the first ...  \n",
       "1    This version of our signature American pale al...  \n",
       "2    First brewed to commemorate the grand opening ...  \n",
       "3    Bursting with pungent American hops, Julius - ...  \n",
       "4    Our Double IPA! We smell a ton of peach on the...  \n",
       "..                                                 ...  \n",
       "536  Port Cityâs Mexican Dark Lager draws inspira...  \n",
       "537  Drawing inspiration from Belgiumâs monastic ...  \n",
       "538  Brewed to highlight hop aroma and flavor, Hazy...  \n",
       "539  Exploring the limits of IPAs, Star SailorÂ® Wh...  \n",
       "540  Looking to Germany for inspiration, our German...  \n",
       "\n",
       "[541 rows x 5 columns]"
      ]
     },
     "execution_count": 3,
     "metadata": {},
     "output_type": "execute_result"
    }
   ],
   "source": [
    "df"
   ]
  },
  {
   "cell_type": "code",
   "execution_count": 4,
   "metadata": {},
   "outputs": [],
   "source": [
    "styles = df['style'].unique().tolist()"
   ]
  },
  {
   "cell_type": "code",
   "execution_count": 17,
   "metadata": {},
   "outputs": [
    {
     "data": {
      "text/plain": [
       "['IPA - Imperial / Double',\n",
       " 'Pale Ale - American',\n",
       " 'IPA - American',\n",
       " 'Stout - Milk / Sweet',\n",
       " 'IPA - New England / Hazy',\n",
       " 'Stout - Oatmeal',\n",
       " 'MÃ¤rzen',\n",
       " 'Bock - Single / Traditional',\n",
       " 'Pumpkin / Yam Beer',\n",
       " 'Pale Ale - Belgian',\n",
       " 'Blonde Ale',\n",
       " 'Pilsner - Czech',\n",
       " 'Stout - Imperial / Double Oatmeal',\n",
       " 'IPA - Triple New England / Hazy',\n",
       " 'Stout - Imperial / Double',\n",
       " 'Barleywine - English',\n",
       " 'Stout - Imperial / Double Milk',\n",
       " 'Porter - Imperial / Double',\n",
       " 'Sour - Berliner Weisse',\n",
       " 'Belgian Quadrupel',\n",
       " 'Barleywine - American',\n",
       " 'Stout - Russian Imperial',\n",
       " 'Barleywine - Other',\n",
       " 'Stout - Foreign / Export',\n",
       " 'Farmhouse Ale - Saison',\n",
       " 'Lager - Helles',\n",
       " 'Stout - Imperial / Double Coffee',\n",
       " 'Stout - Imperial / Double Pastry',\n",
       " 'Stout - Other',\n",
       " 'Wild Ale - American',\n",
       " 'Sour - Other',\n",
       " 'Wild Ale - Other',\n",
       " 'IPA - Imperial / Double New England / Hazy',\n",
       " 'Sour - Flanders Oud Bruin',\n",
       " 'Wheat Beer - Witbier / Blanche',\n",
       " 'Pilsner - German',\n",
       " 'Belgian Tripel',\n",
       " 'Pale Ale - New England / Hazy',\n",
       " 'California Common',\n",
       " 'Sour - Fruited',\n",
       " 'IPA - Brut',\n",
       " 'Brown Ale - Imperial / Double',\n",
       " 'Shandy / Radler',\n",
       " 'Malt Liquor',\n",
       " 'Porter - Other',\n",
       " 'Golden Ale',\n",
       " 'Belgian Strong Golden Ale',\n",
       " 'Porter - American',\n",
       " 'Festbier',\n",
       " 'Brown Ale - American',\n",
       " 'IPA - Session',\n",
       " 'Winter Ale',\n",
       " 'IPA - Triple',\n",
       " 'Wheat Beer - Wheat Wine',\n",
       " 'Sour - Traditional Gose',\n",
       " 'Sour - Fruited Gose',\n",
       " 'Schwarzbier',\n",
       " 'IPA - Milkshake',\n",
       " 'Pilsner - Other',\n",
       " 'Rye Beer',\n",
       " 'Lager - Pale',\n",
       " 'Wheat Beer - Hefeweizen',\n",
       " 'Red Ale - American Amber / Red',\n",
       " 'IPA - Rye',\n",
       " 'IPA - Imperial / Double Black',\n",
       " 'Smoked Beer',\n",
       " 'English Bitter',\n",
       " 'Old Ale',\n",
       " 'Belgian Strong Dark Ale',\n",
       " 'Sour - Flanders Red Ale',\n",
       " 'Lambic - Kriek',\n",
       " 'Belgian Dubbel',\n",
       " 'Belgian Blonde',\n",
       " 'Lambic - Fruit',\n",
       " 'Red Ale - Other',\n",
       " 'Spiced / Herbed Beer',\n",
       " 'Wheat Beer - American Pale Wheat',\n",
       " 'IPA - Black / Cascadian Dark Ale',\n",
       " 'Farmhouse Ale - Other',\n",
       " 'Brown Ale - Other',\n",
       " 'Sour - Fruited Berliner Weisse',\n",
       " 'Honey Beer',\n",
       " 'Red Ale - Irish',\n",
       " 'Stout - White',\n",
       " 'IPA - English',\n",
       " 'IPA - Red',\n",
       " 'Lager - American',\n",
       " 'Scottish Ale',\n",
       " 'Stout - Oyster',\n",
       " 'Kellerbier / Zwickelbier',\n",
       " 'Rauchbier',\n",
       " 'Lager - Vienna',\n",
       " 'IPA - White']"
      ]
     },
     "execution_count": 17,
     "metadata": {},
     "output_type": "execute_result"
    }
   ],
   "source": [
    "styles"
   ]
  },
  {
   "cell_type": "code",
   "execution_count": 6,
   "metadata": {},
   "outputs": [],
   "source": [
    "sour_ls = [df['style'].iloc[i] for i in range(len(df)) if 'Sour' in df['style'].iloc[i]]"
   ]
  },
  {
   "cell_type": "code",
   "execution_count": 76,
   "metadata": {},
   "outputs": [
    {
     "data": {
      "text/plain": [
       "(1, 6)"
      ]
     },
     "execution_count": 76,
     "metadata": {},
     "output_type": "execute_result"
    }
   ],
   "source": [
    "style_df = df[df['style'].str.contains('Honey')]\n",
    "style_df.shape"
   ]
  },
  {
   "cell_type": "code",
   "execution_count": null,
   "metadata": {},
   "outputs": [],
   "source": [
    "# Pale Ale 40\n",
    "# IPA 218\n",
    "# Stout 92\n",
    "# Sour 43\n",
    "# Lager 9 ,Pilsner 12, Bock 2, 'MÃ¤rzen' 4\n",
    "# Bock 2\n",
    "# Blonde Ale 2\n",
    "# 'MÃ¤rzen' 4\n",
    "# Brown Ale 7\n",
    "# Wheat 11\n",
    "# Wild Ale 20\n",
    "# Red Ale 4"
   ]
  },
  {
   "cell_type": "code",
   "execution_count": null,
   "metadata": {},
   "outputs": [],
   "source": []
  },
  {
   "cell_type": "code",
   "execution_count": null,
   "metadata": {},
   "outputs": [],
   "source": [
    "###### Styles i Think i might try to do here\n",
    "# IPA 218\n",
    "# Stout 92\n",
    "# Wild Ale [Sour - Fruited Gose, Sour - Fruited, Sour - Berlinner Weisse] 63\n",
    "# Pale Ale 40\n",
    "# lager [Pilsner, Bock, Marzen] 27\n",
    "# Belgian ['Belgian Pale Ale','Belgian Strong Pale Ale','Belgian Dark Ale','Saison / Farmhouse Ale', 'Tripel','Dubbel'] 15\n",
    "# Porter 11\n",
    "# Wheat Beer 11\n",
    "\n",
    "#need to get more of everything especially wheat, porter, belgian, lager, pale ale\n"
   ]
  },
  {
   "cell_type": "code",
   "execution_count": 225,
   "metadata": {},
   "outputs": [
    {
     "data": {
      "text/plain": [
       "222"
      ]
     },
     "execution_count": 225,
     "metadata": {},
     "output_type": "execute_result"
    }
   ],
   "source": [
    "92 + 63+40+27"
   ]
  },
  {
   "cell_type": "code",
   "execution_count": null,
   "metadata": {},
   "outputs": [],
   "source": []
  },
  {
   "cell_type": "code",
   "execution_count": 55,
   "metadata": {},
   "outputs": [],
   "source": [
    "# so I could start off by seeing if it can identify an IPA and compare the IPAs to \n",
    " # Stout, Sours, Pale Ale, and Lager, and mayyybe Belgian"
   ]
  },
  {
   "cell_type": "code",
   "execution_count": 60,
   "metadata": {},
   "outputs": [
    {
     "name": "stderr",
     "output_type": "stream",
     "text": [
      "C:\\Users\\612456\\AppData\\Local\\Temp\\1\\ipykernel_11096\\2248898157.py:4: SettingWithCopyWarning: \n",
      "A value is trying to be set on a copy of a slice from a DataFrame\n",
      "\n",
      "See the caveats in the documentation: https://pandas.pydata.org/pandas-docs/stable/user_guide/indexing.html#returning-a-view-versus-a-copy\n",
      "  df['is_IPA'].iloc[i]=1\n"
     ]
    }
   ],
   "source": [
    "#creates binary column 'is_IPA'\n",
    "df['is_IPA'] = [0]*len(df)\n",
    "for i in range(len(df)):\n",
    "    if 'IPA' in df['style'].iloc[i]:\n",
    "        df['is_IPA'].iloc[i]=1"
   ]
  },
  {
   "cell_type": "code",
   "execution_count": 176,
   "metadata": {},
   "outputs": [
    {
     "name": "stderr",
     "output_type": "stream",
     "text": [
      "C:\\Users\\612456\\AppData\\Local\\Temp\\1\\ipykernel_11096\\2198410040.py:3: SettingWithCopyWarning: \n",
      "A value is trying to be set on a copy of a slice from a DataFrame\n",
      "\n",
      "See the caveats in the documentation: https://pandas.pydata.org/pandas-docs/stable/user_guide/indexing.html#returning-a-view-versus-a-copy\n",
      "  df['Description'].iloc[i] = df['Description'].iloc[i].lower()\n"
     ]
    }
   ],
   "source": [
    "# gets the descriptions to be all lower case\n",
    "for i in range(len(df)):\n",
    "    df['Description'].iloc[i] = df['Description'].iloc[i].lower()"
   ]
  },
  {
   "cell_type": "code",
   "execution_count": 177,
   "metadata": {},
   "outputs": [],
   "source": [
    "#words that I need to remove from the descriptions of the beers because they will give the style away\n",
    "scratch_words = ['ipa', 'hazy', 'west coast', 'belgian', 'porter', 'pale', 'ale', 'wild', 'sour', 'stout', \n",
    "                 'lager', 'saison', 'farmhouse', 'dubbel', 'tripel', 'mã¤rzen', 'tree house family', 'american',\n",
    "                 'india', 'blonde']\n",
    "# might keep 'hazy', but could be too obvious"
   ]
  },
  {
   "cell_type": "code",
   "execution_count": 215,
   "metadata": {},
   "outputs": [],
   "source": [
    "tst_styles = ['IPA', 'Stout', 'Wild', 'Sour', 'Pale Ale', 'Lager', 'Pilsner', 'Bock', 'MÃ¤rzen']\n",
    "test_df = df[(df['style'].str.contains('|'.join(tst_styles)))]   #438 beers"
   ]
  },
  {
   "cell_type": "code",
   "execution_count": null,
   "metadata": {},
   "outputs": [],
   "source": []
  },
  {
   "cell_type": "code",
   "execution_count": 217,
   "metadata": {},
   "outputs": [
    {
     "name": "stderr",
     "output_type": "stream",
     "text": [
      "C:\\Users\\612456\\AppData\\Local\\Temp\\1\\ipykernel_11096\\4093491772.py:5: SettingWithCopyWarning: \n",
      "A value is trying to be set on a copy of a slice from a DataFrame\n",
      "\n",
      "See the caveats in the documentation: https://pandas.pydata.org/pandas-docs/stable/user_guide/indexing.html#returning-a-view-versus-a-copy\n",
      "  test_df['Description'].iloc[i] = ' '.join(resultwords)\n"
     ]
    }
   ],
   "source": [
    "#goes through all the rows of the df and removes the scratch_words\n",
    "for i in range(len(test_df)):\n",
    "    tmp_str = test_df['Description'].iloc[i].split()\n",
    "    resultwords = [word for word in tmp_str if word not in scratch_words]\n",
    "    test_df['Description'].iloc[i] = ' '.join(resultwords)"
   ]
  },
  {
   "cell_type": "code",
   "execution_count": 218,
   "metadata": {},
   "outputs": [
    {
     "name": "stderr",
     "output_type": "stream",
     "text": [
      "[nltk_data] Downloading package stopwords to\n",
      "[nltk_data]     C:\\Users\\612456\\AppData\\Roaming\\nltk_data...\n",
      "[nltk_data]   Package stopwords is already up-to-date!\n"
     ]
    }
   ],
   "source": [
    "#try removing stopwords and stemming the words\n",
    "from nltk.corpus import stopwords\n",
    "import nltk.data\n",
    "import nltk\n",
    "\n",
    "nltk.download('stopwords')\n",
    "stop_words = stopwords.words('english')"
   ]
  },
  {
   "cell_type": "code",
   "execution_count": 220,
   "metadata": {},
   "outputs": [
    {
     "name": "stderr",
     "output_type": "stream",
     "text": [
      "C:\\Users\\612456\\AppData\\Local\\Temp\\1\\ipykernel_11096\\39512009.py:9: SettingWithCopyWarning: \n",
      "A value is trying to be set on a copy of a slice from a DataFrame\n",
      "\n",
      "See the caveats in the documentation: https://pandas.pydata.org/pandas-docs/stable/user_guide/indexing.html#returning-a-view-versus-a-copy\n",
      "  test_df['Description'].iloc[i] = ' '.join(tmp_str)\n"
     ]
    }
   ],
   "source": [
    "#removes stopwords, stems words, and removes anything not an alpha ** and numeric?? char\n",
    "from nltk.stem.porter import PorterStemmer\n",
    "\n",
    "for i in range(len(test_df)):\n",
    "    tmp_str = test_df['Description'].iloc[i].split()\n",
    "    tmp_str = [word for word in tmp_str if not word in stop_words]\n",
    "    tmp_str = [word for word in tmp_str if word.isalpha()]\n",
    "    tmp_str = [PorterStemmer().stem(word) for word in tmp_str]\n",
    "    test_df['Description'].iloc[i] = ' '.join(tmp_str)"
   ]
  },
  {
   "cell_type": "code",
   "execution_count": 221,
   "metadata": {},
   "outputs": [],
   "source": [
    "#testing a ml model for determining if it is an IPA or not\n",
    "from sklearn.model_selection import train_test_split\n",
    "from sklearn.feature_extraction.text import CountVectorizer, TfidfVectorizer\n",
    "\n",
    "X = test_df['Description']\n",
    "y = test_df['is_IPA']\n",
    "\n",
    "X_train, X_test, y_train, y_test = train_test_split(X, y, random_state=1)"
   ]
  },
  {
   "cell_type": "code",
   "execution_count": 222,
   "metadata": {},
   "outputs": [],
   "source": [
    "vect = CountVectorizer()\n",
    "X_train_dtm = vect.fit_transform(X_train)\n",
    "X_test_dtm = vect.transform(X_test)"
   ]
  },
  {
   "cell_type": "code",
   "execution_count": 223,
   "metadata": {},
   "outputs": [
    {
     "name": "stdout",
     "output_type": "stream",
     "text": [
      "accuracy =  0.8818181818181818\n"
     ]
    }
   ],
   "source": [
    "from sklearn.naive_bayes import MultinomialNB\n",
    "from sklearn import metrics\n",
    "nb = MultinomialNB()\n",
    "nb.fit(X_train_dtm, y_train)\n",
    "y_pred_class = nb.predict(X_test_dtm)\n",
    "print('accuracy = ',(metrics.accuracy_score(y_test,y_pred_class)))"
   ]
  },
  {
   "cell_type": "code",
   "execution_count": 224,
   "metadata": {},
   "outputs": [
    {
     "name": "stdout",
     "output_type": "stream",
     "text": [
      "Percent IPA: 0.4818181818181818\n",
      "Percent non IPA: 0.5181818181818182\n"
     ]
    }
   ],
   "source": [
    "print('Percent IPA:', y_test.mean())\n",
    "print('Percent non IPA:', 1 - y_test.mean())"
   ]
  },
  {
   "cell_type": "markdown",
   "metadata": {},
   "source": [
    "## Runnig Results\n",
    "    - Baseline of 48%\n",
    "    - Inital test accuracy was 81%\n",
    "    - next I removed stopwords and stemmed the words to get an accuracy of 88%"
   ]
  },
  {
   "cell_type": "code",
   "execution_count": null,
   "metadata": {},
   "outputs": [],
   "source": []
  }
 ],
 "metadata": {
  "kernelspec": {
   "display_name": "Python 3 (ipykernel)",
   "language": "python",
   "name": "python3"
  },
  "language_info": {
   "codemirror_mode": {
    "name": "ipython",
    "version": 3
   },
   "file_extension": ".py",
   "mimetype": "text/x-python",
   "name": "python",
   "nbconvert_exporter": "python",
   "pygments_lexer": "ipython3",
   "version": "3.10.4"
  }
 },
 "nbformat": 4,
 "nbformat_minor": 4
}
