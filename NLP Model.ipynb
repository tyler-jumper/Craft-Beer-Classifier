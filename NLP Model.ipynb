{
 "cells": [
  {
   "cell_type": "code",
   "execution_count": 1,
   "id": "b93f51d5",
   "metadata": {},
   "outputs": [],
   "source": [
    "import pandas as pd\n",
    "from nltk.corpus import stopwords\n",
    "import nltk.data\n",
    "import nltk\n",
    "from nltk.stem.porter import PorterStemmer\n",
    "\n",
    "from sklearn.model_selection import train_test_split\n",
    "from sklearn.feature_extraction.text import CountVectorizer, TfidfVectorizer\n",
    "from sklearn.naive_bayes import MultinomialNB\n",
    "from sklearn import metrics"
   ]
  },
  {
   "cell_type": "code",
   "execution_count": 2,
   "id": "7f1a7671",
   "metadata": {},
   "outputs": [],
   "source": [
    "df = pd.read_csv('untappd_beers.csv',encoding='latin-1')\n",
    "df.drop('Unnamed: 0', axis=1, inplace=True)"
   ]
  },
  {
   "cell_type": "code",
   "execution_count": 4,
   "id": "3786e431",
   "metadata": {},
   "outputs": [
    {
     "data": {
      "text/html": [
       "<div>\n",
       "<style scoped>\n",
       "    .dataframe tbody tr th:only-of-type {\n",
       "        vertical-align: middle;\n",
       "    }\n",
       "\n",
       "    .dataframe tbody tr th {\n",
       "        vertical-align: top;\n",
       "    }\n",
       "\n",
       "    .dataframe thead th {\n",
       "        text-align: right;\n",
       "    }\n",
       "</style>\n",
       "<table border=\"1\" class=\"dataframe\">\n",
       "  <thead>\n",
       "    <tr style=\"text-align: right;\">\n",
       "      <th></th>\n",
       "      <th>Name</th>\n",
       "      <th>style</th>\n",
       "      <th>IBU</th>\n",
       "      <th>ABV</th>\n",
       "      <th>Description</th>\n",
       "    </tr>\n",
       "  </thead>\n",
       "  <tbody>\n",
       "    <tr>\n",
       "      <th>0</th>\n",
       "      <td>Vicinity</td>\n",
       "      <td>IPA - Imperial / Double</td>\n",
       "      <td>65</td>\n",
       "      <td>8.0</td>\n",
       "      <td>Originally brewed in celebration of the first ...</td>\n",
       "    </tr>\n",
       "    <tr>\n",
       "      <th>1</th>\n",
       "      <td>Galaxy Dry Hopped Fort Point</td>\n",
       "      <td>Pale Ale - American</td>\n",
       "      <td>45</td>\n",
       "      <td>6.6</td>\n",
       "      <td>This version of our signature American pale al...</td>\n",
       "    </tr>\n",
       "    <tr>\n",
       "      <th>2</th>\n",
       "      <td>Launch Beer</td>\n",
       "      <td>Pale Ale - American</td>\n",
       "      <td>68</td>\n",
       "      <td>5.7</td>\n",
       "      <td>First brewed to commemorate the grand opening ...</td>\n",
       "    </tr>\n",
       "    <tr>\n",
       "      <th>3</th>\n",
       "      <td>Julius</td>\n",
       "      <td>IPA - American</td>\n",
       "      <td>72</td>\n",
       "      <td>6.8</td>\n",
       "      <td>Bursting with pungent American hops, Julius - ...</td>\n",
       "    </tr>\n",
       "    <tr>\n",
       "      <th>4</th>\n",
       "      <td>Haze</td>\n",
       "      <td>IPA - Imperial / Double</td>\n",
       "      <td>90</td>\n",
       "      <td>8.2</td>\n",
       "      <td>Our Double IPA! We smell a ton of peach on the...</td>\n",
       "    </tr>\n",
       "    <tr>\n",
       "      <th>...</th>\n",
       "      <td>...</td>\n",
       "      <td>...</td>\n",
       "      <td>...</td>\n",
       "      <td>...</td>\n",
       "      <td>...</td>\n",
       "    </tr>\n",
       "    <tr>\n",
       "      <th>536</th>\n",
       "      <td>Mexican Dark Lager</td>\n",
       "      <td>Lager - Vienna</td>\n",
       "      <td>24</td>\n",
       "      <td>5.0</td>\n",
       "      <td>Port Cityâs Mexican Dark Lager draws inspira...</td>\n",
       "    </tr>\n",
       "    <tr>\n",
       "      <th>537</th>\n",
       "      <td>Ideaal Tripel</td>\n",
       "      <td>Belgian Tripel</td>\n",
       "      <td>35</td>\n",
       "      <td>8.5</td>\n",
       "      <td>Drawing inspiration from Belgiumâs monastic ...</td>\n",
       "    </tr>\n",
       "    <tr>\n",
       "      <th>538</th>\n",
       "      <td>Hazy ipa</td>\n",
       "      <td>IPA - New England / Hazy</td>\n",
       "      <td>35</td>\n",
       "      <td>6.8</td>\n",
       "      <td>Brewed to highlight hop aroma and flavor, Hazy...</td>\n",
       "    </tr>\n",
       "    <tr>\n",
       "      <th>539</th>\n",
       "      <td>Star SailorÂ®</td>\n",
       "      <td>IPA - White</td>\n",
       "      <td>40</td>\n",
       "      <td>6.2</td>\n",
       "      <td>Exploring the limits of IPAs, Star SailorÂ® Wh...</td>\n",
       "    </tr>\n",
       "    <tr>\n",
       "      <th>540</th>\n",
       "      <td>German Pilsner</td>\n",
       "      <td>Pilsner - German</td>\n",
       "      <td>35</td>\n",
       "      <td>4.6</td>\n",
       "      <td>Looking to Germany for inspiration, our German...</td>\n",
       "    </tr>\n",
       "  </tbody>\n",
       "</table>\n",
       "<p>541 rows × 5 columns</p>\n",
       "</div>"
      ],
      "text/plain": [
       "                             Name                     style  IBU  ABV  \\\n",
       "0                        Vicinity   IPA - Imperial / Double   65  8.0   \n",
       "1    Galaxy Dry Hopped Fort Point       Pale Ale - American   45  6.6   \n",
       "2                     Launch Beer       Pale Ale - American   68  5.7   \n",
       "3                          Julius            IPA - American   72  6.8   \n",
       "4                            Haze   IPA - Imperial / Double   90  8.2   \n",
       "..                            ...                       ...  ...  ...   \n",
       "536            Mexican Dark Lager            Lager - Vienna   24  5.0   \n",
       "537                 Ideaal Tripel            Belgian Tripel   35  8.5   \n",
       "538                      Hazy ipa  IPA - New England / Hazy   35  6.8   \n",
       "539                 Star SailorÂ®               IPA - White   40  6.2   \n",
       "540                German Pilsner          Pilsner - German   35  4.6   \n",
       "\n",
       "                                           Description  \n",
       "0    Originally brewed in celebration of the first ...  \n",
       "1    This version of our signature American pale al...  \n",
       "2    First brewed to commemorate the grand opening ...  \n",
       "3    Bursting with pungent American hops, Julius - ...  \n",
       "4    Our Double IPA! We smell a ton of peach on the...  \n",
       "..                                                 ...  \n",
       "536  Port Cityâs Mexican Dark Lager draws inspira...  \n",
       "537  Drawing inspiration from Belgiumâs monastic ...  \n",
       "538  Brewed to highlight hop aroma and flavor, Hazy...  \n",
       "539  Exploring the limits of IPAs, Star SailorÂ® Wh...  \n",
       "540  Looking to Germany for inspiration, our German...  \n",
       "\n",
       "[541 rows x 5 columns]"
      ]
     },
     "execution_count": 4,
     "metadata": {},
     "output_type": "execute_result"
    }
   ],
   "source": [
    "df"
   ]
  },
  {
   "cell_type": "code",
   "execution_count": 24,
   "id": "d1063849",
   "metadata": {
    "scrolled": true
   },
   "outputs": [
    {
     "data": {
      "text/plain": [
       "['IPA - Imperial / Double',\n",
       " 'Pale Ale - American',\n",
       " 'IPA - American',\n",
       " 'Stout - Milk / Sweet',\n",
       " 'IPA - New England / Hazy',\n",
       " 'Stout - Oatmeal',\n",
       " 'MÃ¤rzen',\n",
       " 'Bock - Single / Traditional',\n",
       " 'Pumpkin / Yam Beer',\n",
       " 'Pale Ale - Belgian',\n",
       " 'Blonde Ale',\n",
       " 'Pilsner - Czech',\n",
       " 'Stout - Imperial / Double Oatmeal',\n",
       " 'IPA - Triple New England / Hazy',\n",
       " 'Stout - Imperial / Double',\n",
       " 'Barleywine - English',\n",
       " 'Stout - Imperial / Double Milk',\n",
       " 'Porter - Imperial / Double',\n",
       " 'Sour - Berliner Weisse',\n",
       " 'Belgian Quadrupel',\n",
       " 'Barleywine - American',\n",
       " 'Stout - Russian Imperial',\n",
       " 'Barleywine - Other',\n",
       " 'Stout - Foreign / Export',\n",
       " 'Farmhouse Ale - Saison',\n",
       " 'Lager - Helles',\n",
       " 'Stout - Imperial / Double Coffee',\n",
       " 'Stout - Imperial / Double Pastry',\n",
       " 'Stout - Other',\n",
       " 'Wild Ale - American',\n",
       " 'Sour - Other',\n",
       " 'Wild Ale - Other',\n",
       " 'IPA - Imperial / Double New England / Hazy',\n",
       " 'Sour - Flanders Oud Bruin',\n",
       " 'Wheat Beer - Witbier / Blanche',\n",
       " 'Pilsner - German',\n",
       " 'Belgian Tripel',\n",
       " 'Pale Ale - New England / Hazy',\n",
       " 'California Common',\n",
       " 'Sour - Fruited',\n",
       " 'IPA - Brut',\n",
       " 'Brown Ale - Imperial / Double',\n",
       " 'Shandy / Radler',\n",
       " 'Malt Liquor',\n",
       " 'Porter - Other',\n",
       " 'Golden Ale',\n",
       " 'Belgian Strong Golden Ale',\n",
       " 'Porter - American',\n",
       " 'Festbier',\n",
       " 'Brown Ale - American',\n",
       " 'IPA - Session',\n",
       " 'Winter Ale',\n",
       " 'IPA - Triple',\n",
       " 'Wheat Beer - Wheat Wine',\n",
       " 'Sour - Traditional Gose',\n",
       " 'Sour - Fruited Gose',\n",
       " 'Schwarzbier',\n",
       " 'IPA - Milkshake',\n",
       " 'Pilsner - Other',\n",
       " 'Rye Beer',\n",
       " 'Lager - Pale',\n",
       " 'Wheat Beer - Hefeweizen',\n",
       " 'Red Ale - American Amber / Red',\n",
       " 'IPA - Rye',\n",
       " 'IPA - Imperial / Double Black',\n",
       " 'Smoked Beer',\n",
       " 'English Bitter',\n",
       " 'Old Ale',\n",
       " 'Belgian Strong Dark Ale',\n",
       " 'Sour - Flanders Red Ale',\n",
       " 'Lambic - Kriek',\n",
       " 'Belgian Dubbel',\n",
       " 'Belgian Blonde',\n",
       " 'Lambic - Fruit',\n",
       " 'Red Ale - Other',\n",
       " 'Spiced / Herbed Beer',\n",
       " 'Wheat Beer - American Pale Wheat',\n",
       " 'IPA - Black / Cascadian Dark Ale',\n",
       " 'Farmhouse Ale - Other',\n",
       " 'Brown Ale - Other',\n",
       " 'Sour - Fruited Berliner Weisse',\n",
       " 'Honey Beer',\n",
       " 'Red Ale - Irish',\n",
       " 'Stout - White',\n",
       " 'IPA - English',\n",
       " 'IPA - Red',\n",
       " 'Lager - American',\n",
       " 'Scottish Ale',\n",
       " 'Stout - Oyster',\n",
       " 'Kellerbier / Zwickelbier',\n",
       " 'Rauchbier',\n",
       " 'Lager - Vienna',\n",
       " 'IPA - White']"
      ]
     },
     "execution_count": 24,
     "metadata": {},
     "output_type": "execute_result"
    }
   ],
   "source": [
    "#every unique stye of beer in the df\n",
    "styles = df['style'].unique().tolist()\n",
    "styles"
   ]
  },
  {
   "cell_type": "code",
   "execution_count": 25,
   "id": "f4074e4b",
   "metadata": {},
   "outputs": [
    {
     "data": {
      "text/plain": [
       "(1, 6)"
      ]
     },
     "execution_count": 25,
     "metadata": {},
     "output_type": "execute_result"
    }
   ],
   "source": [
    "\n",
    "#using this cell to test and see how many beers that have the word <blank> in them\n",
    "#  ie. 'IPA',' Wheat', 'Pale Ale', etc. \n",
    "style_df = df[df['style'].str.contains('Honey')]\n",
    "style_df.shape"
   ]
  },
  {
   "cell_type": "markdown",
   "id": "c0e0f860",
   "metadata": {},
   "source": [
    "#### These are the current counts of each type of beer"
   ]
  },
  {
   "cell_type": "code",
   "execution_count": 10,
   "id": "474f13c5",
   "metadata": {},
   "outputs": [],
   "source": [
    "# IPA 218\n",
    "# Stout 92\n",
    "# Wild Ale [Sour - Fruited Gose, Sour - Fruited, Sour - Berlinner Weisse] 63\n",
    "# Pale Ale 40\n",
    "# lager [Pilsner, Bock, Marzen] 27\n",
    "# Belgian ['Belgian Pale Ale','Belgian Strong Pale Ale','Belgian Dark Ale','Saison / Farmhouse Ale', 'Tripel','Dubbel'] 15\n",
    "# Porter 11\n",
    "# Wheat Beer 11\n",
    "\n",
    "#need to get more of everything especially wheat, porter, belgian, lager, pale ale\n"
   ]
  },
  {
   "cell_type": "code",
   "execution_count": null,
   "id": "75a826bd",
   "metadata": {},
   "outputs": [],
   "source": []
  },
  {
   "cell_type": "markdown",
   "id": "96bfb0e3",
   "metadata": {},
   "source": [
    "### Getting Data ready for Model\n",
    "- I'm starting off identifying IPAs among other other specific beer types\n",
    "- The goal will be to make it 50/50 split of IPAs to non IPAs\n",
    "- I'll use: Stout, Sours, Pale Ale, and Lager, and mayyybe Belgian (haven't included Belgian yet)"
   ]
  },
  {
   "cell_type": "code",
   "execution_count": 26,
   "id": "e3f29568",
   "metadata": {},
   "outputs": [
    {
     "name": "stderr",
     "output_type": "stream",
     "text": [
      "C:\\Users\\612456\\AppData\\Local\\Temp\\1\\ipykernel_17360\\3586612665.py:5: SettingWithCopyWarning: \n",
      "A value is trying to be set on a copy of a slice from a DataFrame\n",
      "\n",
      "See the caveats in the documentation: https://pandas.pydata.org/pandas-docs/stable/user_guide/indexing.html#returning-a-view-versus-a-copy\n",
      "  df['is_IPA'].iloc[i]=1\n"
     ]
    }
   ],
   "source": [
    "#creates binary identifying column 'is_IPA'\n",
    "df['is_IPA'] = [0]*len(df)\n",
    "for i in range(len(df)):\n",
    "    if 'IPA' in df['style'].iloc[i]:\n",
    "        df['is_IPA'].iloc[i]=1"
   ]
  },
  {
   "cell_type": "code",
   "execution_count": 27,
   "id": "ca32c065",
   "metadata": {},
   "outputs": [
    {
     "name": "stderr",
     "output_type": "stream",
     "text": [
      "C:\\Users\\612456\\AppData\\Local\\Temp\\1\\ipykernel_17360\\446356232.py:3: SettingWithCopyWarning: \n",
      "A value is trying to be set on a copy of a slice from a DataFrame\n",
      "\n",
      "See the caveats in the documentation: https://pandas.pydata.org/pandas-docs/stable/user_guide/indexing.html#returning-a-view-versus-a-copy\n",
      "  df['Description'].iloc[i] = df['Description'].iloc[i].lower()\n"
     ]
    }
   ],
   "source": [
    "# gets the 'Descriptions' to be all lower case\n",
    "for i in range(len(df)):\n",
    "    df['Description'].iloc[i] = df['Description'].iloc[i].lower()"
   ]
  },
  {
   "cell_type": "markdown",
   "id": "af940330",
   "metadata": {},
   "source": [
    "#### Scratch words\n",
    "These words are identifying words, and could potentially give the Beer's style away. Words like the name of the beer and other similar words are included"
   ]
  },
  {
   "cell_type": "code",
   "execution_count": 28,
   "id": "31dfb182",
   "metadata": {},
   "outputs": [],
   "source": [
    "#words that I need to remove from the descriptions of the beers because they will give the style away\n",
    "scratch_words = ['ipa', 'hazy', 'west coast', 'belgian', 'porter', 'pale', 'ale', 'wild', 'sour', 'stout', \n",
    "                 'lager', 'saison', 'farmhouse', 'dubbel', 'tripel', 'mã¤rzen', 'tree house family', 'american',\n",
    "                 'india', 'blonde']\n",
    "# might keep 'hazy', but could be too obvious (haze is still in a fewof them and I think that is good)"
   ]
  },
  {
   "cell_type": "code",
   "execution_count": 29,
   "id": "05608969",
   "metadata": {},
   "outputs": [],
   "source": [
    "#creating a df of just the styles of beer that I want to test against\n",
    "tst_styles = ['IPA', 'Stout', 'Wild', 'Sour', 'Pale Ale', 'Lager', 'Pilsner', 'Bock', 'MÃ¤rzen']\n",
    "test_df = df[(df['style'].str.contains('|'.join(tst_styles)))]   #438 beers"
   ]
  },
  {
   "cell_type": "code",
   "execution_count": null,
   "id": "6c8a022f",
   "metadata": {},
   "outputs": [],
   "source": []
  },
  {
   "cell_type": "code",
   "execution_count": 30,
   "id": "7b72b918",
   "metadata": {},
   "outputs": [
    {
     "name": "stderr",
     "output_type": "stream",
     "text": [
      "C:\\Users\\612456\\AppData\\Local\\Temp\\1\\ipykernel_17360\\4093491772.py:5: SettingWithCopyWarning: \n",
      "A value is trying to be set on a copy of a slice from a DataFrame\n",
      "\n",
      "See the caveats in the documentation: https://pandas.pydata.org/pandas-docs/stable/user_guide/indexing.html#returning-a-view-versus-a-copy\n",
      "  test_df['Description'].iloc[i] = ' '.join(resultwords)\n"
     ]
    }
   ],
   "source": [
    "#goes through all the rows of the df and removes the scratch_words\n",
    "for i in range(len(test_df)):\n",
    "    tmp_str = test_df['Description'].iloc[i].split()\n",
    "    resultwords = [word for word in tmp_str if word not in scratch_words]\n",
    "    test_df['Description'].iloc[i] = ' '.join(resultwords)"
   ]
  },
  {
   "cell_type": "markdown",
   "id": "fb3d2669",
   "metadata": {},
   "source": [
    "#### Stopwords and Stemming"
   ]
  },
  {
   "cell_type": "code",
   "execution_count": 31,
   "id": "a3f44e59",
   "metadata": {},
   "outputs": [
    {
     "name": "stderr",
     "output_type": "stream",
     "text": [
      "[nltk_data] Downloading package stopwords to\n",
      "[nltk_data]     C:\\Users\\612456\\AppData\\Roaming\\nltk_data...\n",
      "[nltk_data]   Package stopwords is already up-to-date!\n"
     ]
    }
   ],
   "source": [
    "nltk.download('stopwords')\n",
    "stop_words = stopwords.words('english')"
   ]
  },
  {
   "cell_type": "code",
   "execution_count": 32,
   "id": "8d62bbd4",
   "metadata": {},
   "outputs": [
    {
     "name": "stderr",
     "output_type": "stream",
     "text": [
      "C:\\Users\\612456\\AppData\\Local\\Temp\\1\\ipykernel_17360\\1253929874.py:7: SettingWithCopyWarning: \n",
      "A value is trying to be set on a copy of a slice from a DataFrame\n",
      "\n",
      "See the caveats in the documentation: https://pandas.pydata.org/pandas-docs/stable/user_guide/indexing.html#returning-a-view-versus-a-copy\n",
      "  test_df['Description'].iloc[i] = ' '.join(tmp_str)\n"
     ]
    }
   ],
   "source": [
    "#removes stopwords, stems words, and removes anything not an alpha ** and numeric?? char\n",
    "for i in range(len(test_df)):\n",
    "    tmp_str = test_df['Description'].iloc[i].split()\n",
    "    tmp_str = [word for word in tmp_str if not word in stop_words]\n",
    "    tmp_str = [word for word in tmp_str if word.isalpha()]  #removes dashes, commas, etc\n",
    "    tmp_str = [PorterStemmer().stem(word) for word in tmp_str]\n",
    "    test_df['Description'].iloc[i] = ' '.join(tmp_str)"
   ]
  },
  {
   "cell_type": "markdown",
   "id": "5ee458e0",
   "metadata": {},
   "source": [
    "### The Model\n",
    "- I am going with a Naive Bays model, mainly because I used it in the DS5k notebook\n",
    "- look into other ones later and see what I can get with them"
   ]
  },
  {
   "cell_type": "code",
   "execution_count": 33,
   "id": "601320e8",
   "metadata": {},
   "outputs": [],
   "source": [
    "#testing a ml model for determining if it is an IPA or not\n",
    "X = test_df['Description']\n",
    "y = test_df['is_IPA']\n",
    "\n",
    "X_train, X_test, y_train, y_test = train_test_split(X, y, random_state=1)"
   ]
  },
  {
   "cell_type": "code",
   "execution_count": 34,
   "id": "2bfe941b",
   "metadata": {},
   "outputs": [],
   "source": [
    "vect = CountVectorizer()\n",
    "X_train_dtm = vect.fit_transform(X_train)\n",
    "X_test_dtm = vect.transform(X_test)"
   ]
  },
  {
   "cell_type": "code",
   "execution_count": 35,
   "id": "ca5f3b91",
   "metadata": {},
   "outputs": [
    {
     "name": "stdout",
     "output_type": "stream",
     "text": [
      "accuracy =  0.8818181818181818\n"
     ]
    }
   ],
   "source": [
    "nb = MultinomialNB()\n",
    "nb.fit(X_train_dtm, y_train)\n",
    "y_pred_class = nb.predict(X_test_dtm)\n",
    "print('accuracy = ',(metrics.accuracy_score(y_test,y_pred_class)))"
   ]
  },
  {
   "cell_type": "code",
   "execution_count": 37,
   "id": "b7386aa6",
   "metadata": {},
   "outputs": [
    {
     "name": "stdout",
     "output_type": "stream",
     "text": [
      "Percent IPA: 0.4818181818181818\n",
      "Percent non IPA: 0.5181818181818182\n"
     ]
    }
   ],
   "source": [
    "#percent IPA is the baseline because if you were to just geuess IPA for every single one you wold be right 48% of the time\"\n",
    "print('Percent IPA:', y_test.mean())\n",
    "print('Percent non IPA:', 1 - y_test.mean())"
   ]
  },
  {
   "cell_type": "markdown",
   "id": "752c7e03",
   "metadata": {},
   "source": [
    "## Runnig Results\n",
    "    - Baseline of 48%\n",
    "    - Inital test accuracy was 81%\n",
    "    - next I removed stopwords and stemmed the words to get an accuracy of 88%"
   ]
  },
  {
   "cell_type": "code",
   "execution_count": null,
   "id": "693da9dc",
   "metadata": {},
   "outputs": [],
   "source": []
  }
 ],
 "metadata": {
  "kernelspec": {
   "display_name": "Python 3 (ipykernel)",
   "language": "python",
   "name": "python3"
  },
  "language_info": {
   "codemirror_mode": {
    "name": "ipython",
    "version": 3
   },
   "file_extension": ".py",
   "mimetype": "text/x-python",
   "name": "python",
   "nbconvert_exporter": "python",
   "pygments_lexer": "ipython3",
   "version": "3.10.4"
  }
 },
 "nbformat": 4,
 "nbformat_minor": 5
}
