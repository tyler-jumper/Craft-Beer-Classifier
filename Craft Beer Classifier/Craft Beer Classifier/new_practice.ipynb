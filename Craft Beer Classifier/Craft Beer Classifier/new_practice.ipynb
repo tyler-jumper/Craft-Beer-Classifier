{
 "cells": [
  {
   "cell_type": "code",
   "execution_count": 590,
   "metadata": {},
   "outputs": [],
   "source": [
    "import numpy as np\n",
    "import pandas as pd\n",
    "import seaborn as sns\n",
    "import matplotlib.pyplot as plt\n",
    "import warnings; warnings.simplefilter('ignore')\n",
    "%matplotlib inline"
   ]
  },
  {
   "cell_type": "code",
   "execution_count": 695,
   "metadata": {},
   "outputs": [],
   "source": [
    "tmp_beers = pd.read_csv('beers.csv')"
   ]
  },
  {
   "cell_type": "code",
   "execution_count": 696,
   "metadata": {},
   "outputs": [
    {
     "data": {
      "text/plain": [
       "Unnamed: 0    2410\n",
       "abv           2348\n",
       "ibu           1405\n",
       "id            2410\n",
       "name          2410\n",
       "style         2405\n",
       "brewery_id    2410\n",
       "ounces        2410\n",
       "dtype: int64"
      ]
     },
     "execution_count": 696,
     "metadata": {},
     "output_type": "execute_result"
    }
   ],
   "source": [
    "tmp_beers.count()"
   ]
  },
  {
   "cell_type": "code",
   "execution_count": 697,
   "metadata": {},
   "outputs": [
    {
     "data": {
      "text/plain": [
       "American IPA                      424\n",
       "American Pale Ale (APA)           245\n",
       "American Amber / Red Ale          133\n",
       "American Blonde Ale               108\n",
       "American Double / Imperial IPA    105\n",
       "                                 ... \n",
       "Grisette                            1\n",
       "American Malt Liquor                1\n",
       "Wheat Ale                           1\n",
       "Braggot                             1\n",
       "Other                               1\n",
       "Name: style, Length: 99, dtype: int64"
      ]
     },
     "execution_count": 697,
     "metadata": {},
     "output_type": "execute_result"
    }
   ],
   "source": [
    "tmp_beers['style'].value_counts()"
   ]
  },
  {
   "cell_type": "code",
   "execution_count": 698,
   "metadata": {},
   "outputs": [],
   "source": [
    "beers = tmp_beers.dropna()"
   ]
  },
  {
   "cell_type": "code",
   "execution_count": 699,
   "metadata": {
    "scrolled": true
   },
   "outputs": [
    {
     "data": {
      "text/plain": [
       "Unnamed: 0    1403\n",
       "abv           1403\n",
       "ibu           1403\n",
       "id            1403\n",
       "name          1403\n",
       "style         1403\n",
       "brewery_id    1403\n",
       "ounces        1403\n",
       "dtype: int64"
      ]
     },
     "execution_count": 699,
     "metadata": {},
     "output_type": "execute_result"
    }
   ],
   "source": [
    "beers.count()"
   ]
  },
  {
   "cell_type": "code",
   "execution_count": 700,
   "metadata": {},
   "outputs": [
    {
     "data": {
      "text/plain": [
       "American IPA                      301\n",
       "American Pale Ale (APA)           153\n",
       "American Amber / Red Ale           77\n",
       "American Double / Imperial IPA     75\n",
       "American Blonde Ale                61\n",
       "                                 ... \n",
       "Wheat Ale                           1\n",
       "Grisette                            1\n",
       "Belgian Strong Dark Ale             1\n",
       "English Stout                       1\n",
       "Old Ale                             1\n",
       "Name: style, Length: 90, dtype: int64"
      ]
     },
     "execution_count": 700,
     "metadata": {},
     "output_type": "execute_result"
    }
   ],
   "source": [
    "beers['style'].value_counts()"
   ]
  },
  {
   "cell_type": "code",
   "execution_count": 701,
   "metadata": {
    "scrolled": true
   },
   "outputs": [],
   "source": [
    "#Oatmeal Stout, American Stout, American Porter, Russian Imperial Stout\n",
    "#Vienna Lager, \n",
    "#American IPA, American Double / Imperial IPA, American Pale Ale (APA)\n",
    "# Fruit / Vegetable Beer, Pumpkin Ale?\n",
    "# American Blonde Ale, Scottish Ale\n",
    "#American Pilsner , German Pilsner\n",
    "#American Amber / Red Ale\n",
    "#Kölsch?                       RUN THIS TO SEE ALL THE TYPES OF BEER\n",
    "##############################################beers['style'].to_list()"
   ]
  },
  {
   "cell_type": "markdown",
   "metadata": {},
   "source": [
    "### Below are all the PALE ALES , 307 unique values"
   ]
  },
  {
   "cell_type": "code",
   "execution_count": 702,
   "metadata": {},
   "outputs": [],
   "source": [
    "#SRM 5-14\n",
    "pale_ale = beers[(beers['style']=='English Pale Ale')|\n",
    "                (beers['style']=='American Pale Ale (APA)')|\n",
    "                (beers['style'] == 'English Bitter')|\n",
    "                (beers['style'] == 'American Blonde Ale')|\n",
    "                (beers['style'] == 'American Amber / Red Ale')|\n",
    "                (beers['style']=='Irish Red Ale')]"
   ]
  },
  {
   "cell_type": "code",
   "execution_count": 703,
   "metadata": {},
   "outputs": [
    {
     "data": {
      "text/plain": [
       "Unnamed: 0    307\n",
       "abv           307\n",
       "ibu           307\n",
       "id            307\n",
       "name          307\n",
       "style         307\n",
       "brewery_id    307\n",
       "ounces        307\n",
       "dtype: int64"
      ]
     },
     "execution_count": 703,
     "metadata": {},
     "output_type": "execute_result"
    }
   ],
   "source": [
    "pale_ale.count()"
   ]
  },
  {
   "cell_type": "code",
   "execution_count": 704,
   "metadata": {},
   "outputs": [
    {
     "data": {
      "text/plain": [
       "37.21172638436482"
      ]
     },
     "execution_count": 704,
     "metadata": {},
     "output_type": "execute_result"
    }
   ],
   "source": [
    "pale_ale.ibu.mean()"
   ]
  },
  {
   "cell_type": "code",
   "execution_count": null,
   "metadata": {},
   "outputs": [],
   "source": []
  },
  {
   "cell_type": "markdown",
   "metadata": {},
   "source": [
    "### Below are all the BROWN ALES 59 unique values"
   ]
  },
  {
   "cell_type": "code",
   "execution_count": 705,
   "metadata": {},
   "outputs": [],
   "source": [
    "#SRM 12-22\n",
    "brown_ale = beers[(beers['style']=='American Brown Ale')|\n",
    "                 (beers['style']=='English Brown Ale')|\n",
    "                  (beers['style']=='Scottish Ale')]"
   ]
  },
  {
   "cell_type": "code",
   "execution_count": 706,
   "metadata": {},
   "outputs": [
    {
     "data": {
      "text/plain": [
       "Unnamed: 0    59\n",
       "abv           59\n",
       "ibu           59\n",
       "id            59\n",
       "name          59\n",
       "style         59\n",
       "brewery_id    59\n",
       "ounces        59\n",
       "dtype: int64"
      ]
     },
     "execution_count": 706,
     "metadata": {},
     "output_type": "execute_result"
    }
   ],
   "source": [
    "brown_ale.count()"
   ]
  },
  {
   "cell_type": "code",
   "execution_count": 707,
   "metadata": {},
   "outputs": [
    {
     "data": {
      "text/plain": [
       "28.203389830508474"
      ]
     },
     "execution_count": 707,
     "metadata": {},
     "output_type": "execute_result"
    }
   ],
   "source": [
    "brown_ale.ibu.mean()"
   ]
  },
  {
   "cell_type": "code",
   "execution_count": null,
   "metadata": {},
   "outputs": [],
   "source": []
  },
  {
   "cell_type": "markdown",
   "metadata": {},
   "source": [
    "### Below are all PILSNER or PALE LAGER, 90 unique values, lets see how that goes"
   ]
  },
  {
   "cell_type": "code",
   "execution_count": null,
   "metadata": {},
   "outputs": [],
   "source": []
  },
  {
   "cell_type": "code",
   "execution_count": 708,
   "metadata": {},
   "outputs": [],
   "source": [
    "#SRM 2-7\n",
    "pilsner = beers[(beers['style']=='American Pale Lager')|\n",
    "      (beers['style']=='American India Pale Lager')|\n",
    "      (beers['style']=='Euro Pale Lager')|\n",
    "      (beers['style']=='American Pilsner')|\n",
    "      (beers['style']=='Czech Pilsener')|\n",
    "      (beers['style']=='Munich Helles Lager')|\n",
    "      (beers['style']=='German Pilsener')|\n",
    "      (beers['style']=='American Adjunct Lager')|(beers['style']=='American Pale Wheat Ale')|\n",
    "              (beers['style']=='American Dark Wheat Ale')|\n",
    "              (beers['style']=='Wheat Ale')|\n",
    "              (beers['style']=='Hefeweizen')|\n",
    "              (beers['style']=='Berliner Weissbier')|\n",
    "              (beers['style']=='Witbier')|\n",
    "              (beers['style']=='Dunkelweizen')]\n",
    "##########################################################"
   ]
  },
  {
   "cell_type": "code",
   "execution_count": 709,
   "metadata": {},
   "outputs": [
    {
     "data": {
      "text/plain": [
       "Unnamed: 0    215\n",
       "abv           215\n",
       "ibu           215\n",
       "id            215\n",
       "name          215\n",
       "style         215\n",
       "brewery_id    215\n",
       "ounces        215\n",
       "dtype: int64"
      ]
     },
     "execution_count": 709,
     "metadata": {},
     "output_type": "execute_result"
    }
   ],
   "source": [
    "pilsner.count()"
   ]
  },
  {
   "cell_type": "code",
   "execution_count": 710,
   "metadata": {},
   "outputs": [
    {
     "data": {
      "text/plain": [
       "22.246511627906976"
      ]
     },
     "execution_count": 710,
     "metadata": {},
     "output_type": "execute_result"
    }
   ],
   "source": [
    "pilsner.ibu.mean()"
   ]
  },
  {
   "cell_type": "code",
   "execution_count": null,
   "metadata": {},
   "outputs": [],
   "source": []
  },
  {
   "cell_type": "markdown",
   "metadata": {},
   "source": [
    "### Below are all WHEAT BEERS, 125 unique values"
   ]
  },
  {
   "cell_type": "code",
   "execution_count": 711,
   "metadata": {},
   "outputs": [],
   "source": [
    "#SRM 2-4\n",
    "wheats = beers[(beers['style']=='American Pale Wheat Ale')|\n",
    "              (beers['style']=='American Dark Wheat Ale')|\n",
    "              (beers['style']=='Wheat Ale')|\n",
    "              (beers['style']=='Hefeweizen')|\n",
    "              (beers['style']=='Berliner Weissbier')|\n",
    "              (beers['style']=='Witbier')|\n",
    "              (beers['style']=='Dunkelweizen')]"
   ]
  },
  {
   "cell_type": "code",
   "execution_count": 712,
   "metadata": {
    "scrolled": true
   },
   "outputs": [
    {
     "data": {
      "text/plain": [
       "Unnamed: 0    125\n",
       "abv           125\n",
       "ibu           125\n",
       "id            125\n",
       "name          125\n",
       "style         125\n",
       "brewery_id    125\n",
       "ounces        125\n",
       "dtype: int64"
      ]
     },
     "execution_count": 712,
     "metadata": {},
     "output_type": "execute_result"
    }
   ],
   "source": [
    "wheats.count()"
   ]
  },
  {
   "cell_type": "code",
   "execution_count": 713,
   "metadata": {},
   "outputs": [
    {
     "data": {
      "text/plain": [
       "18.872"
      ]
     },
     "execution_count": 713,
     "metadata": {},
     "output_type": "execute_result"
    }
   ],
   "source": [
    "wheats.ibu.mean()"
   ]
  },
  {
   "cell_type": "code",
   "execution_count": null,
   "metadata": {},
   "outputs": [],
   "source": []
  },
  {
   "cell_type": "markdown",
   "metadata": {},
   "source": [
    "### Below are all IPA beers, 392 unique values\n",
    "- This could be interesting because I know pale ales aren't always as bitter as the mean and median say below (mean:58, med:60)\n",
    "- I am reading a site (https://www.webstaurantstore.com/article/27/different-types-of-beers.html#wild-sour-ale) and these are the exact three beers categorized as an IPA"
   ]
  },
  {
   "cell_type": "code",
   "execution_count": null,
   "metadata": {},
   "outputs": [],
   "source": []
  },
  {
   "cell_type": "code",
   "execution_count": 714,
   "metadata": {},
   "outputs": [],
   "source": [
    "#SRM 5-11\n",
    "ipa = beers[(beers['style']=='American IPA')|\n",
    "            (beers['style']=='English India Pale Ale (IPA)')|\n",
    "            (beers['style']=='American Double / Imperial IPA')|\n",
    "            (beers['style']=='Belgian IPA')|\n",
    "            (beers['style']=='American White IPA')]"
   ]
  },
  {
   "cell_type": "code",
   "execution_count": 715,
   "metadata": {},
   "outputs": [
    {
     "data": {
      "text/plain": [
       "Unnamed: 0    392\n",
       "abv           392\n",
       "ibu           392\n",
       "id            392\n",
       "name          392\n",
       "style         392\n",
       "brewery_id    392\n",
       "ounces        392\n",
       "dtype: int64"
      ]
     },
     "execution_count": 715,
     "metadata": {},
     "output_type": "execute_result"
    }
   ],
   "source": [
    "ipa.count()"
   ]
  },
  {
   "cell_type": "code",
   "execution_count": 716,
   "metadata": {},
   "outputs": [
    {
     "data": {
      "text/plain": [
       "71.94897959183673"
      ]
     },
     "execution_count": 716,
     "metadata": {},
     "output_type": "execute_result"
    }
   ],
   "source": [
    "ipa.ibu.mean()"
   ]
  },
  {
   "cell_type": "markdown",
   "metadata": {},
   "source": [
    "### Below are all the beers with the name PORTER in them, 42 unique values, lets see how that goes"
   ]
  },
  {
   "cell_type": "code",
   "execution_count": 717,
   "metadata": {},
   "outputs": [],
   "source": [
    "#SRM 17-40 (baltic porter 17-40) (porter 20-40)\n",
    "porters = beers[(beers['style']=='American Porter')|\n",
    "               (beers['style']=='Baltic Porter')|\n",
    "               (beers['style']=='American Black Ale')]"
   ]
  },
  {
   "cell_type": "code",
   "execution_count": 718,
   "metadata": {},
   "outputs": [
    {
     "data": {
      "text/plain": [
       "Unnamed: 0    62\n",
       "abv           62\n",
       "ibu           62\n",
       "id            62\n",
       "name          62\n",
       "style         62\n",
       "brewery_id    62\n",
       "ounces        62\n",
       "dtype: int64"
      ]
     },
     "execution_count": 718,
     "metadata": {},
     "output_type": "execute_result"
    }
   ],
   "source": [
    "porters.count()"
   ]
  },
  {
   "cell_type": "code",
   "execution_count": 719,
   "metadata": {},
   "outputs": [
    {
     "data": {
      "text/plain": [
       "44.91935483870968"
      ]
     },
     "execution_count": 719,
     "metadata": {},
     "output_type": "execute_result"
    }
   ],
   "source": [
    "porters.ibu.mean()"
   ]
  },
  {
   "cell_type": "markdown",
   "metadata": {},
   "source": [
    "### Below are all the beers with the name STOUT in them, 40 unique values, lets see how that goes"
   ]
  },
  {
   "cell_type": "code",
   "execution_count": 720,
   "metadata": {},
   "outputs": [],
   "source": [
    "#SRM Oatmeal: 25-40 , Foreign: 30-65, Imperial Stout: 50-80\n",
    "stouts = beers[(beers['style']=='American Stout')| \n",
    "          (beers['style']=='Russian Imperial Stout')|\n",
    "          (beers['style'] =='Milk / Sweet Stout')|\n",
    "          (beers['style'] == 'American Double / Imperial Stout')|\n",
    "          (beers['style']=='Foreign / Export Stout')|\n",
    "          (beers['style']=='English Stout')|\n",
    "          (beers['style']=='Irish Dry Stout')|\n",
    "          (beers['style']=='Oatmeal Stout')\n",
    "              ]"
   ]
  },
  {
   "cell_type": "code",
   "execution_count": 721,
   "metadata": {},
   "outputs": [
    {
     "data": {
      "text/plain": [
       "Unnamed: 0    51\n",
       "abv           51\n",
       "ibu           51\n",
       "id            51\n",
       "name          51\n",
       "style         51\n",
       "brewery_id    51\n",
       "ounces        51\n",
       "dtype: int64"
      ]
     },
     "execution_count": 721,
     "metadata": {},
     "output_type": "execute_result"
    }
   ],
   "source": [
    "stouts.count()"
   ]
  },
  {
   "cell_type": "code",
   "execution_count": 722,
   "metadata": {},
   "outputs": [
    {
     "data": {
      "text/plain": [
       "45.03921568627451"
      ]
     },
     "execution_count": 722,
     "metadata": {},
     "output_type": "execute_result"
    }
   ],
   "source": [
    "stouts.ibu.mean()"
   ]
  },
  {
   "cell_type": "code",
   "execution_count": null,
   "metadata": {},
   "outputs": [],
   "source": []
  },
  {
   "cell_type": "markdown",
   "metadata": {},
   "source": [
    "### Below are all the beers that are Dark Lagers, 55 unique values"
   ]
  },
  {
   "cell_type": "code",
   "execution_count": 723,
   "metadata": {},
   "outputs": [],
   "source": [
    "#oktoberfest , Schwarzbier, vienna, and Amber American"
   ]
  },
  {
   "cell_type": "code",
   "execution_count": 724,
   "metadata": {},
   "outputs": [],
   "source": [
    "#SRM oktoberfest 4-12, Vienna 7-14, amber 11-18\n",
    "dark_lager = beers[(beers['style']=='Märzen / Oktoberfest')|\n",
    "               (beers['style']=='Schwarzbier')|\n",
    "               (beers['style']=='Vienna Lager')|\n",
    "               (beers['style']=='American Amber / Red Lager')|\n",
    "               (beers['style']=='Euro Dark Lager')]"
   ]
  },
  {
   "cell_type": "code",
   "execution_count": 725,
   "metadata": {},
   "outputs": [
    {
     "data": {
      "text/plain": [
       "Unnamed: 0    59\n",
       "abv           59\n",
       "ibu           59\n",
       "id            59\n",
       "name          59\n",
       "style         59\n",
       "brewery_id    59\n",
       "ounces        59\n",
       "dtype: int64"
      ]
     },
     "execution_count": 725,
     "metadata": {},
     "output_type": "execute_result"
    }
   ],
   "source": [
    "dark_lager.count()"
   ]
  },
  {
   "cell_type": "code",
   "execution_count": 726,
   "metadata": {},
   "outputs": [
    {
     "data": {
      "text/plain": [
       "24.16949152542373"
      ]
     },
     "execution_count": 726,
     "metadata": {},
     "output_type": "execute_result"
    }
   ],
   "source": [
    "dark_lager.ibu.mean()"
   ]
  },
  {
   "cell_type": "code",
   "execution_count": null,
   "metadata": {},
   "outputs": [],
   "source": []
  },
  {
   "cell_type": "markdown",
   "metadata": {},
   "source": [
    "### Below are all the beers that are Belgian Style Ale, 42 unique values"
   ]
  },
  {
   "cell_type": "code",
   "execution_count": 727,
   "metadata": {},
   "outputs": [],
   "source": [
    "#SRM \n",
    "belgian = beers[(beers['style']=='Belgian Pale Ale')|\n",
    "               (beers['style']=='Belgian Strong Pale Ale')|\n",
    "               (beers['style']=='Belgian Dark Ale')|\n",
    "               (beers['style']=='Saison / Farmhouse Ale')|\n",
    "               (beers['style']=='Tripel')|\n",
    "               (beers['style']=='Dubbel')|\n",
    "               (beers['style']=='Gose')|\n",
    "               (beers['style']=='Flanders Oud Bruin')\n",
    "               ]"
   ]
  },
  {
   "cell_type": "code",
   "execution_count": 728,
   "metadata": {},
   "outputs": [
    {
     "data": {
      "text/plain": [
       "Unnamed: 0    50\n",
       "abv           50\n",
       "ibu           50\n",
       "id            50\n",
       "name          50\n",
       "style         50\n",
       "brewery_id    50\n",
       "ounces        50\n",
       "dtype: int64"
      ]
     },
     "execution_count": 728,
     "metadata": {},
     "output_type": "execute_result"
    }
   ],
   "source": [
    "belgian.count()"
   ]
  },
  {
   "cell_type": "code",
   "execution_count": 729,
   "metadata": {},
   "outputs": [
    {
     "data": {
      "text/plain": [
       "24.16"
      ]
     },
     "execution_count": 729,
     "metadata": {},
     "output_type": "execute_result"
    }
   ],
   "source": [
    "belgian.ibu.mean()"
   ]
  },
  {
   "cell_type": "code",
   "execution_count": null,
   "metadata": {},
   "outputs": [],
   "source": []
  },
  {
   "cell_type": "code",
   "execution_count": null,
   "metadata": {},
   "outputs": [],
   "source": []
  },
  {
   "cell_type": "markdown",
   "metadata": {},
   "source": [
    "### OTHERS"
   ]
  },
  {
   "cell_type": "code",
   "execution_count": 684,
   "metadata": {},
   "outputs": [],
   "source": [
    "others = pd.DataFrame(beers[(beers['style']!='Belgian Pale Ale')&\n",
    "               (beers['style']!='Belgian Strong Pale Ale')&\n",
    "               (beers['style']!='Belgian Dark Ale')&\n",
    "               (beers['style']!='Saison / Farmhouse Ale')&\n",
    "               (beers['style']!='Tripel')&\n",
    "               (beers['style']!='Dubbel')&\n",
    "               (beers['style']!='Märzen / Oktoberfest')&\n",
    "               (beers['style']!='Schwarzbier')&\n",
    "               (beers['style']!='Vienna Lager')&\n",
    "               (beers['style']!='American Amber / Red Lager')&\n",
    "               (beers['style']!='American Stout')&\n",
    "               (beers['style']!='Russian Imperial Stout')&\n",
    "               (beers['style']!='Milk / Sweet Stout')&\n",
    "               (beers['style']!= 'American Double / Imperial Stout')&\n",
    "               (beers['style']!='Foreign / Export Stout')&\n",
    "               (beers['style']!='English Stout')&\n",
    "               (beers['style']!='Irish Dry Stout')&\n",
    "               (beers['style']!='American Porter')&\n",
    "               (beers['style']!='Baltic Porter')&\n",
    "               (beers['style']!='American IPA')&\n",
    "               (beers['style']!='English India Pale Ale (IPA)')&\n",
    "               (beers['style']!='American Double / Imperial IPA')&\n",
    "               (beers['style']!='Belgian IPA')&\n",
    "               (beers['style']!='American Pale Wheat Ale')&\n",
    "               (beers['style']!='American Dark Wheat Ale')&\n",
    "               (beers['style']!='Wheat Ale')&\n",
    "               (beers['style']!='Hefeweizen')&\n",
    "               (beers['style']!='Berliner Weissbier')&\n",
    "               (beers['style']!='Witbier')&\n",
    "               (beers['style']!='Dunkelweizen')&\n",
    "                (beers['style']!='English Pale Ale')&\n",
    "                (beers['style']!='American Pale Ale (APA)')&\n",
    "                (beers['style']!= 'English Bitter')&\n",
    "                (beers['style']!= 'American Blonde Ale')&\n",
    "                (beers['style']!= 'American Amber / Red Ale')&\n",
    "                (beers['style']!='Irish Red Ale')&\n",
    "              (beers['style']!='American Brown Ale')&\n",
    "                 (beers['style']!='English Brown Ale')&\n",
    "               (beers['style']!='American Pale Lager')&\n",
    "      (beers['style']!='American India Pale Lager')&\n",
    "      (beers['style']!='Euro Pale Lager')&\n",
    "      (beers['style']!='American Pilsner')&\n",
    "      (beers['style']!='Czech Pilsener')&\n",
    "      (beers['style']!='Munich Helles Lager')&\n",
    "        (beers['style']!='German Pilsener')&\n",
    "         (beers['style']!='Oatmeal Stout')&\n",
    "            (beers['style']!='Fruit / Vegetable Beer')&\n",
    "            (beers['style']!='Pumpkin Ale')&\n",
    "             (beers['style']!='Radler')&\n",
    "                 (beers['style']!='Herbed / Spiced Beer')&\n",
    "                (beers['style']!='Scottish Ale')&\n",
    "                 (beers['style']!='American Adjunct Lager')&\n",
    "                (beers['style']!='American White IPA')&\n",
    "                (beers['style']!='Chile Beer')&\n",
    "                (beers['style']!='Euro Dark Lager')&\n",
    "                (beers['style']!='Flanders Oud Bruin')&\n",
    "                           (beers['style']!='American Black Ale')&\n",
    "                           (beers['style']!='Gose')])"
   ]
  },
  {
   "cell_type": "code",
   "execution_count": 685,
   "metadata": {},
   "outputs": [
    {
     "data": {
      "text/plain": [
       "['American Barleywine',\n",
       " 'Winter Warmer',\n",
       " 'English Strong Ale',\n",
       " 'Winter Warmer',\n",
       " 'English Strong Ale',\n",
       " 'Kölsch',\n",
       " 'English Barleywine',\n",
       " 'Altbier',\n",
       " 'Cream Ale',\n",
       " 'Cream Ale',\n",
       " 'Winter Warmer',\n",
       " 'Cream Ale',\n",
       " 'Kölsch',\n",
       " 'Kölsch',\n",
       " 'Rye Beer',\n",
       " 'California Common / Steam Beer',\n",
       " 'Other',\n",
       " 'Extra Special / Strong Bitter (ESB)',\n",
       " 'American Strong Ale',\n",
       " 'English Strong Ale',\n",
       " 'Rye Beer',\n",
       " 'Rye Beer',\n",
       " 'American Strong Ale',\n",
       " 'Extra Special / Strong Bitter (ESB)',\n",
       " 'Extra Special / Strong Bitter (ESB)',\n",
       " 'Extra Special / Strong Bitter (ESB)',\n",
       " 'Extra Special / Strong Bitter (ESB)',\n",
       " 'Kölsch',\n",
       " 'Scotch Ale / Wee Heavy',\n",
       " 'Extra Special / Strong Bitter (ESB)',\n",
       " 'Winter Warmer',\n",
       " 'Smoked Beer',\n",
       " 'Cream Ale',\n",
       " 'Altbier',\n",
       " 'Altbier',\n",
       " 'Kölsch',\n",
       " 'American Strong Ale',\n",
       " 'Bock',\n",
       " 'Kölsch',\n",
       " 'Kölsch',\n",
       " 'English Pale Mild Ale',\n",
       " 'Abbey Single Ale',\n",
       " 'Abbey Single Ale',\n",
       " 'Scotch Ale / Wee Heavy',\n",
       " 'Roggenbier',\n",
       " 'Kölsch',\n",
       " 'Kölsch',\n",
       " 'Kölsch',\n",
       " 'Scotch Ale / Wee Heavy',\n",
       " 'Kölsch',\n",
       " 'Kölsch',\n",
       " 'Scotch Ale / Wee Heavy',\n",
       " 'Extra Special / Strong Bitter (ESB)',\n",
       " 'Dortmunder / Export Lager',\n",
       " 'Dortmunder / Export Lager',\n",
       " 'English Dark Mild Ale',\n",
       " 'Rye Beer',\n",
       " 'Cream Ale',\n",
       " 'Altbier',\n",
       " 'Cream Ale',\n",
       " 'Kölsch',\n",
       " 'Kölsch',\n",
       " 'Kölsch',\n",
       " 'Cream Ale',\n",
       " 'American Strong Ale',\n",
       " 'Altbier',\n",
       " 'American Strong Ale',\n",
       " 'American Strong Ale',\n",
       " 'Winter Warmer',\n",
       " 'Cream Ale',\n",
       " 'Keller Bier / Zwickel Bier',\n",
       " 'Doppelbock',\n",
       " 'Munich Dunkel Lager',\n",
       " 'Kölsch',\n",
       " 'Scotch Ale / Wee Heavy',\n",
       " 'Scotch Ale / Wee Heavy',\n",
       " 'Maibock / Helles Bock',\n",
       " 'Kölsch',\n",
       " 'Cream Ale',\n",
       " 'Altbier',\n",
       " 'Altbier',\n",
       " 'English Dark Mild Ale',\n",
       " 'Kölsch',\n",
       " 'Cream Ale',\n",
       " 'Kölsch',\n",
       " 'Extra Special / Strong Bitter (ESB)',\n",
       " 'Cream Ale',\n",
       " 'Light Lager',\n",
       " 'Cream Ale',\n",
       " 'Bock',\n",
       " 'Cream Ale',\n",
       " 'Extra Special / Strong Bitter (ESB)',\n",
       " 'Keller Bier / Zwickel Bier',\n",
       " 'Belgian Strong Dark Ale',\n",
       " 'Scotch Ale / Wee Heavy',\n",
       " 'Rye Beer',\n",
       " 'American Strong Ale',\n",
       " 'Kölsch',\n",
       " 'Light Lager',\n",
       " 'Munich Dunkel Lager',\n",
       " 'Rye Beer',\n",
       " 'American Strong Ale',\n",
       " 'Kölsch',\n",
       " 'Kölsch',\n",
       " 'Winter Warmer',\n",
       " 'American Strong Ale',\n",
       " 'American Strong Ale',\n",
       " 'Cream Ale',\n",
       " 'Rye Beer',\n",
       " 'Cream Ale',\n",
       " 'Rye Beer',\n",
       " 'Extra Special / Strong Bitter (ESB)',\n",
       " 'Winter Warmer',\n",
       " 'Grisette',\n",
       " 'Winter Warmer',\n",
       " 'Munich Dunkel Lager',\n",
       " 'American Barleywine',\n",
       " 'American Strong Ale',\n",
       " 'Bock',\n",
       " 'Kölsch',\n",
       " 'Extra Special / Strong Bitter (ESB)',\n",
       " 'Bière de Garde',\n",
       " 'Old Ale',\n",
       " 'Bière de Garde',\n",
       " 'Kölsch',\n",
       " 'Kölsch',\n",
       " 'Kölsch',\n",
       " 'Light Lager',\n",
       " 'Extra Special / Strong Bitter (ESB)',\n",
       " 'Altbier',\n",
       " 'Scotch Ale / Wee Heavy',\n",
       " 'Scotch Ale / Wee Heavy',\n",
       " 'Scotch Ale / Wee Heavy',\n",
       " 'Scotch Ale / Wee Heavy',\n",
       " 'Extra Special / Strong Bitter (ESB)',\n",
       " 'English Barleywine',\n",
       " 'Quadrupel (Quad)',\n",
       " 'Dortmunder / Export Lager',\n",
       " 'Dortmunder / Export Lager',\n",
       " 'Scotch Ale / Wee Heavy',\n",
       " 'English Barleywine',\n",
       " 'Cream Ale',\n",
       " 'Rye Beer',\n",
       " 'Keller Bier / Zwickel Bier',\n",
       " 'Cream Ale',\n",
       " 'Extra Special / Strong Bitter (ESB)',\n",
       " 'California Common / Steam Beer',\n",
       " 'Doppelbock',\n",
       " 'Dortmunder / Export Lager',\n",
       " 'American Strong Ale',\n",
       " 'Maibock / Helles Bock',\n",
       " 'American Wild Ale',\n",
       " 'American Wild Ale',\n",
       " 'American Double / Imperial Pilsner',\n",
       " 'Cream Ale',\n",
       " 'Scotch Ale / Wee Heavy',\n",
       " 'Kölsch']"
      ]
     },
     "execution_count": 685,
     "metadata": {},
     "output_type": "execute_result"
    }
   ],
   "source": [
    "others['style'].to_list()"
   ]
  },
  {
   "cell_type": "code",
   "execution_count": 686,
   "metadata": {},
   "outputs": [
    {
     "data": {
      "text/plain": [
       "157"
      ]
     },
     "execution_count": 686,
     "metadata": {},
     "output_type": "execute_result"
    }
   ],
   "source": [
    "len(others['style'].to_list())"
   ]
  },
  {
   "cell_type": "code",
   "execution_count": 687,
   "metadata": {},
   "outputs": [
    {
     "data": {
      "text/plain": [
       "32"
      ]
     },
     "execution_count": 687,
     "metadata": {},
     "output_type": "execute_result"
    }
   ],
   "source": [
    "others['style'].nunique()"
   ]
  },
  {
   "cell_type": "code",
   "execution_count": 688,
   "metadata": {},
   "outputs": [
    {
     "data": {
      "text/plain": [
       "33.47770700636943"
      ]
     },
     "execution_count": 688,
     "metadata": {},
     "output_type": "execute_result"
    }
   ],
   "source": [
    "others.ibu.mean()"
   ]
  },
  {
   "cell_type": "code",
   "execution_count": 689,
   "metadata": {},
   "outputs": [
    {
     "data": {
      "text/plain": [
       "Kölsch                                 27\n",
       "Cream Ale                              18\n",
       "Extra Special / Strong Bitter (ESB)    14\n",
       "Scotch Ale / Wee Heavy                 13\n",
       "American Strong Ale                    12\n",
       "Rye Beer                                9\n",
       "Winter Warmer                           8\n",
       "Altbier                                 8\n",
       "Dortmunder / Export Lager               5\n",
       "Light Lager                             3\n",
       "Munich Dunkel Lager                     3\n",
       "Bock                                    3\n",
       "English Barleywine                      3\n",
       "Keller Bier / Zwickel Bier              3\n",
       "English Strong Ale                      3\n",
       "English Dark Mild Ale                   2\n",
       "California Common / Steam Beer          2\n",
       "Abbey Single Ale                        2\n",
       "Bière de Garde                          2\n",
       "American Barleywine                     2\n",
       "Doppelbock                              2\n",
       "Maibock / Helles Bock                   2\n",
       "American Wild Ale                       2\n",
       "Quadrupel (Quad)                        1\n",
       "Smoked Beer                             1\n",
       "Old Ale                                 1\n",
       "Other                                   1\n",
       "American Double / Imperial Pilsner      1\n",
       "Grisette                                1\n",
       "Belgian Strong Dark Ale                 1\n",
       "Roggenbier                              1\n",
       "English Pale Mild Ale                   1\n",
       "Name: style, dtype: int64"
      ]
     },
     "execution_count": 689,
     "metadata": {},
     "output_type": "execute_result"
    }
   ],
   "source": [
    "others['style'].value_counts()"
   ]
  },
  {
   "cell_type": "code",
   "execution_count": null,
   "metadata": {},
   "outputs": [],
   "source": []
  },
  {
   "cell_type": "markdown",
   "metadata": {},
   "source": [
    "## Now I want to add a numeric value to the df just ints to indicate what type it is "
   ]
  },
  {
   "cell_type": "code",
   "execution_count": 730,
   "metadata": {},
   "outputs": [],
   "source": [
    "ipa['category'] = 0\n",
    "stouts['category'] = 1\n",
    "porters['category'] = 2\n",
    "pilsner['category'] = 3\n",
    "wheats['category'] = 4\n",
    "brown_ale['category'] = 5\n",
    "pale_ale['category'] = 6\n",
    "belgian['category'] = 7\n",
    "dark_lager['category'] = 8\n",
    "fruit_veggie['category'] = 9"
   ]
  },
  {
   "cell_type": "markdown",
   "metadata": {},
   "source": [
    "## Creating SRM"
   ]
  },
  {
   "cell_type": "code",
   "execution_count": 731,
   "metadata": {},
   "outputs": [],
   "source": [
    "ipa['SRM'] = [np.random.randint(low=5,high=12) for k in ipa.index]"
   ]
  },
  {
   "cell_type": "code",
   "execution_count": 732,
   "metadata": {},
   "outputs": [
    {
     "data": {
      "text/html": [
       "<div>\n",
       "<style scoped>\n",
       "    .dataframe tbody tr th:only-of-type {\n",
       "        vertical-align: middle;\n",
       "    }\n",
       "\n",
       "    .dataframe tbody tr th {\n",
       "        vertical-align: top;\n",
       "    }\n",
       "\n",
       "    .dataframe thead th {\n",
       "        text-align: right;\n",
       "    }\n",
       "</style>\n",
       "<table border=\"1\" class=\"dataframe\">\n",
       "  <thead>\n",
       "    <tr style=\"text-align: right;\">\n",
       "      <th></th>\n",
       "      <th>Unnamed: 0</th>\n",
       "      <th>abv</th>\n",
       "      <th>ibu</th>\n",
       "      <th>id</th>\n",
       "      <th>name</th>\n",
       "      <th>style</th>\n",
       "      <th>brewery_id</th>\n",
       "      <th>ounces</th>\n",
       "      <th>category</th>\n",
       "      <th>SRM</th>\n",
       "    </tr>\n",
       "  </thead>\n",
       "  <tbody>\n",
       "    <tr>\n",
       "      <th>28</th>\n",
       "      <td>28</td>\n",
       "      <td>0.070</td>\n",
       "      <td>70.0</td>\n",
       "      <td>799</td>\n",
       "      <td>21st Amendment IPA (2006)</td>\n",
       "      <td>American IPA</td>\n",
       "      <td>368</td>\n",
       "      <td>12.0</td>\n",
       "      <td>0</td>\n",
       "      <td>9</td>\n",
       "    </tr>\n",
       "    <tr>\n",
       "      <th>29</th>\n",
       "      <td>29</td>\n",
       "      <td>0.070</td>\n",
       "      <td>70.0</td>\n",
       "      <td>797</td>\n",
       "      <td>Brew Free! or Die IPA (2008)</td>\n",
       "      <td>American IPA</td>\n",
       "      <td>368</td>\n",
       "      <td>12.0</td>\n",
       "      <td>0</td>\n",
       "      <td>8</td>\n",
       "    </tr>\n",
       "    <tr>\n",
       "      <th>30</th>\n",
       "      <td>30</td>\n",
       "      <td>0.070</td>\n",
       "      <td>70.0</td>\n",
       "      <td>796</td>\n",
       "      <td>Brew Free! or Die IPA (2009)</td>\n",
       "      <td>American IPA</td>\n",
       "      <td>368</td>\n",
       "      <td>12.0</td>\n",
       "      <td>0</td>\n",
       "      <td>7</td>\n",
       "    </tr>\n",
       "    <tr>\n",
       "      <th>32</th>\n",
       "      <td>32</td>\n",
       "      <td>0.097</td>\n",
       "      <td>94.0</td>\n",
       "      <td>432</td>\n",
       "      <td>Hop Crisis</td>\n",
       "      <td>American Double / Imperial IPA</td>\n",
       "      <td>368</td>\n",
       "      <td>12.0</td>\n",
       "      <td>0</td>\n",
       "      <td>10</td>\n",
       "    </tr>\n",
       "    <tr>\n",
       "      <th>37</th>\n",
       "      <td>37</td>\n",
       "      <td>0.070</td>\n",
       "      <td>65.0</td>\n",
       "      <td>10</td>\n",
       "      <td>Brew Free! or Die IPA</td>\n",
       "      <td>American IPA</td>\n",
       "      <td>368</td>\n",
       "      <td>12.0</td>\n",
       "      <td>0</td>\n",
       "      <td>6</td>\n",
       "    </tr>\n",
       "  </tbody>\n",
       "</table>\n",
       "</div>"
      ],
      "text/plain": [
       "    Unnamed: 0    abv   ibu   id                          name  \\\n",
       "28          28  0.070  70.0  799     21st Amendment IPA (2006)   \n",
       "29          29  0.070  70.0  797  Brew Free! or Die IPA (2008)   \n",
       "30          30  0.070  70.0  796  Brew Free! or Die IPA (2009)   \n",
       "32          32  0.097  94.0  432                    Hop Crisis   \n",
       "37          37  0.070  65.0   10         Brew Free! or Die IPA   \n",
       "\n",
       "                             style  brewery_id  ounces  category  SRM  \n",
       "28                    American IPA         368    12.0         0    9  \n",
       "29                    American IPA         368    12.0         0    8  \n",
       "30                    American IPA         368    12.0         0    7  \n",
       "32  American Double / Imperial IPA         368    12.0         0   10  \n",
       "37                    American IPA         368    12.0         0    6  "
      ]
     },
     "execution_count": 732,
     "metadata": {},
     "output_type": "execute_result"
    }
   ],
   "source": [
    "ipa.head()"
   ]
  },
  {
   "cell_type": "code",
   "execution_count": 849,
   "metadata": {},
   "outputs": [],
   "source": [
    "ipa['SRM'] = [np.random.randint(low=5,high=12) for k in ipa.index]\n",
    "stouts['SRM'] = [np.random.randint(low=25,high=81) for k in stouts.index]\n",
    "porters['SRM'] = [np.random.randint(low=17,high=40) for k in porters.index]\n",
    "pilsner['SRM'] = [np.random.randint(low=2,high=8) for k in pilsner.index]\n",
    "wheats['SRM'] = [np.random.randint(low=2,high=5) for k in wheats.index]\n",
    "brown_ale['SRM'] = [np.random.randint(low=12,high=23) for k in brown_ale.index]\n",
    "pale_ale['SRM'] = [np.random.randint(low=5,high=15) for k in pale_ale.index]\n",
    "belgian['SRM'] = [np.random.randint(low=4,high=8) for k in belgian.index]\n",
    "dark_lager['SRM'] = [np.random.randint(low=7,high=15) for k in dark_lager.index]\n",
    "fruit_veggie['SRM'] = [np.random.randint(low=5,high=51) for k in fruit_veggie.index]"
   ]
  },
  {
   "cell_type": "code",
   "execution_count": null,
   "metadata": {},
   "outputs": [],
   "source": []
  },
  {
   "cell_type": "markdown",
   "metadata": {},
   "source": [
    "## DOWNSAMPLING"
   ]
  },
  {
   "cell_type": "code",
   "execution_count": 850,
   "metadata": {},
   "outputs": [],
   "source": [
    "#downsample all categories to be even with porters (42) and Belgians (42)\n",
    "from sklearn.utils import resample\n",
    "df_dsmpl1 = resample(ipa,replace=False, n_samples = 50, random_state=99)\n",
    "df_dsmpl2 = resample(stouts,replace=False, n_samples = 50, random_state=99)\n",
    "df_dsmpl3 = resample(pilsner,replace=False, n_samples = 50, random_state=99)\n",
    "df_dsmpl4 = resample(wheats,replace=False, n_samples = 50, random_state=99)\n",
    "df_dsmpl5 = resample(brown_ale,replace=False, n_samples = 50, random_state=99)\n",
    "df_dsmpl6 = resample(pale_ale,replace=False, n_samples = 50, random_state=99)\n",
    "df_dsmpl7 = resample(dark_lager,replace=False, n_samples = 50, random_state=99)\n",
    "df_dsmpl8 = resample(porters,replace=False, n_samples = 50, random_state=99)"
   ]
  },
  {
   "cell_type": "code",
   "execution_count": 851,
   "metadata": {},
   "outputs": [
    {
     "data": {
      "text/plain": [
       "8    59\n",
       "Name: category, dtype: int64"
      ]
     },
     "execution_count": 851,
     "metadata": {},
     "output_type": "execute_result"
    }
   ],
   "source": [
    "dark_lager.category.value_counts()"
   ]
  },
  {
   "cell_type": "code",
   "execution_count": 852,
   "metadata": {},
   "outputs": [],
   "source": [
    "frames = [df_dsmpl1, df_dsmpl2, df_dsmpl3, df_dsmpl4, df_dsmpl5, df_dsmpl6, df_dsmpl7, df_dsmpl8,belgian]#, df_dsmpl8 porters, belgian\n",
    "#frames = [ipa, stouts, porters, pilsner, wheats, brown_ale, pale_ale, belgian, dark_lager]#, fruit_veggie"
   ]
  },
  {
   "cell_type": "code",
   "execution_count": 853,
   "metadata": {},
   "outputs": [],
   "source": [
    "#concat all the dfs back together in the beers df\n",
    "beers = pd.concat(frames)"
   ]
  },
  {
   "cell_type": "code",
   "execution_count": 854,
   "metadata": {},
   "outputs": [
    {
     "data": {
      "text/plain": [
       "Index(['Unnamed: 0', 'abv', 'ibu', 'id', 'name', 'style', 'brewery_id',\n",
       "       'ounces', 'category', 'SRM'],\n",
       "      dtype='object')"
      ]
     },
     "execution_count": 854,
     "metadata": {},
     "output_type": "execute_result"
    }
   ],
   "source": [
    "beers.columns"
   ]
  },
  {
   "cell_type": "code",
   "execution_count": 855,
   "metadata": {},
   "outputs": [
    {
     "data": {
      "text/plain": [
       "8    50\n",
       "7    50\n",
       "6    50\n",
       "5    50\n",
       "4    50\n",
       "3    50\n",
       "2    50\n",
       "1    50\n",
       "0    50\n",
       "Name: category, dtype: int64"
      ]
     },
     "execution_count": 855,
     "metadata": {},
     "output_type": "execute_result"
    }
   ],
   "source": [
    "beers.category.value_counts()"
   ]
  },
  {
   "cell_type": "code",
   "execution_count": 856,
   "metadata": {},
   "outputs": [
    {
     "data": {
      "text/plain": [
       "8    0.111111\n",
       "7    0.111111\n",
       "6    0.111111\n",
       "5    0.111111\n",
       "4    0.111111\n",
       "3    0.111111\n",
       "2    0.111111\n",
       "1    0.111111\n",
       "0    0.111111\n",
       "Name: category, dtype: float64"
      ]
     },
     "execution_count": 856,
     "metadata": {},
     "output_type": "execute_result"
    }
   ],
   "source": [
    "beers.category.value_counts(normalize=True)"
   ]
  },
  {
   "cell_type": "markdown",
   "metadata": {},
   "source": [
    "## For Shits and gigs let's try to run a train test split and a SVM, Linear SVC\n",
    "How I decided I would use an SVC\n",
    "- https://scikit-learn.org/stable/tutorial/machine_learning_map/index.html"
   ]
  },
  {
   "cell_type": "code",
   "execution_count": 857,
   "metadata": {},
   "outputs": [],
   "source": [
    "feature_cols = ['abv', 'ibu','SRM']\n",
    "X = beers[feature_cols]\n",
    "y = beers['category']"
   ]
  },
  {
   "cell_type": "code",
   "execution_count": 858,
   "metadata": {},
   "outputs": [
    {
     "name": "stdout",
     "output_type": "stream",
     "text": [
      "Counter({0: 50, 1: 50, 3: 50, 4: 50, 5: 50, 6: 50, 8: 50, 2: 50, 7: 50})\n"
     ]
    }
   ],
   "source": [
    "from collections import Counter\n",
    "print(Counter(y))"
   ]
  },
  {
   "cell_type": "code",
   "execution_count": 859,
   "metadata": {},
   "outputs": [],
   "source": [
    "from sklearn.model_selection import train_test_split"
   ]
  },
  {
   "cell_type": "code",
   "execution_count": 860,
   "metadata": {},
   "outputs": [],
   "source": [
    "X_train, X_test, y_train, y_test = train_test_split(X, y, test_size=.2, random_state=99,stratify=y)"
   ]
  },
  {
   "cell_type": "code",
   "execution_count": 861,
   "metadata": {},
   "outputs": [
    {
     "name": "stdout",
     "output_type": "stream",
     "text": [
      "Counter({5: 40, 3: 40, 1: 40, 2: 40, 0: 40, 6: 40, 4: 40, 7: 40, 8: 40})\n",
      "Counter({0: 10, 7: 10, 2: 10, 4: 10, 6: 10, 1: 10, 3: 10, 5: 10, 8: 10})\n"
     ]
    }
   ],
   "source": [
    "print(Counter(y_train))\n",
    "print(Counter(y_test))"
   ]
  },
  {
   "cell_type": "code",
   "execution_count": null,
   "metadata": {},
   "outputs": [],
   "source": []
  },
  {
   "cell_type": "code",
   "execution_count": null,
   "metadata": {},
   "outputs": [],
   "source": []
  },
  {
   "cell_type": "markdown",
   "metadata": {},
   "source": [
    "## Standard Scaler"
   ]
  },
  {
   "cell_type": "code",
   "execution_count": 862,
   "metadata": {},
   "outputs": [],
   "source": [
    "from sklearn.preprocessing import StandardScaler"
   ]
  },
  {
   "cell_type": "code",
   "execution_count": 863,
   "metadata": {},
   "outputs": [],
   "source": [
    "scaler = StandardScaler()\n",
    "X_train = scaler.fit_transform(X_train)\n",
    "X_test = scaler.transform(X_test)"
   ]
  },
  {
   "cell_type": "code",
   "execution_count": 864,
   "metadata": {},
   "outputs": [
    {
     "data": {
      "text/html": [
       "<div>\n",
       "<style scoped>\n",
       "    .dataframe tbody tr th:only-of-type {\n",
       "        vertical-align: middle;\n",
       "    }\n",
       "\n",
       "    .dataframe tbody tr th {\n",
       "        vertical-align: top;\n",
       "    }\n",
       "\n",
       "    .dataframe thead th {\n",
       "        text-align: right;\n",
       "    }\n",
       "</style>\n",
       "<table border=\"1\" class=\"dataframe\">\n",
       "  <thead>\n",
       "    <tr style=\"text-align: right;\">\n",
       "      <th></th>\n",
       "      <th>0</th>\n",
       "      <th>1</th>\n",
       "      <th>2</th>\n",
       "    </tr>\n",
       "  </thead>\n",
       "  <tbody>\n",
       "    <tr>\n",
       "      <th>count</th>\n",
       "      <td>3.600000e+02</td>\n",
       "      <td>3.600000e+02</td>\n",
       "      <td>3.600000e+02</td>\n",
       "    </tr>\n",
       "    <tr>\n",
       "      <th>mean</th>\n",
       "      <td>-3.978203e-16</td>\n",
       "      <td>-1.264421e-17</td>\n",
       "      <td>3.515706e-17</td>\n",
       "    </tr>\n",
       "    <tr>\n",
       "      <th>std</th>\n",
       "      <td>1.001392e+00</td>\n",
       "      <td>1.001392e+00</td>\n",
       "      <td>1.001392e+00</td>\n",
       "    </tr>\n",
       "    <tr>\n",
       "      <th>min</th>\n",
       "      <td>-1.774164e+00</td>\n",
       "      <td>-1.333096e+00</td>\n",
       "      <td>-8.565926e-01</td>\n",
       "    </tr>\n",
       "    <tr>\n",
       "      <th>25%</th>\n",
       "      <td>-6.990336e-01</td>\n",
       "      <td>-6.943454e-01</td>\n",
       "      <td>-6.593809e-01</td>\n",
       "    </tr>\n",
       "    <tr>\n",
       "      <th>50%</th>\n",
       "      <td>-2.689816e-01</td>\n",
       "      <td>-3.323868e-01</td>\n",
       "      <td>-3.964320e-01</td>\n",
       "    </tr>\n",
       "    <tr>\n",
       "      <th>75%</th>\n",
       "      <td>4.477717e-01</td>\n",
       "      <td>3.808845e-01</td>\n",
       "      <td>1.952030e-01</td>\n",
       "    </tr>\n",
       "    <tr>\n",
       "      <th>max</th>\n",
       "      <td>2.956408e+00</td>\n",
       "      <td>3.563991e+00</td>\n",
       "      <td>4.270911e+00</td>\n",
       "    </tr>\n",
       "  </tbody>\n",
       "</table>\n",
       "</div>"
      ],
      "text/plain": [
       "                  0             1             2\n",
       "count  3.600000e+02  3.600000e+02  3.600000e+02\n",
       "mean  -3.978203e-16 -1.264421e-17  3.515706e-17\n",
       "std    1.001392e+00  1.001392e+00  1.001392e+00\n",
       "min   -1.774164e+00 -1.333096e+00 -8.565926e-01\n",
       "25%   -6.990336e-01 -6.943454e-01 -6.593809e-01\n",
       "50%   -2.689816e-01 -3.323868e-01 -3.964320e-01\n",
       "75%    4.477717e-01  3.808845e-01  1.952030e-01\n",
       "max    2.956408e+00  3.563991e+00  4.270911e+00"
      ]
     },
     "execution_count": 864,
     "metadata": {},
     "output_type": "execute_result"
    }
   ],
   "source": [
    "pd.DataFrame(X_train).describe()"
   ]
  },
  {
   "cell_type": "markdown",
   "metadata": {},
   "source": [
    "## Let's import our model"
   ]
  },
  {
   "cell_type": "code",
   "execution_count": 865,
   "metadata": {},
   "outputs": [],
   "source": [
    "from sklearn import svm"
   ]
  },
  {
   "cell_type": "code",
   "execution_count": 866,
   "metadata": {},
   "outputs": [],
   "source": [
    "svc = svm.SVC()"
   ]
  },
  {
   "cell_type": "code",
   "execution_count": 867,
   "metadata": {},
   "outputs": [
    {
     "data": {
      "text/plain": [
       "SVC()"
      ]
     },
     "execution_count": 867,
     "metadata": {},
     "output_type": "execute_result"
    }
   ],
   "source": [
    "svc.fit(X_train, y_train)"
   ]
  },
  {
   "cell_type": "code",
   "execution_count": 868,
   "metadata": {},
   "outputs": [],
   "source": [
    "y_pred = svc.predict(X_test)"
   ]
  },
  {
   "cell_type": "code",
   "execution_count": 869,
   "metadata": {},
   "outputs": [
    {
     "name": "stdout",
     "output_type": "stream",
     "text": [
      "Cross-Validation Accuracy Scores [0.54166667 0.58333333 0.58333333 0.59722222 0.51388889]\n"
     ]
    }
   ],
   "source": [
    "from sklearn.model_selection import cross_val_score\n",
    "scores = cross_val_score(svc, X_train, y_train,cv=5)\n",
    "print('Cross-Validation Accuracy Scores', scores)"
   ]
  },
  {
   "cell_type": "markdown",
   "metadata": {},
   "source": [
    "### Accuracy"
   ]
  },
  {
   "cell_type": "code",
   "execution_count": 870,
   "metadata": {},
   "outputs": [
    {
     "data": {
      "text/plain": [
       "56.0"
      ]
     },
     "execution_count": 870,
     "metadata": {},
     "output_type": "execute_result"
    }
   ],
   "source": [
    "(scores.mean()*100).round()"
   ]
  },
  {
   "cell_type": "code",
   "execution_count": 802,
   "metadata": {},
   "outputs": [],
   "source": [
    "from sklearn.metrics import confusion_matrix\n",
    "from sklearn.metrics import classification_report"
   ]
  },
  {
   "cell_type": "code",
   "execution_count": 803,
   "metadata": {
    "scrolled": true
   },
   "outputs": [],
   "source": [
    "c = confusion_matrix(y_test, y_pred)"
   ]
  },
  {
   "cell_type": "code",
   "execution_count": 804,
   "metadata": {
    "scrolled": true
   },
   "outputs": [
    {
     "data": {
      "text/plain": [
       "<matplotlib.axes._subplots.AxesSubplot at 0x2704c2f8b50>"
      ]
     },
     "execution_count": 804,
     "metadata": {},
     "output_type": "execute_result"
    },
    {
     "data": {
      "image/png": "[encoded data removed]",
      "text/plain": [
       "<Figure size 432x288 with 2 Axes>"
      ]
     },
     "metadata": {
      "needs_background": "light"
     },
     "output_type": "display_data"
    }
   ],
   "source": [
    "sns.heatmap(c, annot=True,cmap='Blues')"
   ]
  },
  {
   "cell_type": "markdown",
   "metadata": {},
   "source": [
    "- ipa: 0\n",
    "- stouts: 1\n",
    "- porters: 2\n",
    "- pilsner: 3\n",
    "- wheats: 4\n",
    "- brown_ale: 5\n",
    "- pale_ale: 6\n",
    "- belgian: 7\n",
    "- dark_lager: 8"
   ]
  },
  {
   "cell_type": "code",
   "execution_count": 126,
   "metadata": {},
   "outputs": [
    {
     "name": "stdout",
     "output_type": "stream",
     "text": [
      "              precision    recall  f1-score   support\n",
      "\n",
      "           0       0.84      0.91      0.87       130\n",
      "           1       0.90      0.84      0.87        31\n",
      "           2       0.50      0.36      0.42        14\n",
      "           3       0.67      0.13      0.22        30\n",
      "           4       0.59      0.88      0.71        41\n",
      "           5       0.53      0.53      0.53        19\n",
      "           6       0.62      0.77      0.69       101\n",
      "           7       0.56      0.36      0.43        14\n",
      "           8       0.00      0.00      0.00        20\n",
      "\n",
      "    accuracy                           0.70       400\n",
      "   macro avg       0.58      0.53      0.53       400\n",
      "weighted avg       0.67      0.70      0.67       400\n",
      "\n"
     ]
    }
   ],
   "source": [
    "print(classification_report(y_test, y_pred))"
   ]
  },
  {
   "cell_type": "markdown",
   "metadata": {},
   "source": [
    "## Found this link that gives ranges for SRM values\n",
    "- I could potentially assign random SRM values based on their beer category or style, ie (imperial stout would get a number between 50 and 80 since it is dark and that is the range. and a belgian strong ale would get between 4-7)\n",
    "- https://www.twobeerdudes.com/beer/srm\n",
    "\n",
    "### These links are also from the beer judge certification website and break don the ranges of ibu and srm based on beer style, I could use this as a reference when trying to populate my df with srm numbers\n",
    "- https://dev.bjcp.org/style/2015/beer/  website \n",
    "- https://www.bjcp.org/docs/2015_Guidelines_Beer.pdf 93 page pdf document \n"
   ]
  },
  {
   "cell_type": "code",
   "execution_count": null,
   "metadata": {},
   "outputs": [],
   "source": []
  },
  {
   "cell_type": "code",
   "execution_count": null,
   "metadata": {
    "scrolled": true
   },
   "outputs": [],
   "source": []
  },
  {
   "cell_type": "code",
   "execution_count": null,
   "metadata": {},
   "outputs": [],
   "source": []
  },
  {
   "cell_type": "code",
   "execution_count": null,
   "metadata": {},
   "outputs": [],
   "source": []
  },
  {
   "cell_type": "code",
   "execution_count": null,
   "metadata": {},
   "outputs": [],
   "source": []
  }
 ],
 "metadata": {
  "kernelspec": {
   "display_name": "Python 3",
   "language": "python",
   "name": "python3"
  },
  "language_info": {
   "codemirror_mode": {
    "name": "ipython",
    "version": 3
   },
   "file_extension": ".py",
   "mimetype": "text/x-python",
   "name": "python",
   "nbconvert_exporter": "python",
   "pygments_lexer": "ipython3",
   "version": "3.8.3"
  }
 },
 "nbformat": 4,
 "nbformat_minor": 4
}
