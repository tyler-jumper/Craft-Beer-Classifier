{
 "cells": [
  {
   "cell_type": "code",
   "execution_count": 2,
   "metadata": {},
   "outputs": [],
   "source": [
    "import numpy as np\n",
    "import pandas as pd\n",
    "import seaborn as sns\n",
    "import matplotlib.pyplot as plt\n",
    "import warnings; warnings.simplefilter('ignore')\n",
    "%matplotlib inline"
   ]
  },
  {
   "cell_type": "markdown",
   "metadata": {},
   "source": [
    "# Beer Style Classifier\n",
    "In the beer dataset I used, there were over 2000 beers, with styles ranging from IPAs and Sours, to Stouts and Ciders. I plan to use a beer's International Bitterness Unit or how bitter a beer is (IBU), and Alcohol by Volume or how much alcohol is in a beer(ABV), to classify diffterent styles of beer. "
   ]
  },
  {
   "cell_type": "code",
   "execution_count": 3,
   "metadata": {},
   "outputs": [],
   "source": [
    "beers_df = pd.read_csv('beers.csv')"
   ]
  },
  {
   "cell_type": "code",
   "execution_count": 4,
   "metadata": {},
   "outputs": [
    {
     "data": {
      "text/plain": [
       "American IPA                      424\n",
       "American Pale Ale (APA)           245\n",
       "American Amber / Red Ale          133\n",
       "American Blonde Ale               108\n",
       "American Double / Imperial IPA    105\n",
       "                                 ... \n",
       "Braggot                             1\n",
       "American Malt Liquor                1\n",
       "Smoked Beer                         1\n",
       "Flanders Red Ale                    1\n",
       "Low Alcohol Beer                    1\n",
       "Name: style, Length: 99, dtype: int64"
      ]
     },
     "execution_count": 4,
     "metadata": {},
     "output_type": "execute_result"
    }
   ],
   "source": [
    "beers_df['style'].value_counts()"
   ]
  },
  {
   "cell_type": "code",
   "execution_count": 5,
   "metadata": {},
   "outputs": [
    {
     "data": {
      "text/plain": [
       "Unnamed: 0    2410\n",
       "abv           2348\n",
       "ibu           1405\n",
       "id            2410\n",
       "name          2410\n",
       "style         2405\n",
       "brewery_id    2410\n",
       "ounces        2410\n",
       "dtype: int64"
      ]
     },
     "execution_count": 5,
     "metadata": {},
     "output_type": "execute_result"
    }
   ],
   "source": [
    "beers_df.count()"
   ]
  },
  {
   "cell_type": "markdown",
   "metadata": {},
   "source": [
    "#### Dropping null values\n",
    "Different styles of beer have their own range of IBU and ABV, however some styles don't even keep track of bitterness because their style ranges so much, for example according to craftbeers.com an American Sour ranges on all three major units of measurement IBU, ABV, and SRM (which we will get later on).\n",
    "\n",
    "Because of this, many styles in this dataset don't include their ibu at all. That being said it would be virtually impossible for the model to predict that particular style. So this is where we will drop the null values that we don't need"
   ]
  },
  {
   "cell_type": "code",
   "execution_count": 6,
   "metadata": {},
   "outputs": [],
   "source": [
    "beers = beers_df.dropna()"
   ]
  },
  {
   "cell_type": "code",
   "execution_count": 7,
   "metadata": {},
   "outputs": [
    {
     "data": {
      "text/plain": [
       "American IPA                          301\n",
       "American Pale Ale (APA)               153\n",
       "American Amber / Red Ale               77\n",
       "American Double / Imperial IPA         75\n",
       "American Pale Wheat Ale                61\n",
       "                                     ... \n",
       "English Stout                           1\n",
       "American Double / Imperial Pilsner      1\n",
       "Smoked Beer                             1\n",
       "English Pale Mild Ale                   1\n",
       "Quadrupel (Quad)                        1\n",
       "Name: style, Length: 90, dtype: int64"
      ]
     },
     "execution_count": 7,
     "metadata": {},
     "output_type": "execute_result"
    }
   ],
   "source": [
    "beers['style'].value_counts()"
   ]
  },
  {
   "cell_type": "code",
   "execution_count": 8,
   "metadata": {},
   "outputs": [
    {
     "data": {
      "text/plain": [
       "Unnamed: 0    1403\n",
       "abv           1403\n",
       "ibu           1403\n",
       "id            1403\n",
       "name          1403\n",
       "style         1403\n",
       "brewery_id    1403\n",
       "ounces        1403\n",
       "dtype: int64"
      ]
     },
     "execution_count": 8,
     "metadata": {},
     "output_type": "execute_result"
    }
   ],
   "source": [
    "beers.count()"
   ]
  },
  {
   "cell_type": "markdown",
   "metadata": {},
   "source": [
    "Doing this got rid of 9 different styles of beer and 1,007 unique beers."
   ]
  },
  {
   "cell_type": "markdown",
   "metadata": {},
   "source": [
    "## Narrowing down the categories\n",
    "\n",
    "Obviously a classification problem with 90 different catagories would be nearly impossible espessially considering many of the styles only have 1 instance of itself (Roggenbier, American Double / Imperial Pilsner). \n",
    "\n",
    "So my next goal was to take all 90 categories and narrow them down to a realistic number for a classifcation problem. My Goal was around 8 or so styles. I got to work researching different, what I referr to as categories, of beer. "
   ]
  },
  {
   "cell_type": "markdown",
   "metadata": {},
   "source": [
    "### Initial Category Ideas\n",
    "\n",
    "My first ideas for categories included IPA, Pale ale, Stout, Porter, Wheat, Bock, and Vienna Lagers\n",
    "\n",
    "However looking at how many of each of those category it was very skewed and I knew I needed to keep some and get rid of others. \n",
    "I found a good article that outlined different categories of beers https://www.webstaurantstore.com/article/27/different-types-of-beers.html#wild-sour-ale\n",
    "\n",
    "It outlined these categories of beer \n",
    "- Pale Lager and Pilsner\n",
    "- Brown Ale\n",
    "- Porter\n",
    "- Wheat Beer\n",
    "- Dark Lager\n",
    "- Pale ale\n",
    "- Stout\n",
    "- Wild & Sour ale\n",
    "- German Bock\n",
    "- India Pale Ale\n",
    "- Belgian Style Ale\n",
    "- Specialty Beer"
   ]
  },
  {
   "cell_type": "markdown",
   "metadata": {},
   "source": [
    "Knowing that beer categories like **Specialty Beer** and **Wild and Sour Ale** weren't in my dataset anymore I wasn't going to worry about them. I also knew a category like **Bock** only had 13 instances so that wouldn't be enough data for one category so I stuck with the other 9 "
   ]
  },
  {
   "cell_type": "markdown",
   "metadata": {},
   "source": [
    "## Clarification:\n",
    "#### Style vs Category\n",
    "- Category is going to be my umbrella term that consists of **multiple** categories \n",
    "- ie. in the Category Stout, styles may include, Oatmeal Stout, English Stout, Irish Dry Stout etc. \n",
    "\n",
    "There are so many styles of beer in the dataset but they can be compressed into fewer categories"
   ]
  },
  {
   "cell_type": "markdown",
   "metadata": {},
   "source": [
    "### Categorizing \n",
    "Below is an example of how I categorized beers of category \n",
    "## Pale Ale"
   ]
  },
  {
   "cell_type": "markdown",
   "metadata": {},
   "source": [
    "First I created a temperary data frame called **pale_ale** and found the different styles of beer that could be categorized as a **Pale Ale**"
   ]
  },
  {
   "cell_type": "code",
   "execution_count": 9,
   "metadata": {},
   "outputs": [],
   "source": [
    "pale_ale = beers[(beers['style']=='English Pale Ale')|\n",
    "                (beers['style']=='American Pale Ale (APA)')|\n",
    "                (beers['style'] == 'English Bitter')|\n",
    "                (beers['style'] == 'American Blonde Ale')|\n",
    "                (beers['style'] == 'American Amber / Red Ale')|\n",
    "                (beers['style']=='Irish Red Ale')]"
   ]
  },
  {
   "cell_type": "markdown",
   "metadata": {},
   "source": [
    "By doing this I can now see statistics on beers that are in this category"
   ]
  },
  {
   "cell_type": "code",
   "execution_count": 10,
   "metadata": {},
   "outputs": [
    {
     "data": {
      "text/plain": [
       "37.21172638436482"
      ]
     },
     "execution_count": 10,
     "metadata": {},
     "output_type": "execute_result"
    }
   ],
   "source": [
    "pale_ale.ibu.mean()"
   ]
  },
  {
   "cell_type": "code",
   "execution_count": 11,
   "metadata": {},
   "outputs": [
    {
     "data": {
      "text/plain": [
       "0.05435830618892503"
      ]
     },
     "execution_count": 11,
     "metadata": {},
     "output_type": "execute_result"
    }
   ],
   "source": [
    "pale_ale.abv.mean()"
   ]
  },
  {
   "cell_type": "code",
   "execution_count": 12,
   "metadata": {},
   "outputs": [
    {
     "data": {
      "text/plain": [
       "Unnamed: 0    307\n",
       "abv           307\n",
       "ibu           307\n",
       "id            307\n",
       "name          307\n",
       "style         307\n",
       "brewery_id    307\n",
       "ounces        307\n",
       "dtype: int64"
      ]
     },
     "execution_count": 12,
     "metadata": {},
     "output_type": "execute_result"
    }
   ],
   "source": [
    "pale_ale.count() # number of unique beers in this category"
   ]
  },
  {
   "cell_type": "markdown",
   "metadata": {},
   "source": [
    "**I continued this Process for the other categories of beer**"
   ]
  },
  {
   "cell_type": "markdown",
   "metadata": {},
   "source": [
    "## Brown Ale (59 unique beers)"
   ]
  },
  {
   "cell_type": "code",
   "execution_count": 13,
   "metadata": {},
   "outputs": [],
   "source": [
    "brown_ale = beers[(beers['style']=='American Brown Ale')|\n",
    "                 (beers['style']=='English Brown Ale')|\n",
    "                  (beers['style']=='Scottish Ale')]"
   ]
  },
  {
   "cell_type": "markdown",
   "metadata": {},
   "source": [
    "## Pilsner or Pale Lager (90 unique beers)"
   ]
  },
  {
   "cell_type": "code",
   "execution_count": 14,
   "metadata": {},
   "outputs": [],
   "source": [
    "pilsner = beers[(beers['style']=='American Pale Lager')|\n",
    "      (beers['style']=='American India Pale Lager')|\n",
    "      (beers['style']=='Euro Pale Lager')|\n",
    "      (beers['style']=='American Pilsner')|\n",
    "      (beers['style']=='Czech Pilsener')|\n",
    "      (beers['style']=='Munich Helles Lager')|\n",
    "      (beers['style']=='German Pilsener')|\n",
    "      (beers['style']=='American Adjunct Lager')]"
   ]
  },
  {
   "cell_type": "markdown",
   "metadata": {},
   "source": [
    "## Wheat Beer (125 unique beers)"
   ]
  },
  {
   "cell_type": "code",
   "execution_count": 15,
   "metadata": {},
   "outputs": [],
   "source": [
    "wheats = beers[(beers['style']=='American Pale Wheat Ale')|\n",
    "              (beers['style']=='American Dark Wheat Ale')|\n",
    "              (beers['style']=='Wheat Ale')|\n",
    "              (beers['style']=='Hefeweizen')|\n",
    "              (beers['style']=='Berliner Weissbier')|\n",
    "              (beers['style']=='Witbier')|\n",
    "              (beers['style']=='Dunkelweizen')]"
   ]
  },
  {
   "cell_type": "markdown",
   "metadata": {},
   "source": [
    "## IPA (392 unique beers)"
   ]
  },
  {
   "cell_type": "code",
   "execution_count": 16,
   "metadata": {},
   "outputs": [],
   "source": [
    "ipa = beers[(beers['style']=='American IPA')|\n",
    "            (beers['style']=='English India Pale Ale (IPA)')|\n",
    "            (beers['style']=='American Double / Imperial IPA')|\n",
    "            (beers['style']=='Belgian IPA')|\n",
    "            (beers['style']=='American White IPA')]"
   ]
  },
  {
   "cell_type": "markdown",
   "metadata": {},
   "source": [
    "## Porter (62 unique beers)"
   ]
  },
  {
   "cell_type": "code",
   "execution_count": 17,
   "metadata": {},
   "outputs": [],
   "source": [
    "porters = beers[(beers['style']=='American Porter')|\n",
    "               (beers['style']=='Baltic Porter')|\n",
    "               (beers['style']=='American Black Ale')]"
   ]
  },
  {
   "cell_type": "markdown",
   "metadata": {},
   "source": [
    "## Stouts (51 unique beers)"
   ]
  },
  {
   "cell_type": "code",
   "execution_count": 18,
   "metadata": {},
   "outputs": [],
   "source": [
    "stouts = beers[(beers['style']=='American Stout')| \n",
    "          (beers['style']=='Russian Imperial Stout')|\n",
    "          (beers['style'] =='Milk / Sweet Stout')|\n",
    "          (beers['style'] == 'American Double / Imperial Stout')|\n",
    "          (beers['style']=='Foreign / Export Stout')|\n",
    "          (beers['style']=='English Stout')|\n",
    "          (beers['style']=='Irish Dry Stout')|\n",
    "          (beers['style']=='Oatmeal Stout')]"
   ]
  },
  {
   "cell_type": "markdown",
   "metadata": {},
   "source": [
    "## Dark Lager (59 unique beers)"
   ]
  },
  {
   "cell_type": "code",
   "execution_count": 19,
   "metadata": {},
   "outputs": [],
   "source": [
    "dark_lager = beers[(beers['style']=='Märzen / Oktoberfest')|\n",
    "               (beers['style']=='Schwarzbier')|\n",
    "               (beers['style']=='Vienna Lager')|\n",
    "               (beers['style']=='American Amber / Red Lager')|\n",
    "               (beers['style']=='Euro Dark Lager')]"
   ]
  },
  {
   "cell_type": "markdown",
   "metadata": {},
   "source": [
    "## Belgian Style (43 unique beers)"
   ]
  },
  {
   "cell_type": "code",
   "execution_count": 20,
   "metadata": {},
   "outputs": [],
   "source": [
    "belgian = beers[(beers['style']=='Belgian Pale Ale')|\n",
    "               (beers['style']=='Belgian Strong Pale Ale')|\n",
    "               (beers['style']=='Belgian Dark Ale')|\n",
    "               (beers['style']=='Saison / Farmhouse Ale')|\n",
    "               (beers['style']=='Tripel')|\n",
    "               (beers['style']=='Dubbel')|\n",
    "               (beers['style']=='Flanders Oud Bruin')]"
   ]
  },
  {
   "cell_type": "markdown",
   "metadata": {},
   "source": [
    "**At this point I have 9 different data frames where the smallest one has 42 values. The rest of the styles I either could not fit into just one particular category or only had a few instances where adding one to 2 more beers to a data frame would not make a difference so I continued with these categories**"
   ]
  },
  {
   "cell_type": "markdown",
   "metadata": {},
   "source": [
    "# Mapping Categories to numbers to help the model\n",
    "I assigned each category a number 0-8 and dropped the category column"
   ]
  },
  {
   "cell_type": "code",
   "execution_count": 21,
   "metadata": {},
   "outputs": [],
   "source": [
    "ipa['category'] = 0\n",
    "stouts['category'] = 1\n",
    "porters['category'] = 2\n",
    "pilsner['category'] = 3\n",
    "wheats['category'] = 4\n",
    "brown_ale['category'] = 5\n",
    "pale_ale['category'] = 6\n",
    "belgian['category'] = 7\n",
    "dark_lager['category'] = 8"
   ]
  },
  {
   "cell_type": "code",
   "execution_count": 22,
   "metadata": {},
   "outputs": [
    {
     "data": {
      "text/html": [
       "<div>\n",
       "<style scoped>\n",
       "    .dataframe tbody tr th:only-of-type {\n",
       "        vertical-align: middle;\n",
       "    }\n",
       "\n",
       "    .dataframe tbody tr th {\n",
       "        vertical-align: top;\n",
       "    }\n",
       "\n",
       "    .dataframe thead th {\n",
       "        text-align: right;\n",
       "    }\n",
       "</style>\n",
       "<table border=\"1\" class=\"dataframe\">\n",
       "  <thead>\n",
       "    <tr style=\"text-align: right;\">\n",
       "      <th></th>\n",
       "      <th>Unnamed: 0</th>\n",
       "      <th>abv</th>\n",
       "      <th>ibu</th>\n",
       "      <th>id</th>\n",
       "      <th>name</th>\n",
       "      <th>style</th>\n",
       "      <th>brewery_id</th>\n",
       "      <th>ounces</th>\n",
       "    </tr>\n",
       "  </thead>\n",
       "  <tbody>\n",
       "    <tr>\n",
       "      <th>14</th>\n",
       "      <td>14</td>\n",
       "      <td>0.061</td>\n",
       "      <td>60.0</td>\n",
       "      <td>1979</td>\n",
       "      <td>Bitter Bitch</td>\n",
       "      <td>American Pale Ale (APA)</td>\n",
       "      <td>177</td>\n",
       "      <td>12.0</td>\n",
       "    </tr>\n",
       "    <tr>\n",
       "      <th>21</th>\n",
       "      <td>21</td>\n",
       "      <td>0.099</td>\n",
       "      <td>92.0</td>\n",
       "      <td>1036</td>\n",
       "      <td>Lower De Boom</td>\n",
       "      <td>American Barleywine</td>\n",
       "      <td>368</td>\n",
       "      <td>8.4</td>\n",
       "    </tr>\n",
       "    <tr>\n",
       "      <th>22</th>\n",
       "      <td>22</td>\n",
       "      <td>0.079</td>\n",
       "      <td>45.0</td>\n",
       "      <td>1024</td>\n",
       "      <td>Fireside Chat</td>\n",
       "      <td>Winter Warmer</td>\n",
       "      <td>368</td>\n",
       "      <td>12.0</td>\n",
       "    </tr>\n",
       "    <tr>\n",
       "      <th>24</th>\n",
       "      <td>24</td>\n",
       "      <td>0.044</td>\n",
       "      <td>42.0</td>\n",
       "      <td>876</td>\n",
       "      <td>Bitter American</td>\n",
       "      <td>American Pale Ale (APA)</td>\n",
       "      <td>368</td>\n",
       "      <td>12.0</td>\n",
       "    </tr>\n",
       "    <tr>\n",
       "      <th>25</th>\n",
       "      <td>25</td>\n",
       "      <td>0.049</td>\n",
       "      <td>17.0</td>\n",
       "      <td>802</td>\n",
       "      <td>Hell or High Watermelon Wheat (2009)</td>\n",
       "      <td>Fruit / Vegetable Beer</td>\n",
       "      <td>368</td>\n",
       "      <td>12.0</td>\n",
       "    </tr>\n",
       "  </tbody>\n",
       "</table>\n",
       "</div>"
      ],
      "text/plain": [
       "    Unnamed: 0    abv   ibu    id                                  name  \\\n",
       "14          14  0.061  60.0  1979                          Bitter Bitch   \n",
       "21          21  0.099  92.0  1036                         Lower De Boom   \n",
       "22          22  0.079  45.0  1024                         Fireside Chat   \n",
       "24          24  0.044  42.0   876                       Bitter American   \n",
       "25          25  0.049  17.0   802  Hell or High Watermelon Wheat (2009)   \n",
       "\n",
       "                      style  brewery_id  ounces  \n",
       "14  American Pale Ale (APA)         177    12.0  \n",
       "21      American Barleywine         368     8.4  \n",
       "22            Winter Warmer         368    12.0  \n",
       "24  American Pale Ale (APA)         368    12.0  \n",
       "25   Fruit / Vegetable Beer         368    12.0  "
      ]
     },
     "execution_count": 22,
     "metadata": {},
     "output_type": "execute_result"
    }
   ],
   "source": [
    "beers.head()"
   ]
  },
  {
   "cell_type": "markdown",
   "metadata": {},
   "source": [
    "**Now let's clean our data frame so we only have the columns we need**"
   ]
  },
  {
   "cell_type": "code",
   "execution_count": 23,
   "metadata": {},
   "outputs": [
    {
     "data": {
      "text/html": [
       "<div>\n",
       "<style scoped>\n",
       "    .dataframe tbody tr th:only-of-type {\n",
       "        vertical-align: middle;\n",
       "    }\n",
       "\n",
       "    .dataframe tbody tr th {\n",
       "        vertical-align: top;\n",
       "    }\n",
       "\n",
       "    .dataframe thead th {\n",
       "        text-align: right;\n",
       "    }\n",
       "</style>\n",
       "<table border=\"1\" class=\"dataframe\">\n",
       "  <thead>\n",
       "    <tr style=\"text-align: right;\">\n",
       "      <th></th>\n",
       "      <th>Unnamed: 0</th>\n",
       "      <th>abv</th>\n",
       "      <th>ibu</th>\n",
       "      <th>id</th>\n",
       "      <th>name</th>\n",
       "      <th>style</th>\n",
       "      <th>brewery_id</th>\n",
       "      <th>ounces</th>\n",
       "    </tr>\n",
       "  </thead>\n",
       "  <tbody>\n",
       "    <tr>\n",
       "      <th>14</th>\n",
       "      <td>14</td>\n",
       "      <td>0.061</td>\n",
       "      <td>60.0</td>\n",
       "      <td>1979</td>\n",
       "      <td>Bitter Bitch</td>\n",
       "      <td>American Pale Ale (APA)</td>\n",
       "      <td>177</td>\n",
       "      <td>12.0</td>\n",
       "    </tr>\n",
       "    <tr>\n",
       "      <th>21</th>\n",
       "      <td>21</td>\n",
       "      <td>0.099</td>\n",
       "      <td>92.0</td>\n",
       "      <td>1036</td>\n",
       "      <td>Lower De Boom</td>\n",
       "      <td>American Barleywine</td>\n",
       "      <td>368</td>\n",
       "      <td>8.4</td>\n",
       "    </tr>\n",
       "    <tr>\n",
       "      <th>22</th>\n",
       "      <td>22</td>\n",
       "      <td>0.079</td>\n",
       "      <td>45.0</td>\n",
       "      <td>1024</td>\n",
       "      <td>Fireside Chat</td>\n",
       "      <td>Winter Warmer</td>\n",
       "      <td>368</td>\n",
       "      <td>12.0</td>\n",
       "    </tr>\n",
       "    <tr>\n",
       "      <th>24</th>\n",
       "      <td>24</td>\n",
       "      <td>0.044</td>\n",
       "      <td>42.0</td>\n",
       "      <td>876</td>\n",
       "      <td>Bitter American</td>\n",
       "      <td>American Pale Ale (APA)</td>\n",
       "      <td>368</td>\n",
       "      <td>12.0</td>\n",
       "    </tr>\n",
       "    <tr>\n",
       "      <th>25</th>\n",
       "      <td>25</td>\n",
       "      <td>0.049</td>\n",
       "      <td>17.0</td>\n",
       "      <td>802</td>\n",
       "      <td>Hell or High Watermelon Wheat (2009)</td>\n",
       "      <td>Fruit / Vegetable Beer</td>\n",
       "      <td>368</td>\n",
       "      <td>12.0</td>\n",
       "    </tr>\n",
       "    <tr>\n",
       "      <th>...</th>\n",
       "      <td>...</td>\n",
       "      <td>...</td>\n",
       "      <td>...</td>\n",
       "      <td>...</td>\n",
       "      <td>...</td>\n",
       "      <td>...</td>\n",
       "      <td>...</td>\n",
       "      <td>...</td>\n",
       "    </tr>\n",
       "    <tr>\n",
       "      <th>2398</th>\n",
       "      <td>2398</td>\n",
       "      <td>0.077</td>\n",
       "      <td>30.0</td>\n",
       "      <td>1513</td>\n",
       "      <td>Lights Out Vanilla Cream Extra Stout</td>\n",
       "      <td>American Double / Imperial IPA</td>\n",
       "      <td>199</td>\n",
       "      <td>12.0</td>\n",
       "    </tr>\n",
       "    <tr>\n",
       "      <th>2399</th>\n",
       "      <td>2399</td>\n",
       "      <td>0.069</td>\n",
       "      <td>69.0</td>\n",
       "      <td>1512</td>\n",
       "      <td>Worthy IPA (2013)</td>\n",
       "      <td>American IPA</td>\n",
       "      <td>199</td>\n",
       "      <td>12.0</td>\n",
       "    </tr>\n",
       "    <tr>\n",
       "      <th>2400</th>\n",
       "      <td>2400</td>\n",
       "      <td>0.060</td>\n",
       "      <td>50.0</td>\n",
       "      <td>1511</td>\n",
       "      <td>Worthy Pale</td>\n",
       "      <td>American Pale Ale (APA)</td>\n",
       "      <td>199</td>\n",
       "      <td>12.0</td>\n",
       "    </tr>\n",
       "    <tr>\n",
       "      <th>2405</th>\n",
       "      <td>2405</td>\n",
       "      <td>0.067</td>\n",
       "      <td>45.0</td>\n",
       "      <td>928</td>\n",
       "      <td>Belgorado</td>\n",
       "      <td>Belgian IPA</td>\n",
       "      <td>424</td>\n",
       "      <td>12.0</td>\n",
       "    </tr>\n",
       "    <tr>\n",
       "      <th>2408</th>\n",
       "      <td>2408</td>\n",
       "      <td>0.055</td>\n",
       "      <td>40.0</td>\n",
       "      <td>145</td>\n",
       "      <td>Silverback Pale Ale</td>\n",
       "      <td>American Pale Ale (APA)</td>\n",
       "      <td>424</td>\n",
       "      <td>12.0</td>\n",
       "    </tr>\n",
       "  </tbody>\n",
       "</table>\n",
       "<p>1403 rows × 8 columns</p>\n",
       "</div>"
      ],
      "text/plain": [
       "      Unnamed: 0    abv   ibu    id                                  name  \\\n",
       "14            14  0.061  60.0  1979                          Bitter Bitch   \n",
       "21            21  0.099  92.0  1036                         Lower De Boom   \n",
       "22            22  0.079  45.0  1024                         Fireside Chat   \n",
       "24            24  0.044  42.0   876                       Bitter American   \n",
       "25            25  0.049  17.0   802  Hell or High Watermelon Wheat (2009)   \n",
       "...          ...    ...   ...   ...                                   ...   \n",
       "2398        2398  0.077  30.0  1513  Lights Out Vanilla Cream Extra Stout   \n",
       "2399        2399  0.069  69.0  1512                     Worthy IPA (2013)   \n",
       "2400        2400  0.060  50.0  1511                           Worthy Pale   \n",
       "2405        2405  0.067  45.0   928                             Belgorado   \n",
       "2408        2408  0.055  40.0   145                   Silverback Pale Ale   \n",
       "\n",
       "                               style  brewery_id  ounces  \n",
       "14           American Pale Ale (APA)         177    12.0  \n",
       "21               American Barleywine         368     8.4  \n",
       "22                     Winter Warmer         368    12.0  \n",
       "24           American Pale Ale (APA)         368    12.0  \n",
       "25            Fruit / Vegetable Beer         368    12.0  \n",
       "...                              ...         ...     ...  \n",
       "2398  American Double / Imperial IPA         199    12.0  \n",
       "2399                    American IPA         199    12.0  \n",
       "2400         American Pale Ale (APA)         199    12.0  \n",
       "2405                     Belgian IPA         424    12.0  \n",
       "2408         American Pale Ale (APA)         424    12.0  \n",
       "\n",
       "[1403 rows x 8 columns]"
      ]
     },
     "execution_count": 23,
     "metadata": {},
     "output_type": "execute_result"
    }
   ],
   "source": [
    "beers"
   ]
  },
  {
   "attachments": {
    "SRM_chart.png": {
     "image/png": "[encoded data removed]"
    }
   },
   "cell_type": "markdown",
   "metadata": {},
   "source": [
    "## Standard Reference Method (SRM) is a way to quantify a beer's color\n",
    "\n",
    "Originally used to predict how dark or light a beer will be before it is brewed, its calculation is based on how many **black-type malts** vs **red-type malts** you include in the brewing process.\n",
    "\n",
    "![SRM_chart.png](attachment:SRM_chart.png)"
   ]
  },
  {
   "cell_type": "markdown",
   "metadata": {},
   "source": [
    "### With the above Chart I will be able to assign a random integer between a category's range of SRMs to hopefully improve my accuracy \n",
    "\n",
    "for instance I would make my stouts have an SRM of between 25 and 80, since there are three different styles of stout but they are all in my category of stout. \n",
    "\n",
    "**I plan to do this in a similar way I added the category column, by adding another column called srm**"
   ]
  },
  {
   "cell_type": "markdown",
   "metadata": {},
   "source": [
    "each line is saying, \n",
    "- for each row in this data frame, assign a random number between these two values into a new column called SRM"
   ]
  },
  {
   "cell_type": "code",
   "execution_count": 24,
   "metadata": {},
   "outputs": [],
   "source": [
    "ipa['SRM'] = [np.random.randint(low=5,high=12) for k in ipa.index]"
   ]
  },
  {
   "cell_type": "code",
   "execution_count": 77,
   "metadata": {},
   "outputs": [],
   "source": [
    "ipa['SRM'] = [np.random.randint(low=5,high=12) for k in ipa.index]\n",
    "stouts['SRM'] = [np.random.randint(low=25,high=81) for k in stouts.index]\n",
    "porters['SRM'] = [np.random.randint(low=17,high=40) for k in porters.index]\n",
    "pilsner['SRM'] = [np.random.randint(low=2,high=8) for k in pilsner.index]\n",
    "wheats['SRM'] = [np.random.randint(low=2,high=5) for k in wheats.index]\n",
    "brown_ale['SRM'] = [np.random.randint(low=12,high=23) for k in brown_ale.index]\n",
    "pale_ale['SRM'] = [np.random.randint(low=5,high=15) for k in pale_ale.index]\n",
    "belgian['SRM'] = [np.random.randint(low=4,high=8) for k in belgian.index]\n",
    "\n",
    "#my dark lagers consisted of Vienna Lagers and Oktoberfest so I combined the two to get the range I used\n",
    "dark_lager['SRM'] = [np.random.randint(low=6,high=16) for k in dark_lager.index]"
   ]
  },
  {
   "cell_type": "markdown",
   "metadata": {},
   "source": [
    "I now needed to concatenate these data frames once again and assign them to the beers data frame"
   ]
  },
  {
   "cell_type": "code",
   "execution_count": 78,
   "metadata": {},
   "outputs": [
    {
     "data": {
      "text/plain": [
       "Index(['abv', 'ibu', 'category', 'SRM'], dtype='object')"
      ]
     },
     "execution_count": 78,
     "metadata": {},
     "output_type": "execute_result"
    }
   ],
   "source": [
    "frames = [ipa, stouts, porters, pilsner, wheats, brown_ale, pale_ale, belgian, dark_lager]\n",
    "beers = pd.concat(frames)\n",
    "beers.drop(['style', 'ounces', 'id', 'name', 'brewery_id', 'Unnamed: 0'], axis=1, inplace=True)\n",
    "beers.columns"
   ]
  },
  {
   "cell_type": "code",
   "execution_count": 79,
   "metadata": {},
   "outputs": [
    {
     "data": {
      "text/html": [
       "<div>\n",
       "<style scoped>\n",
       "    .dataframe tbody tr th:only-of-type {\n",
       "        vertical-align: middle;\n",
       "    }\n",
       "\n",
       "    .dataframe tbody tr th {\n",
       "        vertical-align: top;\n",
       "    }\n",
       "\n",
       "    .dataframe thead th {\n",
       "        text-align: right;\n",
       "    }\n",
       "</style>\n",
       "<table border=\"1\" class=\"dataframe\">\n",
       "  <thead>\n",
       "    <tr style=\"text-align: right;\">\n",
       "      <th></th>\n",
       "      <th>abv</th>\n",
       "      <th>ibu</th>\n",
       "      <th>category</th>\n",
       "      <th>SRM</th>\n",
       "    </tr>\n",
       "  </thead>\n",
       "  <tbody>\n",
       "    <tr>\n",
       "      <th>28</th>\n",
       "      <td>0.070</td>\n",
       "      <td>70.0</td>\n",
       "      <td>0</td>\n",
       "      <td>6</td>\n",
       "    </tr>\n",
       "    <tr>\n",
       "      <th>29</th>\n",
       "      <td>0.070</td>\n",
       "      <td>70.0</td>\n",
       "      <td>0</td>\n",
       "      <td>9</td>\n",
       "    </tr>\n",
       "    <tr>\n",
       "      <th>30</th>\n",
       "      <td>0.070</td>\n",
       "      <td>70.0</td>\n",
       "      <td>0</td>\n",
       "      <td>10</td>\n",
       "    </tr>\n",
       "    <tr>\n",
       "      <th>32</th>\n",
       "      <td>0.097</td>\n",
       "      <td>94.0</td>\n",
       "      <td>0</td>\n",
       "      <td>11</td>\n",
       "    </tr>\n",
       "    <tr>\n",
       "      <th>37</th>\n",
       "      <td>0.070</td>\n",
       "      <td>65.0</td>\n",
       "      <td>0</td>\n",
       "      <td>6</td>\n",
       "    </tr>\n",
       "    <tr>\n",
       "      <th>...</th>\n",
       "      <td>...</td>\n",
       "      <td>...</td>\n",
       "      <td>...</td>\n",
       "      <td>...</td>\n",
       "    </tr>\n",
       "    <tr>\n",
       "      <th>2252</th>\n",
       "      <td>0.040</td>\n",
       "      <td>22.0</td>\n",
       "      <td>8</td>\n",
       "      <td>13</td>\n",
       "    </tr>\n",
       "    <tr>\n",
       "      <th>2256</th>\n",
       "      <td>0.040</td>\n",
       "      <td>32.0</td>\n",
       "      <td>8</td>\n",
       "      <td>7</td>\n",
       "    </tr>\n",
       "    <tr>\n",
       "      <th>2291</th>\n",
       "      <td>0.048</td>\n",
       "      <td>15.0</td>\n",
       "      <td>8</td>\n",
       "      <td>15</td>\n",
       "    </tr>\n",
       "    <tr>\n",
       "      <th>2292</th>\n",
       "      <td>0.048</td>\n",
       "      <td>22.0</td>\n",
       "      <td>8</td>\n",
       "      <td>7</td>\n",
       "    </tr>\n",
       "    <tr>\n",
       "      <th>2342</th>\n",
       "      <td>0.057</td>\n",
       "      <td>22.0</td>\n",
       "      <td>8</td>\n",
       "      <td>10</td>\n",
       "    </tr>\n",
       "  </tbody>\n",
       "</table>\n",
       "<p>1188 rows × 4 columns</p>\n",
       "</div>"
      ],
      "text/plain": [
       "        abv   ibu  category  SRM\n",
       "28    0.070  70.0         0    6\n",
       "29    0.070  70.0         0    9\n",
       "30    0.070  70.0         0   10\n",
       "32    0.097  94.0         0   11\n",
       "37    0.070  65.0         0    6\n",
       "...     ...   ...       ...  ...\n",
       "2252  0.040  22.0         8   13\n",
       "2256  0.040  32.0         8    7\n",
       "2291  0.048  15.0         8   15\n",
       "2292  0.048  22.0         8    7\n",
       "2342  0.057  22.0         8   10\n",
       "\n",
       "[1188 rows x 4 columns]"
      ]
     },
     "execution_count": 79,
     "metadata": {},
     "output_type": "execute_result"
    }
   ],
   "source": [
    "beers"
   ]
  },
  {
   "cell_type": "markdown",
   "metadata": {},
   "source": [
    "## Downsample here"
   ]
  },
  {
   "cell_type": "code",
   "execution_count": 80,
   "metadata": {},
   "outputs": [],
   "source": [
    "from sklearn.utils import resample\n",
    "df_dsmpl1 = resample(ipa,replace=False, n_samples = 43, random_state=99)\n",
    "df_dsmpl2 = resample(stouts,replace=False, n_samples = 43, random_state=99)\n",
    "df_dsmpl3 = resample(pilsner,replace=False, n_samples = 43, random_state=99)\n",
    "df_dsmpl4 = resample(wheats,replace=False, n_samples = 43, random_state=99)\n",
    "df_dsmpl5 = resample(brown_ale,replace=False, n_samples = 43, random_state=99)\n",
    "df_dsmpl6 = resample(pale_ale,replace=False, n_samples = 43, random_state=99)\n",
    "df_dsmpl7 = resample(dark_lager,replace=False, n_samples = 43, random_state=99)\n",
    "df_dsmpl8 = resample(porters,replace=False, n_samples = 43, random_state=99)"
   ]
  },
  {
   "cell_type": "code",
   "execution_count": 81,
   "metadata": {},
   "outputs": [],
   "source": [
    "frames = [df_dsmpl1, df_dsmpl2, df_dsmpl3, df_dsmpl4, df_dsmpl5, df_dsmpl6, df_dsmpl7, df_dsmpl8, belgian]\n",
    "beers = pd.concat(frames)"
   ]
  },
  {
   "cell_type": "code",
   "execution_count": 82,
   "metadata": {},
   "outputs": [
    {
     "data": {
      "text/plain": [
       "8    0.111111\n",
       "7    0.111111\n",
       "6    0.111111\n",
       "5    0.111111\n",
       "4    0.111111\n",
       "3    0.111111\n",
       "2    0.111111\n",
       "1    0.111111\n",
       "0    0.111111\n",
       "Name: category, dtype: float64"
      ]
     },
     "execution_count": 82,
     "metadata": {},
     "output_type": "execute_result"
    }
   ],
   "source": [
    "#Baseline\n",
    "beers.category.value_counts(normalize=True)"
   ]
  },
  {
   "cell_type": "code",
   "execution_count": null,
   "metadata": {},
   "outputs": [],
   "source": []
  },
  {
   "cell_type": "markdown",
   "metadata": {},
   "source": [
    "## Let's assign X and y"
   ]
  },
  {
   "cell_type": "code",
   "execution_count": 83,
   "metadata": {},
   "outputs": [],
   "source": [
    "feature_cols = ['abv', 'ibu','SRM']\n",
    "X = beers[feature_cols]\n",
    "y = beers['category']"
   ]
  },
  {
   "cell_type": "code",
   "execution_count": 84,
   "metadata": {},
   "outputs": [],
   "source": [
    "from sklearn.model_selection import train_test_split\n",
    "X_train, X_test, y_train, y_test = train_test_split(X, y,test_size=.2, random_state=99,stratify=y)"
   ]
  },
  {
   "cell_type": "code",
   "execution_count": 85,
   "metadata": {},
   "outputs": [],
   "source": [
    "from sklearn.preprocessing import StandardScaler\n",
    "scaler = StandardScaler()\n",
    "X_train = scaler.fit_transform(X_train)\n",
    "X_test = scaler.transform(X_test)"
   ]
  },
  {
   "cell_type": "code",
   "execution_count": 86,
   "metadata": {
    "scrolled": true
   },
   "outputs": [],
   "source": [
    "from sklearn import svm\n",
    "svc = svm.SVC()\n",
    "svc.fit(X_train, y_train)\n",
    "y_pred = svc.predict(X_test)"
   ]
  },
  {
   "cell_type": "code",
   "execution_count": 87,
   "metadata": {},
   "outputs": [
    {
     "name": "stdout",
     "output_type": "stream",
     "text": [
      "Cross-Validation Accuracy Scores [0.62903226 0.56451613 0.58064516 0.58064516 0.68852459]\n"
     ]
    }
   ],
   "source": [
    "from sklearn.model_selection import cross_val_score\n",
    "scores = cross_val_score(svc, X_train, y_train,cv=5)\n",
    "print('Cross-Validation Accuracy Scores', scores)"
   ]
  },
  {
   "cell_type": "code",
   "execution_count": 88,
   "metadata": {},
   "outputs": [
    {
     "data": {
      "text/plain": [
       "61.0"
      ]
     },
     "execution_count": 88,
     "metadata": {},
     "output_type": "execute_result"
    }
   ],
   "source": [
    "(scores.mean()*100).round()"
   ]
  },
  {
   "cell_type": "code",
   "execution_count": 89,
   "metadata": {},
   "outputs": [
    {
     "data": {
      "image/png": "[encoded data removed]",
      "text/plain": [
       "<Figure size 432x288 with 2 Axes>"
      ]
     },
     "metadata": {
      "needs_background": "light"
     },
     "output_type": "display_data"
    }
   ],
   "source": [
    "from sklearn.metrics import confusion_matrix\n",
    "c = confusion_matrix(y_test, y_pred)\n",
    "sns.heatmap(c, annot=True,cmap='Blues');"
   ]
  },
  {
   "cell_type": "markdown",
   "metadata": {},
   "source": [
    "**reminder on what values are which category**\n",
    "- ipa: 0\n",
    "- stouts: 1\n",
    "- porters: 2\n",
    "- pilsner: 3\n",
    "- wheats: 4\n",
    "- brown_ale: 5\n",
    "- pale_ale: 6\n",
    "- belgian: 7\n",
    "- dark_lager: 8"
   ]
  },
  {
   "cell_type": "code",
   "execution_count": null,
   "metadata": {},
   "outputs": [],
   "source": []
  }
 ],
 "metadata": {
  "kernelspec": {
   "display_name": "Python 3 (ipykernel)",
   "language": "python",
   "name": "python3"
  },
  "language_info": {
   "codemirror_mode": {
    "name": "ipython",
    "version": 3
   },
   "file_extension": ".py",
   "mimetype": "text/x-python",
   "name": "python",
   "nbconvert_exporter": "python",
   "pygments_lexer": "ipython3",
   "version": "3.10.4"
  }
 },
 "nbformat": 4,
 "nbformat_minor": 4
}
