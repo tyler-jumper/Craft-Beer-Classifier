{
 "cells": [
  {
   "cell_type": "code",
   "execution_count": 1,
   "id": "43af10a6",
   "metadata": {},
   "outputs": [],
   "source": [
    "import pandas as pd"
   ]
  },
  {
   "cell_type": "code",
   "execution_count": 89,
   "id": "8b74fb65",
   "metadata": {},
   "outputs": [],
   "source": [
    "df = pd.read_csv('untappd_beers.csv', encoding='latin-1')\n",
    "df.drop(columns='Unnamed: 0', index=1, inplace=True)"
   ]
  },
  {
   "cell_type": "code",
   "execution_count": 81,
   "id": "897ab730",
   "metadata": {},
   "outputs": [
    {
     "data": {
      "text/plain": [
       "202"
      ]
     },
     "execution_count": 81,
     "metadata": {},
     "output_type": "execute_result"
    }
   ],
   "source": [
    "len(df['style'].unique().tolist())"
   ]
  },
  {
   "cell_type": "code",
   "execution_count": 88,
   "id": "cffa2680",
   "metadata": {},
   "outputs": [
    {
     "data": {
      "text/plain": [
       "Pilsner - Imperial / Double    19\n",
       "Pilsner - Czech                18\n",
       "Pilsner - German               15\n",
       "Pilsner - Other                13\n",
       "Pilsner - Italian              11\n",
       "Name: style, dtype: int64"
      ]
     },
     "execution_count": 88,
     "metadata": {},
     "output_type": "execute_result"
    }
   ],
   "source": [
    "# IPA 208\n",
    "# Stout 319\n",
    "# Porter 178\n",
    "# Pilsner 76\n",
    "# Wheat 160\n",
    "# Brown Ale 121\n",
    "# Pale Ale 168\n",
    "# Belgian 185\n",
    "# Lager 273\n",
    "# Sour/Wild 153\n",
    "df[df['style'].str.contains('Pilsner')]['style'].value_counts()"
   ]
  },
  {
   "cell_type": "markdown",
   "id": "a8ec2d05",
   "metadata": {},
   "source": [
    "#### My version of one hot encoding"
   ]
  },
  {
   "cell_type": "code",
   "execution_count": 90,
   "id": "fdab1e5f",
   "metadata": {},
   "outputs": [],
   "source": [
    "new_df = df\n",
    "new_df['type'] = [0]*len(df)\n",
    "new_df['SRM'] = [0]*len(df)\n",
    "# new_df['ipa'] = [0]*len(df)\n",
    "# new_df['stout'] = [0]*len(df)\n",
    "# new_df['porter'] = [0]*len(df)\n",
    "# new_df['pilsner'] = [0]*len(df)\n",
    "# new_df['wheat'] = [0]*len(df)\n",
    "# new_df['brown'] = [0]*len(df)\n",
    "# new_df['pale'] = [0]*len(df)\n",
    "# new_df['belgian'] = [0]*len(df)\n",
    "# new_df['lager'] = [0]*len(df)\n",
    "# new_df['sour'] = [0]*len(df)\n",
    "df = new_df"
   ]
  },
  {
   "cell_type": "code",
   "execution_count": 91,
   "id": "94595a74",
   "metadata": {},
   "outputs": [],
   "source": [
    "ipa_df = df[df['style'].str.contains('IPA')]\n",
    "stout_df = df[df['style'].str.contains('Stout')]\n",
    "porter_df = df[df['style'].str.contains('Porter')]\n",
    "pilsner_df = df[df['style'].str.contains('Pilsner')]\n",
    "wheat_df = df[df['style'].str.contains('Wheat')]\n",
    "brown_df = df[df['style'].str.contains('Brown Ale')]\n",
    "pale_df = df[df['style'].str.contains('Pale Ale')]\n",
    "belgian_df = df[df['style'].str.contains('Belgian ')]  # need the space (' ') at the end to remove the pale ale and brown ale belgians\n",
    "lager_df = df[df['style'].str.contains('Lager')]\n",
    "sour_df = df[(df['style'].str.contains('Sour'))|(df['style'].str.contains('Wild Ale'))]"
   ]
  },
  {
   "cell_type": "code",
   "execution_count": 92,
   "id": "69558128",
   "metadata": {},
   "outputs": [
    {
     "name": "stderr",
     "output_type": "stream",
     "text": [
      "C:\\Users\\612456\\AppData\\Local\\Temp\\2\\ipykernel_19916\\1327560388.py:1: SettingWithCopyWarning: \n",
      "A value is trying to be set on a copy of a slice from a DataFrame.\n",
      "Try using .loc[row_indexer,col_indexer] = value instead\n",
      "\n",
      "See the caveats in the documentation: https://pandas.pydata.org/pandas-docs/stable/user_guide/indexing.html#returning-a-view-versus-a-copy\n",
      "  ipa_df['type'] = [0]*len(ipa_df)\n",
      "C:\\Users\\612456\\AppData\\Local\\Temp\\2\\ipykernel_19916\\1327560388.py:2: SettingWithCopyWarning: \n",
      "A value is trying to be set on a copy of a slice from a DataFrame.\n",
      "Try using .loc[row_indexer,col_indexer] = value instead\n",
      "\n",
      "See the caveats in the documentation: https://pandas.pydata.org/pandas-docs/stable/user_guide/indexing.html#returning-a-view-versus-a-copy\n",
      "  stout_df['type'] = [1]*len(stout_df)\n",
      "C:\\Users\\612456\\AppData\\Local\\Temp\\2\\ipykernel_19916\\1327560388.py:3: SettingWithCopyWarning: \n",
      "A value is trying to be set on a copy of a slice from a DataFrame.\n",
      "Try using .loc[row_indexer,col_indexer] = value instead\n",
      "\n",
      "See the caveats in the documentation: https://pandas.pydata.org/pandas-docs/stable/user_guide/indexing.html#returning-a-view-versus-a-copy\n",
      "  porter_df['type'] = [2]*len(porter_df)\n",
      "C:\\Users\\612456\\AppData\\Local\\Temp\\2\\ipykernel_19916\\1327560388.py:4: SettingWithCopyWarning: \n",
      "A value is trying to be set on a copy of a slice from a DataFrame.\n",
      "Try using .loc[row_indexer,col_indexer] = value instead\n",
      "\n",
      "See the caveats in the documentation: https://pandas.pydata.org/pandas-docs/stable/user_guide/indexing.html#returning-a-view-versus-a-copy\n",
      "  pilsner_df['type'] = [3]*len(pilsner_df)\n",
      "C:\\Users\\612456\\AppData\\Local\\Temp\\2\\ipykernel_19916\\1327560388.py:5: SettingWithCopyWarning: \n",
      "A value is trying to be set on a copy of a slice from a DataFrame.\n",
      "Try using .loc[row_indexer,col_indexer] = value instead\n",
      "\n",
      "See the caveats in the documentation: https://pandas.pydata.org/pandas-docs/stable/user_guide/indexing.html#returning-a-view-versus-a-copy\n",
      "  wheat_df['type'] = [4]*len(wheat_df)\n",
      "C:\\Users\\612456\\AppData\\Local\\Temp\\2\\ipykernel_19916\\1327560388.py:6: SettingWithCopyWarning: \n",
      "A value is trying to be set on a copy of a slice from a DataFrame.\n",
      "Try using .loc[row_indexer,col_indexer] = value instead\n",
      "\n",
      "See the caveats in the documentation: https://pandas.pydata.org/pandas-docs/stable/user_guide/indexing.html#returning-a-view-versus-a-copy\n",
      "  brown_df['type'] = [5]*len(brown_df)\n",
      "C:\\Users\\612456\\AppData\\Local\\Temp\\2\\ipykernel_19916\\1327560388.py:7: SettingWithCopyWarning: \n",
      "A value is trying to be set on a copy of a slice from a DataFrame.\n",
      "Try using .loc[row_indexer,col_indexer] = value instead\n",
      "\n",
      "See the caveats in the documentation: https://pandas.pydata.org/pandas-docs/stable/user_guide/indexing.html#returning-a-view-versus-a-copy\n",
      "  pale_df['type'] = [6]*len(pale_df)\n",
      "C:\\Users\\612456\\AppData\\Local\\Temp\\2\\ipykernel_19916\\1327560388.py:8: SettingWithCopyWarning: \n",
      "A value is trying to be set on a copy of a slice from a DataFrame.\n",
      "Try using .loc[row_indexer,col_indexer] = value instead\n",
      "\n",
      "See the caveats in the documentation: https://pandas.pydata.org/pandas-docs/stable/user_guide/indexing.html#returning-a-view-versus-a-copy\n",
      "  belgian_df['type'] = [7]*len(belgian_df)\n",
      "C:\\Users\\612456\\AppData\\Local\\Temp\\2\\ipykernel_19916\\1327560388.py:9: SettingWithCopyWarning: \n",
      "A value is trying to be set on a copy of a slice from a DataFrame.\n",
      "Try using .loc[row_indexer,col_indexer] = value instead\n",
      "\n",
      "See the caveats in the documentation: https://pandas.pydata.org/pandas-docs/stable/user_guide/indexing.html#returning-a-view-versus-a-copy\n",
      "  lager_df['type'] = [8]*len(lager_df)\n",
      "C:\\Users\\612456\\AppData\\Local\\Temp\\2\\ipykernel_19916\\1327560388.py:10: SettingWithCopyWarning: \n",
      "A value is trying to be set on a copy of a slice from a DataFrame.\n",
      "Try using .loc[row_indexer,col_indexer] = value instead\n",
      "\n",
      "See the caveats in the documentation: https://pandas.pydata.org/pandas-docs/stable/user_guide/indexing.html#returning-a-view-versus-a-copy\n",
      "  sour_df['type'] = [9]*len(sour_df)\n"
     ]
    }
   ],
   "source": [
    "ipa_df['type'] = [0]*len(ipa_df)\n",
    "stout_df['type'] = [1]*len(stout_df)\n",
    "porter_df['type'] = [2]*len(porter_df)\n",
    "pilsner_df['type'] = [3]*len(pilsner_df)\n",
    "wheat_df['type'] = [4]*len(wheat_df)\n",
    "brown_df['type'] = [5]*len(brown_df)\n",
    "pale_df['type'] = [6]*len(pale_df)\n",
    "belgian_df['type'] = [7]*len(belgian_df)\n",
    "lager_df['type'] = [8]*len(lager_df)\n",
    "sour_df['type'] = [9]*len(sour_df)"
   ]
  },
  {
   "cell_type": "markdown",
   "id": "7fe1c191",
   "metadata": {},
   "source": [
    "### Add SRM just like I did in the DS5k nb and same stye as above"
   ]
  },
  {
   "cell_type": "code",
   "execution_count": 94,
   "id": "6d2d9dad",
   "metadata": {},
   "outputs": [
    {
     "name": "stderr",
     "output_type": "stream",
     "text": [
      "C:\\Users\\612456\\AppData\\Local\\Temp\\2\\ipykernel_19916\\950505899.py:2: SettingWithCopyWarning: \n",
      "A value is trying to be set on a copy of a slice from a DataFrame.\n",
      "Try using .loc[row_indexer,col_indexer] = value instead\n",
      "\n",
      "See the caveats in the documentation: https://pandas.pydata.org/pandas-docs/stable/user_guide/indexing.html#returning-a-view-versus-a-copy\n",
      "  ipa_df['SRM'] = [np.random.randint(low=5,high=12) for k in ipa_df.index]\n",
      "C:\\Users\\612456\\AppData\\Local\\Temp\\2\\ipykernel_19916\\950505899.py:3: SettingWithCopyWarning: \n",
      "A value is trying to be set on a copy of a slice from a DataFrame.\n",
      "Try using .loc[row_indexer,col_indexer] = value instead\n",
      "\n",
      "See the caveats in the documentation: https://pandas.pydata.org/pandas-docs/stable/user_guide/indexing.html#returning-a-view-versus-a-copy\n",
      "  stout_df['SRM'] = [np.random.randint(low=25,high=81) for k in stout_df.index]\n",
      "C:\\Users\\612456\\AppData\\Local\\Temp\\2\\ipykernel_19916\\950505899.py:4: SettingWithCopyWarning: \n",
      "A value is trying to be set on a copy of a slice from a DataFrame.\n",
      "Try using .loc[row_indexer,col_indexer] = value instead\n",
      "\n",
      "See the caveats in the documentation: https://pandas.pydata.org/pandas-docs/stable/user_guide/indexing.html#returning-a-view-versus-a-copy\n",
      "  porter_df['SRM'] = [np.random.randint(low=17,high=40) for k in porter_df.index]\n",
      "C:\\Users\\612456\\AppData\\Local\\Temp\\2\\ipykernel_19916\\950505899.py:5: SettingWithCopyWarning: \n",
      "A value is trying to be set on a copy of a slice from a DataFrame.\n",
      "Try using .loc[row_indexer,col_indexer] = value instead\n",
      "\n",
      "See the caveats in the documentation: https://pandas.pydata.org/pandas-docs/stable/user_guide/indexing.html#returning-a-view-versus-a-copy\n",
      "  pilsner_df['SRM'] = [np.random.randint(low=2,high=8) for k in pilsner_df.index]\n",
      "C:\\Users\\612456\\AppData\\Local\\Temp\\2\\ipykernel_19916\\950505899.py:6: SettingWithCopyWarning: \n",
      "A value is trying to be set on a copy of a slice from a DataFrame.\n",
      "Try using .loc[row_indexer,col_indexer] = value instead\n",
      "\n",
      "See the caveats in the documentation: https://pandas.pydata.org/pandas-docs/stable/user_guide/indexing.html#returning-a-view-versus-a-copy\n",
      "  wheat_df['SRM'] = [np.random.randint(low=2,high=5) for k in wheat_df.index]\n",
      "C:\\Users\\612456\\AppData\\Local\\Temp\\2\\ipykernel_19916\\950505899.py:7: SettingWithCopyWarning: \n",
      "A value is trying to be set on a copy of a slice from a DataFrame.\n",
      "Try using .loc[row_indexer,col_indexer] = value instead\n",
      "\n",
      "See the caveats in the documentation: https://pandas.pydata.org/pandas-docs/stable/user_guide/indexing.html#returning-a-view-versus-a-copy\n",
      "  brown_df['SRM'] = [np.random.randint(low=12,high=23) for k in brown_df.index]\n",
      "C:\\Users\\612456\\AppData\\Local\\Temp\\2\\ipykernel_19916\\950505899.py:8: SettingWithCopyWarning: \n",
      "A value is trying to be set on a copy of a slice from a DataFrame.\n",
      "Try using .loc[row_indexer,col_indexer] = value instead\n",
      "\n",
      "See the caveats in the documentation: https://pandas.pydata.org/pandas-docs/stable/user_guide/indexing.html#returning-a-view-versus-a-copy\n",
      "  pale_df['SRM'] = [np.random.randint(low=5,high=15) for k in pale_df.index]\n",
      "C:\\Users\\612456\\AppData\\Local\\Temp\\2\\ipykernel_19916\\950505899.py:9: SettingWithCopyWarning: \n",
      "A value is trying to be set on a copy of a slice from a DataFrame.\n",
      "Try using .loc[row_indexer,col_indexer] = value instead\n",
      "\n",
      "See the caveats in the documentation: https://pandas.pydata.org/pandas-docs/stable/user_guide/indexing.html#returning-a-view-versus-a-copy\n",
      "  belgian_df['SRM'] = [np.random.randint(low=4,high=8) for k in belgian_df.index]\n",
      "C:\\Users\\612456\\AppData\\Local\\Temp\\2\\ipykernel_19916\\950505899.py:10: SettingWithCopyWarning: \n",
      "A value is trying to be set on a copy of a slice from a DataFrame.\n",
      "Try using .loc[row_indexer,col_indexer] = value instead\n",
      "\n",
      "See the caveats in the documentation: https://pandas.pydata.org/pandas-docs/stable/user_guide/indexing.html#returning-a-view-versus-a-copy\n",
      "  lager_df['SRM'] = [np.random.randint(low=6,high=15) for k in lager_df.index]  #not n DS5k I used my best judgment with the chart\n",
      "C:\\Users\\612456\\AppData\\Local\\Temp\\2\\ipykernel_19916\\950505899.py:11: SettingWithCopyWarning: \n",
      "A value is trying to be set on a copy of a slice from a DataFrame.\n",
      "Try using .loc[row_indexer,col_indexer] = value instead\n",
      "\n",
      "See the caveats in the documentation: https://pandas.pydata.org/pandas-docs/stable/user_guide/indexing.html#returning-a-view-versus-a-copy\n",
      "  sour_df['SRM'] = [np.random.randint(low=4,high=12) for k in sour_df.index]   #made this up, do some research\n"
     ]
    }
   ],
   "source": [
    "import numpy as np\n",
    "ipa_df['SRM'] = [np.random.randint(low=5,high=12) for k in ipa_df.index]\n",
    "stout_df['SRM'] = [np.random.randint(low=25,high=81) for k in stout_df.index]\n",
    "porter_df['SRM'] = [np.random.randint(low=17,high=40) for k in porter_df.index]\n",
    "pilsner_df['SRM'] = [np.random.randint(low=2,high=8) for k in pilsner_df.index]\n",
    "wheat_df['SRM'] = [np.random.randint(low=2,high=5) for k in wheat_df.index]\n",
    "brown_df['SRM'] = [np.random.randint(low=12,high=23) for k in brown_df.index]\n",
    "pale_df['SRM'] = [np.random.randint(low=5,high=15) for k in pale_df.index]\n",
    "belgian_df['SRM'] = [np.random.randint(low=4,high=8) for k in belgian_df.index]\n",
    "lager_df['SRM'] = [np.random.randint(low=6,high=15) for k in lager_df.index]  #not n DS5k I used my best judgment with the chart\n",
    "sour_df['SRM'] = [np.random.randint(low=4,high=12) for k in sour_df.index]   #made this up, do some research"
   ]
  },
  {
   "cell_type": "code",
   "execution_count": null,
   "id": "ae5fdbf4",
   "metadata": {},
   "outputs": [],
   "source": []
  },
  {
   "cell_type": "markdown",
   "id": "15027aac",
   "metadata": {},
   "source": [
    "### now combine the dfs back into the og df"
   ]
  },
  {
   "cell_type": "code",
   "execution_count": 96,
   "id": "0ab73fe4",
   "metadata": {},
   "outputs": [],
   "source": [
    "# ipa_df['ipa'] = [1]*len(ipa_df)\n",
    "# stout_df['stout'] = [1]*len(stout_df)\n",
    "# porter_df['porter'] = [1]*len(porter_df)\n",
    "# pilsner_df['pilsner'] = [1]*len(pilsner_df)\n",
    "# wheat_df['wheat'] = [1]*len(wheat_df)\n",
    "# brown_df['brown'] = [1]*len(brown_df)\n",
    "# pale_df['pale'] = [1]*len(pale_df)\n",
    "# belgian_df['belgian'] = [1]*len(belgian_df)\n",
    "# lager_df['lager'] = [1]*len(lager_df)\n",
    "# sour_df['sour'] \n",
    "df = pd.concat([ipa_df, stout_df, porter_df, pilsner_df, wheat_df, brown_df, pale_df, belgian_df, lager_df, sour_df])"
   ]
  },
  {
   "cell_type": "code",
   "execution_count": 100,
   "id": "6b3ba2f2",
   "metadata": {},
   "outputs": [
    {
     "data": {
      "text/html": [
       "<div>\n",
       "<style scoped>\n",
       "    .dataframe tbody tr th:only-of-type {\n",
       "        vertical-align: middle;\n",
       "    }\n",
       "\n",
       "    .dataframe tbody tr th {\n",
       "        vertical-align: top;\n",
       "    }\n",
       "\n",
       "    .dataframe thead th {\n",
       "        text-align: right;\n",
       "    }\n",
       "</style>\n",
       "<table border=\"1\" class=\"dataframe\">\n",
       "  <thead>\n",
       "    <tr style=\"text-align: right;\">\n",
       "      <th></th>\n",
       "      <th>IBU</th>\n",
       "      <th>ABV</th>\n",
       "      <th>Description</th>\n",
       "      <th>type</th>\n",
       "      <th>SRM</th>\n",
       "    </tr>\n",
       "  </thead>\n",
       "  <tbody>\n",
       "    <tr>\n",
       "      <th>0</th>\n",
       "      <td>65</td>\n",
       "      <td>8.000</td>\n",
       "      <td>Originally brewed in celebration of the first ...</td>\n",
       "      <td>0</td>\n",
       "      <td>11</td>\n",
       "    </tr>\n",
       "    <tr>\n",
       "      <th>3</th>\n",
       "      <td>72</td>\n",
       "      <td>6.800</td>\n",
       "      <td>Bursting with pungent American hops, Julius - ...</td>\n",
       "      <td>0</td>\n",
       "      <td>6</td>\n",
       "    </tr>\n",
       "    <tr>\n",
       "      <th>4</th>\n",
       "      <td>90</td>\n",
       "      <td>8.200</td>\n",
       "      <td>Our Double IPA! We smell a ton of peach on the...</td>\n",
       "      <td>0</td>\n",
       "      <td>9</td>\n",
       "    </tr>\n",
       "    <tr>\n",
       "      <th>5</th>\n",
       "      <td>90</td>\n",
       "      <td>7.500</td>\n",
       "      <td>Our cross-continental IPA! Made with Australia...</td>\n",
       "      <td>0</td>\n",
       "      <td>5</td>\n",
       "    </tr>\n",
       "    <tr>\n",
       "      <th>6</th>\n",
       "      <td>72</td>\n",
       "      <td>6.800</td>\n",
       "      <td>Alter Ego is a member of the Julius family, ta...</td>\n",
       "      <td>0</td>\n",
       "      <td>10</td>\n",
       "    </tr>\n",
       "    <tr>\n",
       "      <th>...</th>\n",
       "      <td>...</td>\n",
       "      <td>...</td>\n",
       "      <td>...</td>\n",
       "      <td>...</td>\n",
       "      <td>...</td>\n",
       "    </tr>\n",
       "    <tr>\n",
       "      <th>3157</th>\n",
       "      <td>10</td>\n",
       "      <td>7.000</td>\n",
       "      <td>Wild Ale - Other</td>\n",
       "      <td>9</td>\n",
       "      <td>11</td>\n",
       "    </tr>\n",
       "    <tr>\n",
       "      <th>3158</th>\n",
       "      <td>20</td>\n",
       "      <td>9.666</td>\n",
       "      <td>Dark sour ale aged in Leopold Bros. Whiskey ba...</td>\n",
       "      <td>9</td>\n",
       "      <td>7</td>\n",
       "    </tr>\n",
       "    <tr>\n",
       "      <th>3159</th>\n",
       "      <td>18</td>\n",
       "      <td>7.800</td>\n",
       "      <td>Wild Ale - Other</td>\n",
       "      <td>9</td>\n",
       "      <td>10</td>\n",
       "    </tr>\n",
       "    <tr>\n",
       "      <th>3160</th>\n",
       "      <td>10</td>\n",
       "      <td>7.400</td>\n",
       "      <td>Tart cherries, earthy sour, and nuances of fru...</td>\n",
       "      <td>9</td>\n",
       "      <td>4</td>\n",
       "    </tr>\n",
       "    <tr>\n",
       "      <th>3161</th>\n",
       "      <td>9</td>\n",
       "      <td>8.500</td>\n",
       "      <td>Wild Ale - Other</td>\n",
       "      <td>9</td>\n",
       "      <td>8</td>\n",
       "    </tr>\n",
       "  </tbody>\n",
       "</table>\n",
       "<p>1802 rows × 5 columns</p>\n",
       "</div>"
      ],
      "text/plain": [
       "      IBU    ABV                                        Description  type  SRM\n",
       "0      65  8.000  Originally brewed in celebration of the first ...     0   11\n",
       "3      72  6.800  Bursting with pungent American hops, Julius - ...     0    6\n",
       "4      90  8.200  Our Double IPA! We smell a ton of peach on the...     0    9\n",
       "5      90  7.500  Our cross-continental IPA! Made with Australia...     0    5\n",
       "6      72  6.800  Alter Ego is a member of the Julius family, ta...     0   10\n",
       "...   ...    ...                                                ...   ...  ...\n",
       "3157   10  7.000                                   Wild Ale - Other     9   11\n",
       "3158   20  9.666  Dark sour ale aged in Leopold Bros. Whiskey ba...     9    7\n",
       "3159   18  7.800                                   Wild Ale - Other     9   10\n",
       "3160   10  7.400  Tart cherries, earthy sour, and nuances of fru...     9    4\n",
       "3161    9  8.500                                   Wild Ale - Other     9    8\n",
       "\n",
       "[1802 rows x 5 columns]"
      ]
     },
     "execution_count": 100,
     "metadata": {},
     "output_type": "execute_result"
    }
   ],
   "source": [
    "df"
   ]
  },
  {
   "cell_type": "code",
   "execution_count": 98,
   "id": "fcdea41e",
   "metadata": {},
   "outputs": [],
   "source": [
    "# lets make a csv file that will be ready for ML (tke away columns we no longer need)"
   ]
  },
  {
   "cell_type": "code",
   "execution_count": null,
   "id": "ebc6f2df",
   "metadata": {},
   "outputs": [],
   "source": []
  },
  {
   "cell_type": "code",
   "execution_count": 99,
   "id": "76061681",
   "metadata": {},
   "outputs": [],
   "source": [
    "df.drop(columns=['Name', 'style'], axis=1, inplace=True)"
   ]
  },
  {
   "cell_type": "code",
   "execution_count": null,
   "id": "97595201",
   "metadata": {},
   "outputs": [],
   "source": []
  },
  {
   "cell_type": "code",
   "execution_count": 101,
   "id": "db5177b8",
   "metadata": {},
   "outputs": [],
   "source": [
    "df.to_csv('cleaned_data.csv')"
   ]
  },
  {
   "cell_type": "code",
   "execution_count": null,
   "id": "f9788c88",
   "metadata": {},
   "outputs": [],
   "source": []
  }
 ],
 "metadata": {
  "kernelspec": {
   "display_name": "Python 3 (ipykernel)",
   "language": "python",
   "name": "python3"
  },
  "language_info": {
   "codemirror_mode": {
    "name": "ipython",
    "version": 3
   },
   "file_extension": ".py",
   "mimetype": "text/x-python",
   "name": "python",
   "nbconvert_exporter": "python",
   "pygments_lexer": "ipython3",
   "version": "3.10.4"
  }
 },
 "nbformat": 4,
 "nbformat_minor": 5
}
